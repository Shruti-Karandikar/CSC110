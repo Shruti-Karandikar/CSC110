{
 "cells": [
  {
   "cell_type": "markdown",
   "id": "d1608e74",
   "metadata": {},
   "source": [
    "### letter_grade()"
   ]
  },
  {
   "cell_type": "code",
   "execution_count": null,
   "id": "98175066",
   "metadata": {},
   "outputs": [],
   "source": [
    "# Function to determine letter grade from percentage\n",
    "def letter_grade(percentage):\n",
    "    if percentage >= 90 and percentage <= 100:\n",
    "        return \"A\"\n",
    "    elif percentage >= 80 and percentage < 90:\n",
    "        return \"B\"\n",
    "    elif percentage >= 70 and percentage < 80:\n",
    "        return \"C\"\n",
    "    elif percentage >= 60 and percentage < 70:\n",
    "        return \"D\"\n",
    "    elif percentage >= 0 and percentage < 60:\n",
    "        return \"E\"\n",
    "    else:\n",
    "        return \"X\""
   ]
  },
  {
   "cell_type": "code",
   "execution_count": 5,
   "id": "4ef92878",
   "metadata": {},
   "outputs": [
    {
     "name": "stdout",
     "output_type": "stream",
     "text": [
      "The letter grade is: E\n"
     ]
    }
   ],
   "source": [
    "grade_percentage = float(input(\"Enter the percentage grade: \"))\n",
    "letter = letter_grade(grade_percentage)\n",
    "print(f\"The letter grade is: {letter}\")"
   ]
  },
  {
   "cell_type": "markdown",
   "id": "e95ed33a",
   "metadata": {},
   "source": [
    "### pass_or_fail()"
   ]
  },
  {
   "cell_type": "code",
   "execution_count": 6,
   "id": "5127f72f",
   "metadata": {},
   "outputs": [],
   "source": [
    "def pass_or_fail(letter_grade):\n",
    "    if letter_grade == \"A\" or letter_grade == \"B\" or letter_grade == \"C\" or letter_grade == \"D\":\n",
    "        return \"Pass\"\n",
    "    else:\n",
    "        return \"Fail\""
   ]
  },
  {
   "cell_type": "code",
   "execution_count": 7,
   "id": "ce857fed",
   "metadata": {},
   "outputs": [
    {
     "name": "stdout",
     "output_type": "stream",
     "text": [
      "Result: Fail\n"
     ]
    }
   ],
   "source": [
    "grade = input(\"Enter the letter grade (A, B, C, D, E, or X): \")\n",
    "result = pass_or_fail(grade)\n",
    "print(f\"Result: {result}\")"
   ]
  },
  {
   "cell_type": "markdown",
   "id": "39858630",
   "metadata": {},
   "source": [
    "### Calculate percentage – point_grade function"
   ]
  },
  {
   "cell_type": "code",
   "execution_count": 8,
   "id": "53589a86",
   "metadata": {},
   "outputs": [],
   "source": [
    "def point_grade(score, total_points):\n",
    "    percentage = (score / total_points) * 100\n",
    "    rounded_percentage = round(percentage, 2)\n",
    "    return rounded_percentage"
   ]
  },
  {
   "cell_type": "code",
   "execution_count": 9,
   "id": "fef3417d",
   "metadata": {},
   "outputs": [
    {
     "name": "stdout",
     "output_type": "stream",
     "text": [
      "Percentage grade: 56.25%\n"
     ]
    }
   ],
   "source": [
    "student_score = float(input(\"Enter the student's score: \"))\n",
    "maximum_points = float(input(\"Enter the total possible points: \"))\n",
    "percentage = point_grade(student_score, maximum_points)\n",
    "print(f\"Percentage grade: {percentage}%\")"
   ]
  },
  {
   "cell_type": "markdown",
   "id": "479f837f",
   "metadata": {},
   "source": [
    "### Calculate final grade – get_grade_results function"
   ]
  },
  {
   "cell_type": "code",
   "execution_count": 10,
   "id": "a7e7476d",
   "metadata": {},
   "outputs": [],
   "source": [
    "def get_grade_results(score, total_points):\n",
    "    percentage = point_grade(score, total_points)\n",
    "    letter = letter_grade(percentage)\n",
    "    result = pass_or_fail(letter)\n",
    "    \n",
    "    return f\"Your grade is {percentage} ({letter} - {result})\""
   ]
  },
  {
   "cell_type": "code",
   "execution_count": 11,
   "id": "98eaa230",
   "metadata": {},
   "outputs": [
    {
     "name": "stdout",
     "output_type": "stream",
     "text": [
      "Your grade is 56.25 (E - Fail)\n"
     ]
    }
   ],
   "source": [
    "student_score = float(input(\"Enter the student's score: \"))\n",
    "maximum_points = float(input(\"Enter the total possible points: \"))\n",
    "\n",
    "final_result = get_grade_results(student_score, maximum_points)\n",
    "print(final_result)"
   ]
  }
 ],
 "metadata": {
  "kernelspec": {
   "display_name": "base",
   "language": "python",
   "name": "python3"
  },
  "language_info": {
   "codemirror_mode": {
    "name": "ipython",
    "version": 3
   },
   "file_extension": ".py",
   "mimetype": "text/x-python",
   "name": "python",
   "nbconvert_exporter": "python",
   "pygments_lexer": "ipython3",
   "version": "3.12.8"
  }
 },
 "nbformat": 4,
 "nbformat_minor": 5
}
