{
  "nbformat": 4,
  "nbformat_minor": 0,
  "metadata": {
    "colab": {
      "provenance": [],
      "include_colab_link": true
    },
    "kernelspec": {
      "name": "python3",
      "display_name": "Python 3"
    },
    "language_info": {
      "name": "python"
    }
  },
  "cells": [
    {
      "cell_type": "markdown",
      "metadata": {
        "id": "view-in-github",
        "colab_type": "text"
      },
      "source": [
        "<a href=\"https://colab.research.google.com/github/Shruti-Karandikar/CSC110/blob/main/csc_110_practice_08.ipynb\" target=\"_parent\"><img src=\"https://colab.research.google.com/assets/colab-badge.svg\" alt=\"Open In Colab\"/></a>"
      ]
    },
    {
      "cell_type": "markdown",
      "source": [
        "# CSC 110 Spring 2023 Practice Problems -- Set 08\n",
        "\n",
        "This notebook contains a series of practice problems for CSC 110 Computer Programming I.\n",
        "\n",
        "Click on \"File\" and then choose \"Save a copy in Drive\" to create a copy of this notebook that you can make changes to."
      ],
      "metadata": {
        "id": "-XYNI5SFsGTW"
      }
    },
    {
      "cell_type": "code",
      "execution_count": 1,
      "metadata": {
        "id": "Nvyjb0xwj2ER"
      },
      "outputs": [],
      "source": [
        "# don't change this chunk of code, just run it\n",
        "# this is used to test your solution after\n",
        "# you've written your solutions to each problem\n",
        "def pass_or_fail(result, assert_value):\n",
        "  '''\n",
        "  This function tests whether a value returned by a function matches\n",
        "  the expected value -- it's used to test functions\n",
        "  Args:\n",
        "    result: any type returned by a function\n",
        "    assert_value: any type that is expected\n",
        "  Returns:\n",
        "    nothing, it prints messages\n",
        "  '''\n",
        "  # try to assert value returned by function is equal to expected value\n",
        "  try:\n",
        "    assert result == assert_value\n",
        "    print(\"Test passed.\")\n",
        "  except AssertionError: # try failed, values are different\n",
        "    print(\"Test failed. \" + str(result) + \" != \" + str(assert_value))"
      ]
    },
    {
      "cell_type": "markdown",
      "source": [
        "## Maximum Key\n",
        "\n",
        "1. Function name is `max_value_key`\n",
        "1. It takes a `dictionary` as argument, with strings as keys and integers as values\n",
        "1. It iterates over the `dictionary` to find the maximum value, and it returns its key"
      ],
      "metadata": {
        "id": "keDVLI_Iqo9W"
      }
    },
    {
      "cell_type": "code",
      "source": [
        "# write your function here\n",
        "def max_value_key(dictionary):\n",
        "    if not dictionary:\n",
        "        return None\n",
        "\n",
        "    return max(dictionary, key=dictionary.get)"
      ],
      "metadata": {
        "id": "FOma4oZ7kzV5"
      },
      "execution_count": 2,
      "outputs": []
    },
    {
      "cell_type": "markdown",
      "source": [
        "The next chunk of code is meant to test the function you wrote above.\n",
        "\n"
      ],
      "metadata": {
        "id": "uTj_5ZN7rLOI"
      }
    },
    {
      "cell_type": "code",
      "source": [
        "# no need to change this chunk, just run it to see if you pass\n",
        "# all tests listed here\n",
        "test_dictionary = {\"Larry\": 23, \"Jill\": 30, \"Bob\": 35,\n",
        "                   \"Susy\": 20, \"Nees\": 45, \"Kathryn\": 25}\n",
        "\n",
        "pass_or_fail(max_value_key(test_dictionary), \"Nees\")\n",
        "\n",
        "test_dictionary = {\"Larry\": 23, \"Jill\": 30, \"Bob\": 35,\n",
        "                   \"Susy\": 20, \"George\": 45, \"Kathryn\": 25}\n",
        "\n",
        "pass_or_fail(max_value_key(test_dictionary), \"George\")\n",
        "\n"
      ],
      "metadata": {
        "id": "AdoBYpD_rQV-",
        "outputId": "9144d000-314f-4208-ed77-b8b88bc6f3b6",
        "colab": {
          "base_uri": "https://localhost:8080/"
        }
      },
      "execution_count": 3,
      "outputs": [
        {
          "output_type": "stream",
          "name": "stdout",
          "text": [
            "Test passed.\n",
            "Test passed.\n"
          ]
        }
      ]
    },
    {
      "cell_type": "markdown",
      "source": [
        "# Max value in dictionary\n",
        "\n",
        "1. Function name is `max_value`\n",
        "1. It takes a `dictionary` as argument, with strings as keys and integers as values\n",
        "1. It iterates over the dictionary to find the maximum value, and it returns that value\n"
      ],
      "metadata": {
        "id": "nBIfPvEKJI54"
      }
    },
    {
      "cell_type": "code",
      "source": [
        "# write your function here\n",
        "def max_value(dictionary):\n",
        "    if not dictionary:\n",
        "        return None\n",
        "\n",
        "    return max(dictionary.values())"
      ],
      "metadata": {
        "id": "8fdauRN_J4NP"
      },
      "execution_count": 4,
      "outputs": []
    },
    {
      "cell_type": "markdown",
      "source": [
        "The next chunk of code is meant to test the function you wrote above."
      ],
      "metadata": {
        "id": "Yn_3S7BKKHdn"
      }
    },
    {
      "cell_type": "code",
      "source": [
        "# no need to change this chunk, just run it to see if you pass\n",
        "# all tests listed here\n",
        "test_dictionary = {\"Larry\": 23, \"Jill\": 30, \"Bob\": 35,\n",
        "                   \"Susy\": 20, \"Nees\": 45, \"Kathryn\": 25}\n",
        "\n",
        "pass_or_fail(max_value(test_dictionary), 45)\n",
        "\n",
        "test_dictionary = {\"Larry\": 23, \"Jill\": 30, \"Bob\": 35,\n",
        "                   \"Susy\": 50, \"George\": 45, \"Kathryn\": 25}\n",
        "\n",
        "pass_or_fail(max_value(test_dictionary), 50)\n"
      ],
      "metadata": {
        "id": "WYrijA3LKEO9",
        "outputId": "4b601df5-7220-491b-ac42-b66398992f48",
        "colab": {
          "base_uri": "https://localhost:8080/"
        }
      },
      "execution_count": 5,
      "outputs": [
        {
          "output_type": "stream",
          "name": "stdout",
          "text": [
            "Test passed.\n",
            "Test passed.\n"
          ]
        }
      ]
    },
    {
      "cell_type": "markdown",
      "source": [
        "# Flatten dictionary\n",
        "\n",
        "1. Function name is `flatten`\n",
        "1. It takes a `dictionary` as argument\n",
        "1. It returns a list with each key and value in `dictionary`"
      ],
      "metadata": {
        "id": "be5oFt0eLBBR"
      }
    },
    {
      "cell_type": "code",
      "source": [
        "# write your function here\n",
        "def flatten(dictionary):\n",
        "    result = []\n",
        "\n",
        "    for key, value in dictionary.items():\n",
        "        result.append(key)\n",
        "        result.append(value)\n",
        "\n",
        "    return result"
      ],
      "metadata": {
        "id": "_bxSx3CVOdAf"
      },
      "execution_count": 6,
      "outputs": []
    },
    {
      "cell_type": "markdown",
      "source": [
        "The next chunk of code is meant to test the function you wrote above."
      ],
      "metadata": {
        "id": "izfSAVO_OjU1"
      }
    },
    {
      "cell_type": "code",
      "source": [
        "# no need to change this chunk, just run it to see if you pass\n",
        "# all tests listed here\n",
        "test_dictionary = {\"Larry\": 23, \"Jill\": 30, \"Bob\": 35,\n",
        "                   \"Susy\": 20, \"Nees\": 45, \"Kathryn\": 25}\n",
        "\n",
        "pass_or_fail(flatten(test_dictionary),\n",
        "             [\"Larry\", 23, \"Jill\", 30, \"Bob\", 35,\n",
        "              \"Susy\", 20, \"Nees\", 45, \"Kathryn\", 25])\n",
        "\n",
        "test_dictionary = {}\n",
        "\n",
        "pass_or_fail(flatten(test_dictionary), [])"
      ],
      "metadata": {
        "id": "70j1cJd1Oohr",
        "outputId": "888546a3-d45a-40cc-c969-7e37694d1660",
        "colab": {
          "base_uri": "https://localhost:8080/"
        }
      },
      "execution_count": 7,
      "outputs": [
        {
          "output_type": "stream",
          "name": "stdout",
          "text": [
            "Test passed.\n",
            "Test passed.\n"
          ]
        }
      ]
    },
    {
      "cell_type": "markdown",
      "source": [
        "# Merge dictionaries\n",
        "\n",
        "1. Function name is `merge`\n",
        "1. It takes to dictionaries as arguments\n",
        "1. It **mutates** the first dictionary, adding key value pairs from the second dictionary into the first dictionary\n",
        "1. If the same key is present in both dictionaries, the values are added\n",
        "1. It doesn't return anything"
      ],
      "metadata": {
        "id": "IokGSfXBVg1N"
      }
    },
    {
      "cell_type": "code",
      "source": [
        "# write your function here\n",
        "def merge(dict1, dict2):\n",
        "    for key, value in dict2.items():\n",
        "        if key in dict1:\n",
        "            dict1[key] += value\n",
        "        else:\n",
        "            dict1[key] = value\n"
      ],
      "metadata": {
        "id": "ha9stX04V1bF"
      },
      "execution_count": 18,
      "outputs": []
    },
    {
      "cell_type": "markdown",
      "source": [
        "The next chunk of code is meant to test the function you wrote above."
      ],
      "metadata": {
        "id": "VqCvRVetWNVv"
      }
    },
    {
      "cell_type": "code",
      "source": [
        "# no need to change this chunk, just run it to see if you pass\n",
        "# all tests listed here\n",
        "test_dict_one = {\"Larry\": 23, \"Jill\": 30, \"Bob\": 35,\n",
        "                  \"Susy\": 20, \"Nees\": 45, \"Kathryn\": 25}\n",
        "\n",
        "test_dict_two = {\"Nees\": 3, \"Adriana\": 10}\n",
        "\n",
        "merge(test_dict_one, test_dict_two)\n",
        "\n",
        "pass_or_fail(test_dict_one, {\"Larry\": 23, \"Jill\": 30, \"Bob\": 35,\n",
        "                             \"Susy\": 20, \"Nees\": 48,\n",
        "                             \"Kathryn\": 25, \"Adriana\": 10})\n"
      ],
      "metadata": {
        "id": "9txdchL3WN-n",
        "outputId": "1d167dee-b7f2-48bc-da67-602f6c922165",
        "colab": {
          "base_uri": "https://localhost:8080/"
        }
      },
      "execution_count": 19,
      "outputs": [
        {
          "output_type": "stream",
          "name": "stdout",
          "text": [
            "Test passed.\n"
          ]
        }
      ]
    },
    {
      "cell_type": "markdown",
      "source": [
        "# Create dictionary\n",
        "\n",
        "1. Function name is `create_sqr_dict`\n",
        "1. It takes an integer `n` as argument\n",
        "1. It creates a new dictionary starting at `1` going all the way to `n` (inclusive) where key is `n` and value is the `square of n`\n",
        "1. It returns the dictionary with squares"
      ],
      "metadata": {
        "id": "4fPicMwKW8eP"
      }
    },
    {
      "cell_type": "code",
      "source": [
        "# write your function here\n",
        "def create_sqr_dict(n):\n",
        "    result = {}\n",
        "    for i in range(1, n + 1):\n",
        "        result[i] = i * i\n",
        "    return result\n"
      ],
      "metadata": {
        "id": "MOfuyzk6XFa2"
      },
      "execution_count": 16,
      "outputs": []
    },
    {
      "cell_type": "markdown",
      "source": [
        "The next chunk of code is meant to test the function you wrote above."
      ],
      "metadata": {
        "id": "5xyCX5xbXI9I"
      }
    },
    {
      "cell_type": "code",
      "source": [
        "# no need to change this chunk, just run it to see if you pass\n",
        "# all tests listed here\n",
        "pass_or_fail( create_sqr_dict(6), {1: 1, 2: 4, 3: 9, 4: 16, 5: 25, 6: 36})\n",
        "pass_or_fail( create_sqr_dict(0), {})\n",
        "pass_or_fail( create_sqr_dict(2), {1: 1, 2: 4})"
      ],
      "metadata": {
        "id": "4FQbJgToXHoP",
        "outputId": "c11ab95c-0386-4c4f-ac9e-df0f028cf4cb",
        "colab": {
          "base_uri": "https://localhost:8080/"
        }
      },
      "execution_count": 17,
      "outputs": [
        {
          "output_type": "stream",
          "name": "stdout",
          "text": [
            "Test passed.\n",
            "Test passed.\n",
            "Test passed.\n"
          ]
        }
      ]
    },
    {
      "cell_type": "markdown",
      "source": [
        "# Sum all keys and values\n",
        "\n",
        "1. Function name is `sum_all`\n",
        "1. It takes a `dictionary` where the keys and values are integers\n",
        "1. It iterates over the keys and values in `dictionary` summing all the values to one `total` variable\n",
        "1. It returns `total`\n"
      ],
      "metadata": {
        "id": "gnA9J5eqX_yl"
      }
    },
    {
      "cell_type": "code",
      "source": [
        "# write your function here\n",
        "def sum_all(my_dict):\n",
        "    total = 0\n",
        "    for key, value in my_dict.items():\n",
        "        total += key + value\n",
        "    return total\n"
      ],
      "metadata": {
        "id": "USLKx7QuZ0TM"
      },
      "execution_count": 14,
      "outputs": []
    },
    {
      "cell_type": "markdown",
      "source": [
        "The next chunk of code is meant to test the function you wrote above"
      ],
      "metadata": {
        "id": "40_eYzD1aoj8"
      }
    },
    {
      "cell_type": "code",
      "source": [
        "# no need to change this chunk, just run it to see if you pass\n",
        "# all tests listed here\n",
        "pass_or_fail( sum_all({1: 3, 2: 4, 5: 10}), 25 )\n",
        "pass_or_fail( sum_all({}), 0 )\n",
        "pass_or_fail( sum_all({1: 1}), 2 )"
      ],
      "metadata": {
        "id": "aMyb9FjyacYr",
        "outputId": "2e39fefb-1890-4875-fd07-74c3b0fc6ab0",
        "colab": {
          "base_uri": "https://localhost:8080/"
        }
      },
      "execution_count": 15,
      "outputs": [
        {
          "output_type": "stream",
          "name": "stdout",
          "text": [
            "Test passed.\n",
            "Test passed.\n",
            "Test passed.\n"
          ]
        }
      ]
    },
    {
      "cell_type": "markdown",
      "source": [
        "# Multiply all keys and values\n",
        "\n",
        "1. Function name is `multiply_all`\n",
        "1. It takes a dictionary where the keys and values are integers\n",
        "1. It iterates over the keys and values in dictionary multiplying all the values to one total variable\n",
        "1. It returns total"
      ],
      "metadata": {
        "id": "e59awJUHFjVY"
      }
    },
    {
      "cell_type": "code",
      "source": [
        "# write your function here\n",
        "def multiply_all(my_dict):\n",
        "    total = 1\n",
        "    for key, value in my_dict.items():\n",
        "        total *= key * value\n",
        "    return total\n"
      ],
      "metadata": {
        "id": "hHnE7n46FvDN"
      },
      "execution_count": 12,
      "outputs": []
    },
    {
      "cell_type": "markdown",
      "source": [
        "The next chunk of code is meant to test the function you wrote above\n",
        "\n"
      ],
      "metadata": {
        "id": "-i5krpywF1mC"
      }
    },
    {
      "cell_type": "code",
      "source": [
        "# no need to change this chunk, just run it to see if you pass\n",
        "# all tests listed here\n",
        "pass_or_fail( multiply_all({1: 3, 2: 4, 5: 10}), 1200 )\n",
        "pass_or_fail( multiply_all({}), 1 )\n",
        "pass_or_fail( multiply_all({1: 1}), 1 )"
      ],
      "metadata": {
        "id": "CuOoVBTvF31R",
        "outputId": "f1a03aec-8016-4302-890e-02956135f367",
        "colab": {
          "base_uri": "https://localhost:8080/"
        }
      },
      "execution_count": 13,
      "outputs": [
        {
          "output_type": "stream",
          "name": "stdout",
          "text": [
            "Test passed.\n",
            "Test passed.\n",
            "Test passed.\n"
          ]
        }
      ]
    },
    {
      "cell_type": "markdown",
      "source": [
        "# Append all dictionary keys to list\n",
        "\n",
        "1. Function name is `keys_only`\n",
        "1. It takes a dictionary where the keys and values are integers\n",
        "1. It iterates over the keys appending each key to a new list\n",
        "1. It returns list of keys"
      ],
      "metadata": {
        "id": "Ax3xh4NjUhJw"
      }
    },
    {
      "cell_type": "code",
      "source": [
        "# write your function here\n",
        "def keys_only(my_dict):\n",
        "    result = []\n",
        "    for key in my_dict:\n",
        "        result.append(key)\n",
        "    return result\n"
      ],
      "metadata": {
        "id": "xk5lM2QrUt_E"
      },
      "execution_count": 10,
      "outputs": []
    },
    {
      "cell_type": "markdown",
      "source": [
        "The next chunk of code is meant to test the function you wrote above"
      ],
      "metadata": {
        "id": "tziDGlRtUybK"
      }
    },
    {
      "cell_type": "code",
      "source": [
        "# no need to change this chunk, just run it to see if you pass\n",
        "# all tests listed here\n",
        "pass_or_fail( keys_only({1: 3, 2: 4, 5: 10}), [1, 2, 5] )\n",
        "pass_or_fail( keys_only({}), [] )\n",
        "pass_or_fail( keys_only({1: 1}), [1] )"
      ],
      "metadata": {
        "id": "OuEBHpDdU3rN",
        "outputId": "f6f78450-1bc9-4043-8f3f-dc8d94ad7c04",
        "colab": {
          "base_uri": "https://localhost:8080/"
        }
      },
      "execution_count": 11,
      "outputs": [
        {
          "output_type": "stream",
          "name": "stdout",
          "text": [
            "Test passed.\n",
            "Test passed.\n",
            "Test passed.\n"
          ]
        }
      ]
    },
    {
      "cell_type": "markdown",
      "source": [
        "# Append all dictionary values to list\n",
        "\n",
        "1. Function name is `values_only`\n",
        "1. It takes a dictionary where the keys and values are integers\n",
        "1. It iterates over the values in dictionary appending each value to a new list\n",
        "1. It returns list of values"
      ],
      "metadata": {
        "id": "p6Qaj5akVEXg"
      }
    },
    {
      "cell_type": "code",
      "source": [
        "# write your function here\n",
        "def values_only(my_dict):\n",
        "    result = []\n",
        "    for value in my_dict.values():\n",
        "        result.append(value)\n",
        "    return result"
      ],
      "metadata": {
        "id": "tEqpiahLVMBD"
      },
      "execution_count": 8,
      "outputs": []
    },
    {
      "cell_type": "markdown",
      "source": [
        "\n",
        "The next chunk of code is meant to test the function you wrote above"
      ],
      "metadata": {
        "id": "qYZgD66nVMz-"
      }
    },
    {
      "cell_type": "code",
      "source": [
        "# no need to change this chunk, just run it to see if you pass\n",
        "# all tests listed here\n",
        "pass_or_fail( values_only({1: 3, 2: 4, 5: 10}), [3, 4, 10] )\n",
        "pass_or_fail( values_only({}), [] )\n",
        "pass_or_fail( values_only({1: 1}), [1] )"
      ],
      "metadata": {
        "id": "H0nrs3IUVRFg",
        "outputId": "774588d6-7256-4335-8f5c-48ddb38abb00",
        "colab": {
          "base_uri": "https://localhost:8080/"
        }
      },
      "execution_count": 9,
      "outputs": [
        {
          "output_type": "stream",
          "name": "stdout",
          "text": [
            "Test passed.\n",
            "Test passed.\n",
            "Test passed.\n"
          ]
        }
      ]
    }
  ]
}