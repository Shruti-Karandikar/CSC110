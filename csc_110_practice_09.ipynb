{
  "nbformat": 4,
  "nbformat_minor": 0,
  "metadata": {
    "colab": {
      "provenance": [],
      "include_colab_link": true
    },
    "kernelspec": {
      "name": "python3",
      "display_name": "Python 3"
    },
    "language_info": {
      "name": "python"
    }
  },
  "cells": [
    {
      "cell_type": "markdown",
      "metadata": {
        "id": "view-in-github",
        "colab_type": "text"
      },
      "source": [
        "<a href=\"https://colab.research.google.com/github/Shruti-Karandikar/CSC110/blob/main/csc_110_practice_09.ipynb\" target=\"_parent\"><img src=\"https://colab.research.google.com/assets/colab-badge.svg\" alt=\"Open In Colab\"/></a>"
      ]
    },
    {
      "cell_type": "markdown",
      "source": [
        "# CSC 110 Spring 2023 Practice Problems -- Set 09\n",
        "\n",
        "This notebook contains a series of practice problems for CSC 110 Computer Programming I.\n",
        "\n",
        "Click on \"File\" and then choose \"Save a copy in Drive\" to create a copy of this notebook that you can make changes to."
      ],
      "metadata": {
        "id": "-XYNI5SFsGTW"
      }
    },
    {
      "cell_type": "code",
      "execution_count": 1,
      "metadata": {
        "id": "Nvyjb0xwj2ER"
      },
      "outputs": [],
      "source": [
        "# don't change this chunk of code, just run it\n",
        "# this is used to test your solution after\n",
        "# you've written your solutions to each problem\n",
        "def pass_or_fail(result, assert_value):\n",
        "  '''\n",
        "  This function tests whether a value returned by a function matches\n",
        "  the expected value -- it's used to test functions\n",
        "  Args:\n",
        "    result: any type returned by a function\n",
        "    assert_value: any type that is expected\n",
        "  Returns:\n",
        "    nothing, it prints messages\n",
        "  '''\n",
        "  # try to assert value returned by function is equal to expected value\n",
        "  try:\n",
        "    assert result == assert_value\n",
        "    print(\"Test passed.\")\n",
        "  except AssertionError: # try failed, values are different\n",
        "    print(\"Test failed. \" + str(result) + \" != \" + str(assert_value))"
      ]
    },
    {
      "cell_type": "markdown",
      "source": [
        "## Read a file\n",
        "\n",
        "1. Function name is `most_common_vehicle`.\n",
        "1. It takes one argument, a name of a file with vehicle ownership info in it, each line contains a car make and a number with the total number of owners for that make -- the values are separated by comma\n",
        "1. It reads the file lines, and determines which make is most common, or if there is a tie\n",
        "1. You can assume each line contains only two values separated by a comma (the first value is the make, the second number of owners)\n",
        "1. It returns the make (a string) with the most number of owners"
      ],
      "metadata": {
        "id": "keDVLI_Iqo9W"
      }
    },
    {
      "cell_type": "code",
      "source": [
        "# run this line to create the file\n",
        "vehicles = open(\"vehicles.txt\", \"w\")\n",
        "vehicles.write(\"Ford,300\\n\")\n",
        "vehicles.write(\"Toyota,2100\\n\")\n",
        "vehicles.write(\"Chevy,500\\n\")\n",
        "vehicles.close()"
      ],
      "metadata": {
        "id": "YNV1ZmERcQ5a"
      },
      "execution_count": 2,
      "outputs": []
    },
    {
      "cell_type": "code",
      "source": [
        "# write your function here\n",
        "def most_common_vehicle(filename):\n",
        "    most_common = \"\"\n",
        "    max_owners = -1\n",
        "\n",
        "    with open(filename, 'r') as file:\n",
        "        for line in file:\n",
        "            make, owners = line.strip().split(',')\n",
        "            owners = int(owners)\n",
        "\n",
        "            if owners > max_owners:\n",
        "                max_owners = owners\n",
        "                most_common = make\n",
        "            elif owners == max_owners:\n",
        "                most_common = \"tie\"\n",
        "\n",
        "    return most_common\n"
      ],
      "metadata": {
        "id": "FOma4oZ7kzV5"
      },
      "execution_count": 5,
      "outputs": []
    },
    {
      "cell_type": "markdown",
      "source": [
        "The next chunk of code is meant to test the function you wrote above.\n",
        "\n"
      ],
      "metadata": {
        "id": "uTj_5ZN7rLOI"
      }
    },
    {
      "cell_type": "code",
      "source": [
        "# no need to change this chunk, just run it to see if you pass\n",
        "# all tests listed here\n",
        "pass_or_fail(most_common_vehicle(\"vehicles.txt\"), \"Toyota\")\n"
      ],
      "metadata": {
        "id": "AdoBYpD_rQV-",
        "outputId": "08eb0fbe-b0c6-416d-bc0f-fc5ee4e74ac1",
        "colab": {
          "base_uri": "https://localhost:8080/"
        }
      },
      "execution_count": 4,
      "outputs": [
        {
          "output_type": "stream",
          "name": "stdout",
          "text": [
            "Test passed.\n"
          ]
        }
      ]
    },
    {
      "cell_type": "markdown",
      "source": [
        "# Read and write files\n",
        "\n",
        "1. Function name is `get_supply_count`\n",
        "1. It takes a string argument for a file name -- each line in this file contains the name of product followed by space and the total number of supplies for that product\n",
        "1. It opens the file in read mode\n",
        "1. It iterates over the file lines, adding the total supply to a control variable\n",
        "1. It opens a file called `total.txt` in write mode and writes the total supply to it (with no line breaks, just the one number)\n",
        "\n"
      ],
      "metadata": {
        "id": "nBIfPvEKJI54"
      }
    },
    {
      "cell_type": "code",
      "source": [
        "# run this line to create the input text file for the next function\n",
        "supplies = open(\"supplies.txt\", \"w\")\n",
        "supplies.write(\"tv 0\\n\")\n",
        "supplies.write(\"mouse 100\\n\")\n",
        "supplies.write(\"monitor 0\\n\")\n",
        "supplies.write(\"speakers 12\\n\")\n",
        "supplies.write(\"iphone 5\\n\")\n",
        "supplies.close()"
      ],
      "metadata": {
        "id": "JvX-3NZ0fSGx"
      },
      "execution_count": 9,
      "outputs": []
    },
    {
      "cell_type": "code",
      "source": [
        "# write your function here\n",
        "def get_supply_count(filename):\n",
        "    total = 0\n",
        "\n",
        "    with open(filename, 'r') as file:\n",
        "        for line in file:\n",
        "            parts = line.strip().split()\n",
        "            if len(parts) == 2:\n",
        "                supply = int(parts[1])\n",
        "                total += supply\n",
        "\n",
        "    with open(\"total.txt\", \"w\") as out_file:\n",
        "        out_file.write(str(total))\n"
      ],
      "metadata": {
        "id": "8fdauRN_J4NP"
      },
      "execution_count": 10,
      "outputs": []
    },
    {
      "cell_type": "markdown",
      "source": [
        "The next chunk of code is meant to test the function you wrote above."
      ],
      "metadata": {
        "id": "Yn_3S7BKKHdn"
      }
    },
    {
      "cell_type": "code",
      "source": [
        "# no need to change this chunk, just run it to see if you pass\n",
        "# all tests listed here\n",
        "get_supply_count(\"supplies.txt\")\n",
        "value = int(open(\"total.txt\",\"r\").read().strip())\n",
        "pass_or_fail(value, 117)\n"
      ],
      "metadata": {
        "id": "WYrijA3LKEO9",
        "outputId": "05255154-f289-4e0a-a0de-8bf6c31ee3be",
        "colab": {
          "base_uri": "https://localhost:8080/"
        }
      },
      "execution_count": 11,
      "outputs": [
        {
          "output_type": "stream",
          "name": "stdout",
          "text": [
            "Test passed.\n"
          ]
        }
      ]
    },
    {
      "cell_type": "markdown",
      "source": [
        "# Read and write files II\n",
        "\n",
        "1. Function name is `repeat_file`\n",
        "1. It takes three arguments: `in_file_name` (string, file name), `out_file_name` (string, file name), and `n` (integer)\n",
        "1. It opens the file with the `in_file_name` file name in read mode, and it reads the content of the file\n",
        "1. It opens the file with the `out_file_name` file name in write mode, and it writes the contents read in the previous step `n` times"
      ],
      "metadata": {
        "id": "be5oFt0eLBBR"
      }
    },
    {
      "cell_type": "code",
      "source": [
        "# run this to create the input file for the test\n",
        "input_file = open(\"input.txt\", \"w\")\n",
        "input_file.write(\"hello there\\n\")\n",
        "input_file.close()"
      ],
      "metadata": {
        "id": "XOPS_eznh_y4"
      },
      "execution_count": 6,
      "outputs": []
    },
    {
      "cell_type": "code",
      "source": [
        "# write your function here\n",
        "def repeat_file(in_file_name, out_file_name, n):\n",
        "    with open(in_file_name, 'r') as in_file:\n",
        "        content = in_file.read()\n",
        "\n",
        "    with open(out_file_name, 'w') as out_file:\n",
        "        for _ in range(n):\n",
        "            out_file.write(content)\n"
      ],
      "metadata": {
        "id": "_bxSx3CVOdAf"
      },
      "execution_count": 7,
      "outputs": []
    },
    {
      "cell_type": "markdown",
      "source": [
        "The next chunk of code is meant to test the function you wrote above."
      ],
      "metadata": {
        "id": "izfSAVO_OjU1"
      }
    },
    {
      "cell_type": "code",
      "source": [
        "# no need to change this chunk, just run it to see if you pass\n",
        "# all tests listed here\n",
        "repeat_file(\"input.txt\", \"output.txt\", 2)\n",
        "test_file = open(\"output.txt\").read()\n",
        "pass_or_fail(test_file, \"hello there\\nhello there\\n\")\n",
        "\n",
        "repeat_file(\"input.txt\", \"output.txt\", 0)\n",
        "test_file = open(\"output.txt\").read()\n",
        "pass_or_fail(test_file, \"\")"
      ],
      "metadata": {
        "id": "70j1cJd1Oohr",
        "outputId": "8d841b6d-5caa-4061-feb3-df5ae8b2ee5a",
        "colab": {
          "base_uri": "https://localhost:8080/"
        }
      },
      "execution_count": 8,
      "outputs": [
        {
          "output_type": "stream",
          "name": "stdout",
          "text": [
            "Test passed.\n",
            "Test passed.\n"
          ]
        }
      ]
    }
  ]
}