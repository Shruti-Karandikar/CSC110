{
  "nbformat": 4,
  "nbformat_minor": 0,
  "metadata": {
    "colab": {
      "provenance": [],
      "include_colab_link": true
    },
    "kernelspec": {
      "name": "python3",
      "display_name": "Python 3"
    },
    "language_info": {
      "name": "python"
    }
  },
  "cells": [
    {
      "cell_type": "markdown",
      "metadata": {
        "id": "view-in-github",
        "colab_type": "text"
      },
      "source": [
        "<a href=\"https://colab.research.google.com/github/Shruti-Karandikar/CSC110/blob/main/csc_110_practice_midterm_2.ipynb\" target=\"_parent\"><img src=\"https://colab.research.google.com/assets/colab-badge.svg\" alt=\"Open In Colab\"/></a>"
      ]
    },
    {
      "cell_type": "markdown",
      "source": [
        "# CSC 110 Spring 2023 Practice Problems -- Midterm 2 study guide\n",
        "\n",
        "This notebook contains a series of practice problems for CSC 110 Computer Programming I.\n",
        "\n",
        "Click on \"File\" and then choose \"Save a copy in Drive\" to create a copy of this notebook that you can make changes to."
      ],
      "metadata": {
        "id": "-XYNI5SFsGTW"
      }
    },
    {
      "cell_type": "code",
      "execution_count": 1,
      "metadata": {
        "id": "Nvyjb0xwj2ER"
      },
      "outputs": [],
      "source": [
        "# don't change this chunk of code, just run it\n",
        "# this is used to test your solution after\n",
        "# you've written your solutions to each problem\n",
        "def pass_or_fail(result, assert_value):\n",
        "  '''\n",
        "  This function tests whether a value returned by a function matches\n",
        "  the expected value -- it's used to test functions\n",
        "  Args:\n",
        "    result: any type returned by a function\n",
        "    assert_value: any type that is expected\n",
        "  Returns:\n",
        "    nothing, it prints messages\n",
        "  '''\n",
        "  # try to assert value returned by function is equal to expected value\n",
        "  try:\n",
        "    assert result == assert_value\n",
        "    print(\"Test passed.\")\n",
        "  except AssertionError: # try failed, values are different\n",
        "    print(\"Test failed. \" + str(result) + \" != \" + str(assert_value))"
      ]
    },
    {
      "cell_type": "markdown",
      "source": [
        "## Create new list I\n",
        "\n",
        "1. Function name is `get_evens`\n",
        "1. It has one parameter: a list of `integers`\n",
        "1. It returns **a new list** with only even numbers found in the argument list"
      ],
      "metadata": {
        "id": "keDVLI_Iqo9W"
      }
    },
    {
      "cell_type": "code",
      "source": [
        "# write your function here\n",
        "def get_evens(integers):\n",
        "    even_numbers = []\n",
        "    for num in integers:\n",
        "        if num % 2 == 0:\n",
        "            even_numbers.append(num)\n",
        "\n",
        "    return even_numbers\n"
      ],
      "metadata": {
        "id": "FOma4oZ7kzV5"
      },
      "execution_count": 2,
      "outputs": []
    },
    {
      "cell_type": "markdown",
      "source": [
        "The next chunk of code is meant to test the function you wrote above.\n",
        "\n"
      ],
      "metadata": {
        "id": "uTj_5ZN7rLOI"
      }
    },
    {
      "cell_type": "code",
      "source": [
        "# no need to change this chunk, just run it to see if you pass\n",
        "# all tests listed here\n",
        "pass_or_fail(get_evens([]) , [])\n",
        "pass_or_fail(get_evens([1, 3, 1]) , [])\n",
        "pass_or_fail(get_evens([1, 2, 2, 3, 1, 4, 2]) , [2, 2, 4, 2])"
      ],
      "metadata": {
        "id": "AdoBYpD_rQV-",
        "outputId": "61bda08d-8d98-48d5-88f6-eb6967eb4938",
        "colab": {
          "base_uri": "https://localhost:8080/"
        }
      },
      "execution_count": 3,
      "outputs": [
        {
          "output_type": "stream",
          "name": "stdout",
          "text": [
            "Test passed.\n",
            "Test passed.\n",
            "Test passed.\n"
          ]
        }
      ]
    },
    {
      "cell_type": "markdown",
      "source": [
        "## Create new list II\n",
        "\n",
        "1. Function name is `get_evens_nested`\n",
        "1. It has one parameter: a 2D list (list of lists) of `integers`\n",
        "1. It returns **a new list** with only even numbers found in the argument list\n"
      ],
      "metadata": {
        "id": "nBIfPvEKJI54"
      }
    },
    {
      "cell_type": "code",
      "source": [
        "# write your function here\n",
        "def get_evens_nested(nested_list):\n",
        "    even_numbers = []\n",
        "\n",
        "    for sublist in nested_list:\n",
        "        for num in sublist:\n",
        "            if num % 2 == 0:\n",
        "                even_numbers.append(num)\n",
        "\n",
        "    return even_numbers"
      ],
      "metadata": {
        "id": "8fdauRN_J4NP"
      },
      "execution_count": 4,
      "outputs": []
    },
    {
      "cell_type": "markdown",
      "source": [
        "The next chunk of code is meant to test the function you wrote above."
      ],
      "metadata": {
        "id": "Yn_3S7BKKHdn"
      }
    },
    {
      "cell_type": "code",
      "source": [
        "# no need to change this chunk, just run it to see if you pass\n",
        "# all tests listed here\n",
        "pass_or_fail(get_evens_nested([[]]) , [])\n",
        "pass_or_fail(get_evens_nested([[1], [3, 1]]) , [])\n",
        "pass_or_fail(get_evens_nested([[1, 2], [2, 3, 1], [4, 2]]) , [2, 2, 4, 2])\n"
      ],
      "metadata": {
        "id": "WYrijA3LKEO9",
        "outputId": "a46120cd-b569-486b-a5a3-60b36dc93a82",
        "colab": {
          "base_uri": "https://localhost:8080/"
        }
      },
      "execution_count": 5,
      "outputs": [
        {
          "output_type": "stream",
          "name": "stdout",
          "text": [
            "Test passed.\n",
            "Test passed.\n",
            "Test passed.\n"
          ]
        }
      ]
    },
    {
      "cell_type": "markdown",
      "source": [
        "# Mutate list I -- .pop()\n",
        "\n",
        "1. Function name is `remove_evens`\n",
        "1. It has one parameter: a list of `integers`\n",
        "1. It **mutates and returns** the `integers` argument list to remove even numbers\n",
        "\n"
      ],
      "metadata": {
        "id": "Wep9j_eZTZ6L"
      }
    },
    {
      "cell_type": "code",
      "source": [
        "# write your function here\n",
        "def remove_evens(integers):\n",
        "    i = len(integers) - 1\n",
        "\n",
        "    while i >= 0:\n",
        "        if integers[i] % 2 == 0:\n",
        "            integers.pop(i)\n",
        "        i -= 1\n",
        "\n",
        "    return integers"
      ],
      "metadata": {
        "id": "LNbK6JLsToRo"
      },
      "execution_count": 6,
      "outputs": []
    },
    {
      "cell_type": "markdown",
      "source": [
        "The next chunk of code is meant to test the function you wrote above."
      ],
      "metadata": {
        "id": "ZTADbrydTyff"
      }
    },
    {
      "cell_type": "code",
      "source": [
        "# no need to change this chunk, just run it to see if you pass\n",
        "# all tests listed here\n",
        "test_list = [1, 2, 2, 1, 3]\n",
        "remove_evens(test_list)\n",
        "pass_or_fail(test_list, [1, 1, 3])\n",
        "\n",
        "test_list = [1, 2, 4, 4, 1, 3, 4]\n",
        "remove_evens(test_list)\n",
        "pass_or_fail(test_list, [1, 1, 3])\n",
        "\n",
        "test_list = []\n",
        "remove_evens(test_list)\n",
        "pass_or_fail(test_list, [])\n",
        "\n",
        "pass_or_fail(remove_evens([0, 0, 2, 2]), [])\n"
      ],
      "metadata": {
        "id": "2xUIax3DTyF-",
        "outputId": "4ac98452-c90a-421d-a454-f978f6c2fa13",
        "colab": {
          "base_uri": "https://localhost:8080/"
        }
      },
      "execution_count": 7,
      "outputs": [
        {
          "output_type": "stream",
          "name": "stdout",
          "text": [
            "Test passed.\n",
            "Test passed.\n",
            "Test passed.\n",
            "Test passed.\n"
          ]
        }
      ]
    },
    {
      "cell_type": "markdown",
      "source": [
        "# Mutate list II -- .pop()\n",
        "\n",
        "1. Function name is `remove_over_ten`\n",
        "1. It has one parameter: a list of `integers`\n",
        "1. It **mutates and returns** the `integers` argument list to remove all numbers that are greater than 10"
      ],
      "metadata": {
        "id": "Xqg8no4vU3wQ"
      }
    },
    {
      "cell_type": "code",
      "source": [
        "# write your function here\n",
        "def remove_over_ten(integers):\n",
        "    i = len(integers) - 1\n",
        "\n",
        "    while i >= 0:\n",
        "        if integers[i] > 10:\n",
        "            integers.pop(i)\n",
        "        i -= 1\n",
        "\n",
        "    return integers"
      ],
      "metadata": {
        "id": "dtfahKhaVCid"
      },
      "execution_count": 8,
      "outputs": []
    },
    {
      "cell_type": "markdown",
      "source": [
        "The next chunk of code is meant to test the function you wrote above."
      ],
      "metadata": {
        "id": "zs5pmN0WVOkl"
      }
    },
    {
      "cell_type": "code",
      "source": [
        "# no need to change this chunk, just run it to see if you pass\n",
        "# all tests listed here\n",
        "test_list = [1, 20, 1, 30]\n",
        "remove_over_ten(test_list)\n",
        "pass_or_fail(test_list, [1, 1])\n",
        "\n",
        "test_list = [10, 2, 10, 30, 40]\n",
        "remove_over_ten(test_list)\n",
        "pass_or_fail(test_list, [10, 2, 10])\n",
        "\n",
        "pass_or_fail(remove_over_ten([1, 11]), [1])\n",
        "\n",
        "pass_or_fail(remove_over_ten([]), [])"
      ],
      "metadata": {
        "id": "I2bO5Ro5VR4z",
        "outputId": "1f1f2211-10a2-4620-d7c3-3c451fe8869c",
        "colab": {
          "base_uri": "https://localhost:8080/"
        }
      },
      "execution_count": 9,
      "outputs": [
        {
          "output_type": "stream",
          "name": "stdout",
          "text": [
            "Test passed.\n",
            "Test passed.\n",
            "Test passed.\n",
            "Test passed.\n"
          ]
        }
      ]
    },
    {
      "cell_type": "markdown",
      "source": [
        "# Mutate list items\n",
        "\n",
        "1. Function name is `replace_items_over_ten`\n",
        "1. It takes a list of `integers` as argument\n",
        "1. It **mutates** the argument list replacing each integer that is higher than 10 with the string `\"OVER\"`\n",
        "1. It returns the mutated argument list"
      ],
      "metadata": {
        "id": "ejD8bBdsKLnA"
      }
    },
    {
      "cell_type": "code",
      "source": [
        "# write your function here\n",
        "def replace_items_over_ten(integers):\n",
        "    for i in range(len(integers)):\n",
        "        if integers[i] > 10:\n",
        "            integers[i] = \"OVER\"\n",
        "\n",
        "    return integers"
      ],
      "metadata": {
        "id": "Odi8sjsQKYDx"
      },
      "execution_count": 10,
      "outputs": []
    },
    {
      "cell_type": "markdown",
      "source": [
        "The next chunk of code is meant to test the function you wrote above."
      ],
      "metadata": {
        "id": "ezl0eS8IKpxW"
      }
    },
    {
      "cell_type": "code",
      "source": [
        "# no need to change this chunk, just run it to see if you pass\n",
        "# all tests listed here\n",
        "test_list = [10, 13, 6, 1, 30]\n",
        "replace_items_over_ten(test_list)\n",
        "pass_or_fail(test_list, [10, \"OVER\", 6, 1, \"OVER\"])\n",
        "\n",
        "test_list = []\n",
        "replace_items_over_ten(test_list)\n",
        "pass_or_fail(test_list, [])\n",
        "\n",
        "pass_or_fail(replace_items_over_ten([2, 3, 40]), [2, 3, \"OVER\"])"
      ],
      "metadata": {
        "id": "SfgY9PVJKrsW",
        "outputId": "9b707a7c-88e2-487f-d00e-696e442fe2e4",
        "colab": {
          "base_uri": "https://localhost:8080/"
        }
      },
      "execution_count": 11,
      "outputs": [
        {
          "output_type": "stream",
          "name": "stdout",
          "text": [
            "Test passed.\n",
            "Test passed.\n",
            "Test passed.\n"
          ]
        }
      ]
    }
  ]
}