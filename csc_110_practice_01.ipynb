{
  "nbformat": 4,
  "nbformat_minor": 0,
  "metadata": {
    "colab": {
      "provenance": [],
      "include_colab_link": true
    },
    "kernelspec": {
      "name": "python3",
      "display_name": "Python 3"
    },
    "language_info": {
      "name": "python"
    }
  },
  "cells": [
    {
      "cell_type": "markdown",
      "metadata": {
        "id": "view-in-github",
        "colab_type": "text"
      },
      "source": [
        "<a href=\"https://colab.research.google.com/github/Shruti-Karandikar/CSC110/blob/main/csc_110_practice_01.ipynb\" target=\"_parent\"><img src=\"https://colab.research.google.com/assets/colab-badge.svg\" alt=\"Open In Colab\"/></a>"
      ]
    },
    {
      "cell_type": "markdown",
      "source": [
        "# CSC 110 Spring 2023 Practice Problems Module 2\n",
        "\n",
        "This notebook contains a series of practice problems for CSC 110 Computer Programming I.\n",
        "\n",
        "Click on \"File\" and then choose \"Save a copy in Drive\" to create a copy of this notebook that you can make changes to."
      ],
      "metadata": {
        "id": "-XYNI5SFsGTW"
      }
    },
    {
      "cell_type": "code",
      "execution_count": null,
      "metadata": {
        "id": "Nvyjb0xwj2ER"
      },
      "outputs": [],
      "source": [
        "# don't change this chunk of code, this is used to test your solution after\n",
        "# you've written your solutions to each problem\n",
        "def pass_or_fail(result, assert_value):\n",
        "  '''\n",
        "  This function tests whether a value returned by a function matches\n",
        "  the expected value -- it's used to test functions\n",
        "  Args:\n",
        "    result: any type returned by a function\n",
        "    assert_value: any type that is expected\n",
        "  Returns:\n",
        "    nothing, it prints messages\n",
        "  '''\n",
        "  # try to assert value returned by function is equal to expected value\n",
        "  try:\n",
        "    assert result == assert_value\n",
        "    print(\"Test passed.\")\n",
        "  except AssertionError: # try failed, values are different\n",
        "    print(\"Test failed. \" + str(result) + \" != \" + str(assert_value))"
      ]
    },
    {
      "cell_type": "markdown",
      "source": [
        "## Slope Function\n",
        "\n",
        "1. Function name is `slope` with the following float parameters `x1`, `y1`, `x2`, and `y2`\n",
        "1. It calculates the slope using the formula: $m = \\frac{y_2 - y_1 }{x_2 - x_1}$\n",
        "1. It returns a float rounded at two decimals representing the slope of a line going through points $x_1$ $y_1$ and $x_2$ $y_2$"
      ],
      "metadata": {
        "id": "keDVLI_Iqo9W"
      }
    },
    {
      "cell_type": "code",
      "source": [
        "# write your slope function here\n",
        "\n",
        "def slope(x1, y1, x2, y2):\n",
        "    m = (y2 - y1) / (x2 - x1)\n",
        "    return round(m, 2)"
      ],
      "metadata": {
        "id": "FOma4oZ7kzV5"
      },
      "execution_count": null,
      "outputs": []
    },
    {
      "cell_type": "markdown",
      "source": [
        "The next chunk of code is meant to test the function you wrote above.\n",
        "\n",
        "---\n",
        "\n"
      ],
      "metadata": {
        "id": "uTj_5ZN7rLOI"
      }
    },
    {
      "cell_type": "code",
      "source": [
        "# no need to change this chunk, just run it to see if you pass\n",
        "# all tests listed here\n",
        "pass_or_fail(slope(5, 5, 10, 10), 1.0)\n",
        "pass_or_fail(slope(1, 4, 3, 4), 0.0)\n",
        "pass_or_fail(slope(0, 0, -3, 4), -1.33)"
      ],
      "metadata": {
        "id": "AdoBYpD_rQV-",
        "outputId": "0b96b87c-c27d-4187-8575-b2e3571456cc",
        "colab": {
          "base_uri": "https://localhost:8080/"
        }
      },
      "execution_count": null,
      "outputs": [
        {
          "output_type": "stream",
          "name": "stdout",
          "text": [
            "Test passed.\n",
            "Test passed.\n",
            "Test passed.\n"
          ]
        }
      ]
    },
    {
      "cell_type": "markdown",
      "source": [
        "## Line segment length function\n",
        "\n",
        "1. Function name is `segment_length` with the following float parameters `x1`, `y1`, `x2`, and `y2`\n",
        "1. It calculates the length of the line segment using the formula: $\\sqrt{(x_2-x_1)^2 + (y_2 - y_1)^2}$\n",
        "1. It returns a float rounded at two decimals representing the line segment from $x_1$ $y_1$ to $x_2$ $y_2$"
      ],
      "metadata": {
        "id": "nFpDsXGvrUFN"
      }
    },
    {
      "cell_type": "code",
      "source": [
        "# write segment_length function here\n",
        "def segment_length(x1, y1, x2, y2):\n",
        "    length = ((x2 - x1) ** 2 + (y2 - y1) ** 2) ** 0.5\n",
        "    return round(length, 2)"
      ],
      "metadata": {
        "id": "YzY3zvPTrYqM"
      },
      "execution_count": null,
      "outputs": []
    },
    {
      "cell_type": "markdown",
      "source": [
        "The next chunk of code is meant to test the function you wrote above."
      ],
      "metadata": {
        "id": "03J8QUtBrgeB"
      }
    },
    {
      "cell_type": "code",
      "source": [
        "# no need to change this chunk, just run it to see if you pass\n",
        "# all tests listed here\n",
        "pass_or_fail(segment_length(0, 0, -3, 4), 5.0)\n",
        "pass_or_fail(segment_length(5, 5, 10, 10), 7.07)\n",
        "pass_or_fail(segment_length(1, 4, 3, 4), 2.0)"
      ],
      "metadata": {
        "id": "OJIPZRvmrhPO",
        "outputId": "7c70eae6-beb9-42f1-9dd3-5f250c437ded",
        "colab": {
          "base_uri": "https://localhost:8080/"
        }
      },
      "execution_count": null,
      "outputs": [
        {
          "output_type": "stream",
          "name": "stdout",
          "text": [
            "Test passed.\n",
            "Test passed.\n",
            "Test passed.\n"
          ]
        }
      ]
    },
    {
      "cell_type": "markdown",
      "source": [
        "## Y-intercept given the slope and one point\n",
        "\n",
        "1. Function name is `y_intercept` with the following parameters: the float `m` representing the line slope, `x` and `y` representing the coordinates of a point on the line\n",
        "1. It calculates the y_intercept $\\beta$ using the formula $y = \\beta + m \\cdot x$\n",
        "1. It returns $\\beta$ as a float rounded at two decimals"
      ],
      "metadata": {
        "id": "KvoeR4ZhMVcN"
      }
    },
    {
      "cell_type": "code",
      "source": [
        "# write segment_length function here\n",
        "def y_intercept(m, x, y):\n",
        "    beta = y - m * x\n",
        "    return round(beta, 2)"
      ],
      "metadata": {
        "id": "bKgsC183ODtT"
      },
      "execution_count": null,
      "outputs": []
    },
    {
      "cell_type": "markdown",
      "source": [
        "The next chunk of code is meant to test the function you wrote above."
      ],
      "metadata": {
        "id": "nAuMxU1LOEN3"
      }
    },
    {
      "cell_type": "code",
      "source": [
        "# no need to change this chunk, just run it to see if you pass\n",
        "# all tests listed here\n",
        "pass_or_fail(y_intercept(0.75, 5, 4), 0.25)\n",
        "pass_or_fail(y_intercept(0.3, 9, 10), 7.3)\n",
        "pass_or_fail(y_intercept(0.888, 2, 3), 1.22)"
      ],
      "metadata": {
        "colab": {
          "base_uri": "https://localhost:8080/"
        },
        "id": "_hHAuIkdNbb3",
        "outputId": "3e2e752f-2f96-4430-e593-065c84274cbe"
      },
      "execution_count": null,
      "outputs": [
        {
          "output_type": "stream",
          "name": "stdout",
          "text": [
            "Test passed.\n",
            "Test passed.\n",
            "Test passed.\n"
          ]
        }
      ]
    },
    {
      "cell_type": "markdown",
      "source": [
        "## Y-intercept given the two points\n",
        "\n",
        "1. Function name is `y_intercept_2` with the following float parameters `x1`, `y1`, `x2`, and `y2`\n",
        "1. It calls the `slope` function you wrote previously using `x1`, `y1`, `x2`, and `y2` as arguments -- saving result to a variable called `m`\n",
        "1. It calls the `y_intercept` you wrote previous using `m`, `x1`, and `y1` as arguments -- saving the result to a variable to be returned\n",
        "1. It returns the result from the previous step\n",
        "\n"
      ],
      "metadata": {
        "id": "3kFAw-hLPcJv"
      }
    },
    {
      "cell_type": "code",
      "source": [
        "# write segment_length function here\n",
        "def y_intercept_2(x1, y1, x2, y2):\n",
        "    m = slope(x1, y1, x2, y2)\n",
        "    result = y_intercept(m, x1, y1)\n",
        "    return result"
      ],
      "metadata": {
        "id": "ZUKbonGyQPWG"
      },
      "execution_count": null,
      "outputs": []
    },
    {
      "cell_type": "markdown",
      "source": [
        "The next chunk of code is meant to test the function you wrote above."
      ],
      "metadata": {
        "id": "oDVCGdu2Qcu0"
      }
    },
    {
      "cell_type": "code",
      "source": [
        "# no need to change this chunk, just run it to see if you pass\n",
        "# all tests listed here\n",
        "pass_or_fail(y_intercept_2(3, 4, 10, 2), 4.87)\n",
        "pass_or_fail(y_intercept_2(2, 2, 4, 2), 2.0)\n",
        "pass_or_fail(y_intercept_2(2, 3, 4, 1), 5.0)"
      ],
      "metadata": {
        "id": "FONbWbF5QevU",
        "outputId": "cde27f84-5f69-44bf-a9ef-ec1234c18d7a",
        "colab": {
          "base_uri": "https://localhost:8080/"
        }
      },
      "execution_count": null,
      "outputs": [
        {
          "output_type": "stream",
          "name": "stdout",
          "text": [
            "Test passed.\n",
            "Test passed.\n",
            "Test passed.\n"
          ]
        }
      ]
    },
    {
      "cell_type": "markdown",
      "source": [
        "## Ellipse area\n",
        "\n",
        "Write a Python function that does the following:\n",
        "\n",
        "1. Its name is `ellipse_area`\n",
        "1. It takes two float or integer parameters: `a` and `b` representing the semi-major and semi-minor axes\n",
        "1. It calculates the ellipse area using the formula: $area = 3.1415 \\cdot a \\cdot b$\n",
        "1. It returns the area as a float rounded at two decimals\n",
        "1. No need to add comments or docstrings to your code"
      ],
      "metadata": {
        "id": "ywxHvtUjLBnv"
      }
    },
    {
      "cell_type": "code",
      "source": [
        "# write ellipse_area function here\n",
        "def ellipse_area(a, b):\n",
        "    area = 3.1415 * a * b\n",
        "    return round(area, 2)"
      ],
      "metadata": {
        "id": "Ayu_CKlaLJFk"
      },
      "execution_count": null,
      "outputs": []
    },
    {
      "cell_type": "markdown",
      "source": [
        "The next chunk of code is meant to test the function you wrote above.\n",
        "\n"
      ],
      "metadata": {
        "id": "SnXBWE8oLOe2"
      }
    },
    {
      "cell_type": "code",
      "source": [
        "# no need to change this chunk, just run it to see if you pass\n",
        "# all tests listed here\n",
        "pass_or_fail(ellipse_area(5, 4), 62.83)\n",
        "pass_or_fail(ellipse_area(19, 10.3), 614.79)\n",
        "pass_or_fail(ellipse_area(11.1, 12.5), 435.88)"
      ],
      "metadata": {
        "id": "2tfvLIwCLPOP",
        "outputId": "f6d65307-774b-4021-c9b5-906e85d7f5bf",
        "colab": {
          "base_uri": "https://localhost:8080/"
        }
      },
      "execution_count": null,
      "outputs": [
        {
          "output_type": "stream",
          "name": "stdout",
          "text": [
            "Test passed.\n",
            "Test passed.\n",
            "Test passed.\n"
          ]
        }
      ]
    },
    {
      "cell_type": "markdown",
      "source": [
        "## Simple triangle area\n",
        "\n",
        "Write a Python function that does the following:\n",
        "\n",
        "1. Its name is `triangle_area`\n",
        "1. It takes two float or integer parameters: `b` representing the base, and `h` representing the height\n",
        "1. It calculates the triangle area using the formula: $area = \\frac { b \\cdot h }  2$\n",
        "1. It returns the area as a float rounded at two decimals\n",
        "1. No need to add comments or docstrings to your code"
      ],
      "metadata": {
        "id": "IBkFI8KtSH5A"
      }
    },
    {
      "cell_type": "code",
      "source": [
        "# write ellipse_area function here\n",
        "def triangle_area(b, h):\n",
        "    area = (b * h) / 2\n",
        "    return round(area, 2)"
      ],
      "metadata": {
        "id": "skANH9T7SgkF"
      },
      "execution_count": null,
      "outputs": []
    },
    {
      "cell_type": "markdown",
      "source": [
        "The next chunk of code is meant to test the function you wrote above.\n"
      ],
      "metadata": {
        "id": "AoakhepHSjO8"
      }
    },
    {
      "cell_type": "code",
      "source": [
        "# no need to change this chunk, just run it to see if you pass\n",
        "# all tests listed here\n",
        "pass_or_fail(triangle_area(10, 5), 25)\n",
        "pass_or_fail(triangle_area(12, 15), 90)\n",
        "pass_or_fail(triangle_area(10.5, 13.5), 70.88)"
      ],
      "metadata": {
        "id": "HGy2thjdSopO",
        "outputId": "cf2a23d6-d322-481d-fa83-9ce54793b20b",
        "colab": {
          "base_uri": "https://localhost:8080/"
        }
      },
      "execution_count": null,
      "outputs": [
        {
          "output_type": "stream",
          "name": "stdout",
          "text": [
            "Test passed.\n",
            "Test passed.\n",
            "Test passed.\n"
          ]
        }
      ]
    },
    {
      "cell_type": "markdown",
      "source": [
        "## Kite area\n",
        "\n",
        "Write a Python function that does the following:\n",
        "\n",
        "1. Its name is `kite_area`\n",
        "1. It takes two float or integer parameters: `e` and `f` representing the kite diagonals\n",
        "1. It calculates the kite area using the formula: $area = \\frac{e \\cdot f}  2$\n",
        "1. It returns the area as a float rounded at two decimals\n",
        "1. No need to add comments or docstrings to your code"
      ],
      "metadata": {
        "id": "-UgDu8kLSZc4"
      }
    },
    {
      "cell_type": "code",
      "source": [
        "# write kite_area function here\n",
        "def kite_area(e, f):\n",
        "    area = (e * f) / 2\n",
        "    return round(area, 2)"
      ],
      "metadata": {
        "id": "RiTSuCXmSlq3"
      },
      "execution_count": null,
      "outputs": []
    },
    {
      "cell_type": "markdown",
      "source": [
        "The next chunk of code is meant to test the function you wrote above.\n"
      ],
      "metadata": {
        "id": "kESwGLfqSkKA"
      }
    },
    {
      "cell_type": "code",
      "source": [
        "# no need to change this chunk, just run it to see if you pass\n",
        "# all tests listed here\n",
        "pass_or_fail(kite_area(5, 3), 7.5)\n",
        "pass_or_fail(kite_area(8.3, 12), 49.8)\n",
        "pass_or_fail(kite_area(5.5, 6.5), 17.88)"
      ],
      "metadata": {
        "id": "XbhKjEd-TE5d",
        "outputId": "dd8d2f5b-43af-45ab-e54a-81d65e9b80d5",
        "colab": {
          "base_uri": "https://localhost:8080/"
        }
      },
      "execution_count": null,
      "outputs": [
        {
          "output_type": "stream",
          "name": "stdout",
          "text": [
            "Test passed.\n",
            "Test passed.\n",
            "Test passed.\n"
          ]
        }
      ]
    }
  ]
}