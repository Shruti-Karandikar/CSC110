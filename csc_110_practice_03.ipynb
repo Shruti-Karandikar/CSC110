{
  "nbformat": 4,
  "nbformat_minor": 0,
  "metadata": {
    "colab": {
      "provenance": [],
      "include_colab_link": true
    },
    "kernelspec": {
      "name": "python3",
      "display_name": "Python 3"
    },
    "language_info": {
      "name": "python"
    }
  },
  "cells": [
    {
      "cell_type": "markdown",
      "metadata": {
        "id": "view-in-github",
        "colab_type": "text"
      },
      "source": [
        "<a href=\"https://colab.research.google.com/github/Shruti-Karandikar/CSC110/blob/main/csc_110_practice_03.ipynb\" target=\"_parent\"><img src=\"https://colab.research.google.com/assets/colab-badge.svg\" alt=\"Open In Colab\"/></a>"
      ]
    },
    {
      "cell_type": "markdown",
      "source": [
        "# CSC 110 Spring 2023 Practice Problems -- Set 03\n",
        "\n",
        "This notebook contains a series of practice problems for CSC 110 Computer Programming I.\n",
        "\n",
        "Click on \"File\" and then choose \"Save a copy in Drive\" to create a copy of this notebook that you can make changes to."
      ],
      "metadata": {
        "id": "-XYNI5SFsGTW"
      }
    },
    {
      "cell_type": "code",
      "execution_count": 1,
      "metadata": {
        "id": "Nvyjb0xwj2ER"
      },
      "outputs": [],
      "source": [
        "# don't change this chunk of code, just run it\n",
        "# this is used to test your solution after\n",
        "# you've written your solutions to each problem\n",
        "def pass_or_fail(result, assert_value):\n",
        "  '''\n",
        "  This function tests whether a value returned by a function matches\n",
        "  the expected value -- it's used to test functions\n",
        "  Args:\n",
        "    result: any type returned by a function\n",
        "    assert_value: any type that is expected\n",
        "  Returns:\n",
        "    nothing, it prints messages\n",
        "  '''\n",
        "  # try to assert value returned by function is equal to expected value\n",
        "  try:\n",
        "    assert result == assert_value\n",
        "    print(\"Test passed.\")\n",
        "  except AssertionError: # try failed, values are different\n",
        "    print(\"Test failed. \" + str(result) + \" != \" + str(assert_value))"
      ]
    },
    {
      "cell_type": "markdown",
      "source": [
        "## First divisible by `number`\n",
        "\n",
        "1. Function name is `first_divisible`\n",
        "1. It takes two numeric arguments: `start` and `number`\n",
        "1. It iterates over every integer starting at `start` until it finds an integer that is divisible by `number`\n",
        "1. It returns the first integer that is divisible by `number` starting at `start`"
      ],
      "metadata": {
        "id": "keDVLI_Iqo9W"
      }
    },
    {
      "cell_type": "code",
      "source": [
        "# write your function here\n",
        "def first_multiple(start, number):\n",
        "    current = start\n",
        "    while True:\n",
        "        if current % number == 0:\n",
        "            return current\n",
        "        current += 1"
      ],
      "metadata": {
        "id": "FOma4oZ7kzV5"
      },
      "execution_count": 4,
      "outputs": []
    },
    {
      "cell_type": "markdown",
      "source": [
        "The next chunk of code is meant to test the function you wrote above.\n",
        "\n"
      ],
      "metadata": {
        "id": "uTj_5ZN7rLOI"
      }
    },
    {
      "cell_type": "code",
      "source": [
        "# no need to change this chunk, just run it to see if you pass\n",
        "# all tests listed here\n",
        "pass_or_fail(first_multiple(19, 3), 21)\n",
        "pass_or_fail(first_multiple(0, 2), 0)\n",
        "pass_or_fail(first_multiple(6, 5), 10)\n",
        "pass_or_fail(first_multiple(1, 17), 17)"
      ],
      "metadata": {
        "id": "AdoBYpD_rQV-",
        "outputId": "6f13fc92-8141-450b-d061-1f00df8a048f",
        "colab": {
          "base_uri": "https://localhost:8080/"
        }
      },
      "execution_count": 5,
      "outputs": [
        {
          "output_type": "stream",
          "name": "stdout",
          "text": [
            "Test passed.\n",
            "Test passed.\n",
            "Test passed.\n",
            "Test passed.\n"
          ]
        }
      ]
    },
    {
      "cell_type": "markdown",
      "source": [
        "# Doubling\n",
        "\n",
        "1. Function name is `double`\n",
        "1. It takes two numeric arguments: `number` and `limit`\n",
        "1. It doubles `number` until the result is greater than limit\n",
        "1. It returns the result of all doubling\n"
      ],
      "metadata": {
        "id": "nBIfPvEKJI54"
      }
    },
    {
      "cell_type": "code",
      "source": [
        "# write your function here\n",
        "def double(number, limit):\n",
        "    result = number\n",
        "\n",
        "    while result <= limit:\n",
        "        result = result * 2\n",
        "\n",
        "    return result"
      ],
      "metadata": {
        "id": "8fdauRN_J4NP"
      },
      "execution_count": 16,
      "outputs": []
    },
    {
      "cell_type": "markdown",
      "source": [
        "The next chunk of code is meant to test the function you wrote above."
      ],
      "metadata": {
        "id": "Yn_3S7BKKHdn"
      }
    },
    {
      "cell_type": "code",
      "source": [
        "# no need to change this chunk, just run it to see if you pass\n",
        "# all tests listed here\n",
        "pass_or_fail(double(2, 7), 8)\n",
        "pass_or_fail(double(2, 200), 256)\n",
        "pass_or_fail(double(3, 81), 96)"
      ],
      "metadata": {
        "id": "WYrijA3LKEO9",
        "outputId": "44e97cd8-6420-4aab-ea18-a8d412304ee0",
        "colab": {
          "base_uri": "https://localhost:8080/"
        }
      },
      "execution_count": 17,
      "outputs": [
        {
          "output_type": "stream",
          "name": "stdout",
          "text": [
            "Test passed.\n",
            "Test passed.\n",
            "Test passed.\n"
          ]
        }
      ]
    },
    {
      "cell_type": "markdown",
      "source": [
        "# Remove digits\n",
        "\n",
        "1. Function name is `remove_digits`\n",
        "1. It takes a `string` argument\n",
        "1. It builds a new string by iterating over the `string` argument and concatenating to the new string string only characters that are not digits\n",
        "1. It returns a new string\n",
        "1. Use `while`"
      ],
      "metadata": {
        "id": "be5oFt0eLBBR"
      }
    },
    {
      "cell_type": "code",
      "source": [
        "# write your function here\n",
        "def remove_digits(string):\n",
        "    result = \"\"\n",
        "    digits = \"0123456789\"\n",
        "\n",
        "    for char in string:\n",
        "        if char not in digits:\n",
        "            result += char\n",
        "    return result"
      ],
      "metadata": {
        "id": "_bxSx3CVOdAf"
      },
      "execution_count": 14,
      "outputs": []
    },
    {
      "cell_type": "markdown",
      "source": [
        "The next chunk of code is meant to test the function you wrote above."
      ],
      "metadata": {
        "id": "izfSAVO_OjU1"
      }
    },
    {
      "cell_type": "code",
      "source": [
        "# no need to change this chunk, just run it to see if you pass\n",
        "# all tests listed here\n",
        "pass_or_fail( remove_digits(\"a1b2c3d4\"), \"abcd\" )\n",
        "pass_or_fail( remove_digits(\"this\"), \"this\" )\n",
        "pass_or_fail( remove_digits(\"34534\"), \"\" )"
      ],
      "metadata": {
        "id": "70j1cJd1Oohr",
        "outputId": "0d3eaeb5-b52d-4614-e378-8946b28f48aa",
        "colab": {
          "base_uri": "https://localhost:8080/"
        }
      },
      "execution_count": 15,
      "outputs": [
        {
          "output_type": "stream",
          "name": "stdout",
          "text": [
            "Test passed.\n",
            "Test passed.\n",
            "Test passed.\n"
          ]
        }
      ]
    },
    {
      "cell_type": "markdown",
      "source": [
        "# Count consonants\n",
        "\n",
        "1. Function name is `consonant_count`\n",
        "1. It takes a `string` as argument\n",
        "1. It returns the number of consonants (not vowels, vowels are: `a`, `e`, `i`, `o` and `u`) in `string`\n",
        "1. Use `while`"
      ],
      "metadata": {
        "id": "uSheGbU9LgK2"
      }
    },
    {
      "cell_type": "code",
      "source": [
        "# write your function here\n",
        "def consonant_count(string):\n",
        "    count = 0\n",
        "    vowels = \"aeiouAEIOU\"\n",
        "\n",
        "    for char in string:\n",
        "        if char not in vowels:\n",
        "            count += 1\n",
        "\n",
        "    return count"
      ],
      "metadata": {
        "id": "C9nMm-vyOdwp"
      },
      "execution_count": 12,
      "outputs": []
    },
    {
      "cell_type": "markdown",
      "source": [
        "The next chunk of code is meant to test the function you wrote above."
      ],
      "metadata": {
        "id": "QYn68oEKOkMn"
      }
    },
    {
      "cell_type": "code",
      "source": [
        "# no need to change this chunk, just run it to see if you pass\n",
        "# all tests listed here\n",
        "pass_or_fail( consonant_count(\"banana\"), 3)\n",
        "pass_or_fail( consonant_count(\"rhythms\"), 7)\n",
        "pass_or_fail( consonant_count(\"euouae\"), 0)"
      ],
      "metadata": {
        "id": "Kq_dBCWKOqk6",
        "outputId": "42b1269c-12a8-4a4a-cfbf-7871e6cb96f7",
        "colab": {
          "base_uri": "https://localhost:8080/"
        }
      },
      "execution_count": 13,
      "outputs": [
        {
          "output_type": "stream",
          "name": "stdout",
          "text": [
            "Test passed.\n",
            "Test passed.\n",
            "Test passed.\n"
          ]
        }
      ]
    },
    {
      "cell_type": "markdown",
      "source": [
        "# Remove duplicates\n",
        "\n",
        "1. Function name is `remove_duplicates`\n",
        "1. It takes a `string` argument\n",
        "1. It returns a new string with unique characters in the `string` argument\n",
        "1. HINT: iterate over the `string` argument and create a new string with all characters seen for each iteration\n",
        "1. Use `while`"
      ],
      "metadata": {
        "id": "xy07AD_xMQBo"
      }
    },
    {
      "cell_type": "code",
      "source": [
        "# write your function here\n",
        "def remove_duplicates(string):\n",
        "    result = \"\"\n",
        "    for char in string:\n",
        "        if char not in result:\n",
        "            result += char\n",
        "    return result"
      ],
      "metadata": {
        "id": "FYzSp1DBOekO"
      },
      "execution_count": 8,
      "outputs": []
    },
    {
      "cell_type": "markdown",
      "source": [
        "The next chunk of code is meant to test the function you wrote above."
      ],
      "metadata": {
        "id": "tPeWjWKUOk-F"
      }
    },
    {
      "cell_type": "code",
      "source": [
        "# no need to change this chunk, just run it to see if you pass\n",
        "# all tests listed here\n",
        "pass_or_fail( remove_duplicates(\"Jerry\"), \"Jery\" )\n",
        "pass_or_fail( remove_duplicates(\"banana\"), \"ban\" )\n",
        "pass_or_fail( remove_duplicates(\"bookkeeper\"), \"bokepr\" )"
      ],
      "metadata": {
        "id": "Byi9ROcgOsUY",
        "colab": {
          "base_uri": "https://localhost:8080/"
        },
        "outputId": "54d6cf8a-9ea8-44ec-d0ac-408f9780750b"
      },
      "execution_count": 9,
      "outputs": [
        {
          "output_type": "stream",
          "name": "stdout",
          "text": [
            "Test passed.\n",
            "Test passed.\n",
            "Test passed.\n"
          ]
        }
      ]
    },
    {
      "cell_type": "markdown",
      "source": [
        "# Add spaces between characters\n",
        "\n",
        "1. Function name is `add_spaces`\n",
        "1. It takes a `string` argument\n",
        "1. It creates a new string with a space in between each character in the `string` argument -- string should not end in space, spaces should only be in between characters\n",
        "1. Use `while`\n"
      ],
      "metadata": {
        "id": "t-iNcW5VMwhs"
      }
    },
    {
      "cell_type": "code",
      "source": [
        "# write your function here\n",
        "def add_spaces(string):\n",
        "    result = \"\"\n",
        "    i = 0\n",
        "    while i < len(string):\n",
        "        result += string[i]\n",
        "        if i < len(string) - 1:\n",
        "            result += \" \"\n",
        "        i += 1\n",
        "    return result"
      ],
      "metadata": {
        "id": "mgg7n-LuOfRQ"
      },
      "execution_count": 6,
      "outputs": []
    },
    {
      "cell_type": "markdown",
      "source": [
        "The next chunk of code is meant to test the function you wrote above."
      ],
      "metadata": {
        "id": "L77-DbJKOlsc"
      }
    },
    {
      "cell_type": "code",
      "source": [
        "# no need to change this chunk, just run it to see if you pass\n",
        "# all tests listed here\n",
        "pass_or_fail( add_spaces(\"banana\"), \"b a n a n a\" )\n",
        "pass_or_fail( add_spaces(\"abc\"), \"a b c\" )\n",
        "pass_or_fail( add_spaces(\"  \"), \"   \" )"
      ],
      "metadata": {
        "id": "fRl8yxnyOtQh",
        "outputId": "8f1de06e-6a54-4eb7-e84f-3a9d44ad2322",
        "colab": {
          "base_uri": "https://localhost:8080/"
        }
      },
      "execution_count": 7,
      "outputs": [
        {
          "output_type": "stream",
          "name": "stdout",
          "text": [
            "Test passed.\n",
            "Test passed.\n",
            "Test passed.\n"
          ]
        }
      ]
    }
  ]
}