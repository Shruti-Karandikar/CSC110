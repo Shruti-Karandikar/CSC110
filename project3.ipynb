{
 "cells": [
  {
   "cell_type": "markdown",
   "id": "57cd0e14",
   "metadata": {},
   "source": [
    "### Where’s the Money"
   ]
  },
  {
   "cell_type": "code",
   "execution_count": null,
   "id": "0941a518",
   "metadata": {},
   "outputs": [],
   "source": [
    "def calculate_tax(annual_salary):\n",
    "    if annual_salary <= 15000:\n",
    "        tax_percentage = 10\n",
    "    elif annual_salary <= 75000:\n",
    "        tax_percentage = 20\n",
    "    elif annual_salary <= 200000:\n",
    "        tax_percentage = 25\n",
    "    else:\n",
    "        tax_percentage = 30\n",
    "    \n",
    "    return annual_salary * (tax_percentage / 100.0)"
   ]
  },
  {
   "cell_type": "code",
   "execution_count": 7,
   "id": "0d807b06",
   "metadata": {},
   "outputs": [
    {
     "name": "stdout",
     "output_type": "stream",
     "text": [
      "------------------------------------------------------------------\n",
      "See the financial breakdown below, based on a salary of $15000\n",
      "------------------------------------------------------------------\n",
      "| mortgage/rent | $      120.00 |   0.8% | \n",
      "|         bills | $      144.00 |   1.0% | \n",
      "|          food | $      676.00 |   4.5% | ####\n",
      "|        travel | $       14.00 |   0.1% | \n",
      "|           tax | $    1,500.00 |  10.0% | ##########\n",
      "|         extra | $   12,546.00 |  83.6% | ###################################################################################\n",
      "------------------------------------------------------------------\n"
     ]
    }
   ],
   "source": [
    "def wheres_the_money(annual_salary, monthly_mortgage, monthly_bills, weekly_food, annual_travel):\n",
    "    yearly_mortgage = monthly_mortgage * 12\n",
    "    yearly_bills = monthly_bills * 12\n",
    "    yearly_food = weekly_food * 52  \n",
    "    yearly_travel = annual_travel\n",
    "    \n",
    "    yearly_tax = calculate_tax(annual_salary)\n",
    "    tax_percentage = 0\n",
    "    yearly_extra = annual_salary - (yearly_mortgage + yearly_bills + yearly_food + yearly_travel + yearly_tax)\n",
    "    \n",
    "    mortgage_percent = (yearly_mortgage / annual_salary) * 100\n",
    "    bills_percent = (yearly_bills / annual_salary) * 100\n",
    "    food_percent = (yearly_food / annual_salary) * 100\n",
    "    travel_percent = (yearly_travel / annual_salary) * 100\n",
    "    tax_percent = (yearly_tax / annual_salary) * 100\n",
    "    extra_percent = (yearly_extra / annual_salary) * 100\n",
    "    \n",
    " \n",
    "    print(\"------------------------------------------------------------------\")\n",
    "    print(\"See the financial breakdown below, based on a salary of ${}\".format(int(annual_salary)))\n",
    "    print(\"------------------------------------------------------------------\")\n",
    "    \n",
    "\n",
    "    print(\"| mortgage/rent | $  {:10,.2f} |  {:4.1f}% | {}\".format(\n",
    "        yearly_mortgage, mortgage_percent, \"#\" * int(mortgage_percent)))\n",
    "    \n",
    "    print(\"|         bills | $  {:10,.2f} |  {:4.1f}% | {}\".format(\n",
    "        yearly_bills, bills_percent, \"#\" * int(bills_percent)))\n",
    "    \n",
    "    print(\"|          food | $  {:10,.2f} |  {:4.1f}% | {}\".format(\n",
    "        yearly_food, food_percent, \"#\" * int(food_percent)))\n",
    "    \n",
    "    print(\"|        travel | $  {:10,.2f} |  {:4.1f}% | {}\".format(\n",
    "        yearly_travel, travel_percent, \"#\" * int(travel_percent)))\n",
    "    \n",
    "    print(\"|           tax | $  {:10,.2f} |  {:4.1f}% | {}\".format(\n",
    "        yearly_tax, tax_percent, \"#\" * int(tax_percent)))\n",
    "    \n",
    "    print(\"|         extra | $  {:10,.2f} |  {:4.1f}% | {}\".format(\n",
    "        yearly_extra, extra_percent, \"#\" * int(extra_percent)))\n",
    "    \n",
    "    print(\"------------------------------------------------------------------\")\n",
    "    uncapped_tax = annual_salary * (tax_percentage / 100.0)\n",
    "    tax_limit_reached = uncapped_tax > 75000\n",
    "\n",
    "   # Print warnings if applicable\n",
    "    if yearly_extra < 0:\n",
    "        print(\">>> WARNING: DEFICIT <<<\")\n",
    "    \n",
    "    if tax_limit_reached:\n",
    "        print(\">>> TAX LIMIT REACHED <<<\")\n",
    "\n",
    "annual_salary = float(input(\"Enter your annual salary: \"))\n",
    "monthly_mortgage = float(input(\"Enter your monthly mortgage or rent payment: \"))\n",
    "monthly_bills = float(input(\"Enter your monthly bills: \"))\n",
    "weekly_food = float(input(\"Enter your weekly grocery/food expenses: \"))\n",
    "annual_travel = float(input(\"Enter your annual travel expenses: \"))\n",
    "\n",
    "wheres_the_money(annual_salary, monthly_mortgage, monthly_bills, weekly_food, annual_travel)"
   ]
  }
 ],
 "metadata": {
  "kernelspec": {
   "display_name": "base",
   "language": "python",
   "name": "python3"
  },
  "language_info": {
   "codemirror_mode": {
    "name": "ipython",
    "version": 3
   },
   "file_extension": ".py",
   "mimetype": "text/x-python",
   "name": "python",
   "nbconvert_exporter": "python",
   "pygments_lexer": "ipython3",
   "version": "3.12.8"
  }
 },
 "nbformat": 4,
 "nbformat_minor": 5
}
