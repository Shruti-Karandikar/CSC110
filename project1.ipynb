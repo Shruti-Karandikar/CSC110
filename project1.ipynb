{
 "cells": [
  {
   "cell_type": "markdown",
   "id": "478898a3",
   "metadata": {},
   "source": [
    "### Move Mad Lib"
   ]
  },
  {
   "cell_type": "code",
   "execution_count": 1,
   "id": "f14762fe",
   "metadata": {},
   "outputs": [
    {
     "name": "stdout",
     "output_type": "stream",
     "text": [
      "shruti decided to move from their apartment on 5th\n",
      "to a condo on loopdydoo Avenue. They called their friend samiya\n",
      "for help. However, they could not fit christmas tree into\n",
      "the moving truck, so they had to rent a yes horse drawn carriage\n",
      "in order to move it!\n"
     ]
    }
   ],
   "source": [
    "name = input(\"Enter a person's name: \")\n",
    "street = input(\"Enter a street name: \")\n",
    "friend = input(\"Enter another person's name: \")\n",
    "item = input(\"Enter an object name: \")\n",
    "vehicle = input(\"Enter a type of vehicle: \")\n",
    "adjective = input(\"Enter an adjective: \")\n",
    "\n",
    "print(f\"{name} decided to move from their apartment on 5th\")\n",
    "print(f\"to a condo on {street}. They called their friend {friend}\")\n",
    "print(f\"for help. However, they could not fit {item} into\")\n",
    "print(f\"the moving truck, so they had to rent a {adjective} {vehicle}\")\n",
    "print(f\"in order to move it!\")"
   ]
  },
  {
   "cell_type": "markdown",
   "id": "a1615019",
   "metadata": {},
   "source": [
    "### Vacation Mad Lib"
   ]
  },
  {
   "cell_type": "code",
   "execution_count": 2,
   "id": "901b7beb",
   "metadata": {},
   "outputs": [
    {
     "name": "stdout",
     "output_type": "stream",
     "text": [
      "shruti and samiya were best friends.\n",
      "One day shruti and samiya decided to go on a\n",
      "vacation to japan. However, they didn't know\n",
      "what to do with their stuffed pet cat named totoro.\n",
      "totoro had been causing problems, due to constant whininging.\n",
      "samiya found a sitter for their pet, and shruti went on the trip.\n"
     ]
    }
   ],
   "source": [
    "person1 = input(\"Enter the first person's name: \")\n",
    "person2 = input(\"Enter the second person's name: \")\n",
    "location = input(\"Enter a vacation destination: \")\n",
    "adjective = input(\"Enter an adjective: \")\n",
    "animal = input(\"Enter a type of animal: \")\n",
    "pet_name = input(\"Enter a pet name: \")\n",
    "activity = input(\"Enter a verb ending with 'ing': \")\n",
    "who_found_sitter = input(\"Enter either the first or second person's name: \")\n",
    "\n",
    "print(f\"{person1} and {person2} were best friends.\")\n",
    "print(f\"One day {person1} and {person2} decided to go on a\")\n",
    "print(f\"vacation to {location}. However, they didn't know\")\n",
    "print(f\"what to do with their {adjective} pet {animal} named {pet_name}.\")\n",
    "print(f\"{pet_name} had been causing problems, due to constant {activity}ing.\")\n",
    "print(f\"{who_found_sitter} found a sitter for their pet, and {person1} went on the trip.\")\n"
   ]
  }
 ],
 "metadata": {
  "kernelspec": {
   "display_name": "base",
   "language": "python",
   "name": "python3"
  },
  "language_info": {
   "codemirror_mode": {
    "name": "ipython",
    "version": 3
   },
   "file_extension": ".py",
   "mimetype": "text/x-python",
   "name": "python",
   "nbconvert_exporter": "python",
   "pygments_lexer": "ipython3",
   "version": "3.12.8"
  }
 },
 "nbformat": 4,
 "nbformat_minor": 5
}
