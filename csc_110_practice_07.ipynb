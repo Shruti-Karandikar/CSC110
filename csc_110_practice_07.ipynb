{
  "nbformat": 4,
  "nbformat_minor": 0,
  "metadata": {
    "colab": {
      "provenance": [],
      "include_colab_link": true
    },
    "kernelspec": {
      "name": "python3",
      "display_name": "Python 3"
    },
    "language_info": {
      "name": "python"
    }
  },
  "cells": [
    {
      "cell_type": "markdown",
      "metadata": {
        "id": "view-in-github",
        "colab_type": "text"
      },
      "source": [
        "<a href=\"https://colab.research.google.com/github/Shruti-Karandikar/CSC110/blob/main/csc_110_practice_07.ipynb\" target=\"_parent\"><img src=\"https://colab.research.google.com/assets/colab-badge.svg\" alt=\"Open In Colab\"/></a>"
      ]
    },
    {
      "cell_type": "markdown",
      "source": [
        "# CSC 110 Spring 2023 Practice Problems -- Set 07\n",
        "\n",
        "This notebook contains a series of practice problems for CSC 110 Computer Programming I.\n",
        "\n",
        "Click on \"File\" and then choose \"Save a copy in Drive\" to create a copy of this notebook that you can make changes to."
      ],
      "metadata": {
        "id": "-XYNI5SFsGTW"
      }
    },
    {
      "cell_type": "code",
      "execution_count": 1,
      "metadata": {
        "id": "Nvyjb0xwj2ER"
      },
      "outputs": [],
      "source": [
        "# don't change this chunk of code, just run it\n",
        "# this is used to test your solution after\n",
        "# you've written your solutions to each problem\n",
        "def pass_or_fail(result, assert_value):\n",
        "  '''\n",
        "  This function tests whether a value returned by a function matches\n",
        "  the expected value -- it's used to test functions\n",
        "  Args:\n",
        "    result: any type returned by a function\n",
        "    assert_value: any type that is expected\n",
        "  Returns:\n",
        "    nothing, it prints messages\n",
        "  '''\n",
        "  # try to assert value returned by function is equal to expected value\n",
        "  try:\n",
        "    assert result == assert_value\n",
        "    print(\"Test passed.\")\n",
        "  except AssertionError: # try failed, values are different\n",
        "    print(\"Test failed. \" + str(result) + \" != \" + str(assert_value))"
      ]
    },
    {
      "cell_type": "markdown",
      "source": [
        "## Mutate dictionary\n",
        "\n",
        "1. Function name is `mutations`\n",
        "1. It takes a `dictionary` as argument\n",
        "1. It mutates the dictionary in the following ways:\n",
        "  1. If the key `\"a\"` is in `dictionary` it removes it\n",
        "  1. If the key `\"b\"` is in `dictionary` it doubles its associated value\n",
        "  1. If the key `\"c\"` is **not** in `dictionary` it adds the `\"c\"` with an empty list as its value"
      ],
      "metadata": {
        "id": "keDVLI_Iqo9W"
      }
    },
    {
      "cell_type": "code",
      "source": [
        "# write your function here\n",
        "def mutations(dictionary):\n",
        "    # 1. If the key \"a\" is in dictionary it removes it\n",
        "    if \"a\" in dictionary:\n",
        "        del dictionary[\"a\"]\n",
        "\n",
        "    # 2. If the key \"b\" is in dictionary it doubles its associated value\n",
        "    if \"b\" in dictionary:\n",
        "        dictionary[\"b\"] *= 2\n",
        "\n",
        "    # 3. If the key \"c\" is not in dictionary it adds the \"c\" with an empty list as its value\n",
        "    if \"c\" not in dictionary:\n",
        "        dictionary[\"c\"] = []"
      ],
      "metadata": {
        "id": "FOma4oZ7kzV5"
      },
      "execution_count": 2,
      "outputs": []
    },
    {
      "cell_type": "markdown",
      "source": [
        "The next chunk of code is meant to test the function you wrote above.\n",
        "\n"
      ],
      "metadata": {
        "id": "uTj_5ZN7rLOI"
      }
    },
    {
      "cell_type": "code",
      "source": [
        "# no need to change this chunk, just run it to see if you pass\n",
        "# all tests listed here\n",
        "dictionary_1 = {\"a\": 1, \"b\": 2, \"c\": 3}\n",
        "mutations(dictionary_1)\n",
        "pass_or_fail(dictionary_1, {\"b\": 4, \"c\": 3})\n",
        "\n",
        "dictionary_2 = {}\n",
        "mutations(dictionary_2)\n",
        "pass_or_fail(dictionary_2, {\"c\": []})\n",
        "\n",
        "dictionary_3 = {\"a\": 1}\n",
        "mutations(dictionary_3)\n",
        "pass_or_fail(dictionary_3, {\"c\": []})\n",
        "\n"
      ],
      "metadata": {
        "id": "AdoBYpD_rQV-",
        "outputId": "6913de2e-ccae-4fc1-94a4-4ff6ab71f8e8",
        "colab": {
          "base_uri": "https://localhost:8080/"
        }
      },
      "execution_count": 3,
      "outputs": [
        {
          "output_type": "stream",
          "name": "stdout",
          "text": [
            "Test passed.\n",
            "Test passed.\n",
            "Test passed.\n"
          ]
        }
      ]
    },
    {
      "cell_type": "markdown",
      "source": [
        "# Count characters\n",
        "\n",
        "1. Function name is `count_char`\n",
        "1. It takes a `string` as argument\n",
        "1. It returns a dictionary that maps each character in `string` to its total frequency in `string`\n"
      ],
      "metadata": {
        "id": "nBIfPvEKJI54"
      }
    },
    {
      "cell_type": "code",
      "source": [
        "# write your function here\n",
        "def count_char(string):\n",
        "    char_count = {}\n",
        "\n",
        "    for char in string:\n",
        "        if char in char_count:\n",
        "            char_count[char] += 1\n",
        "        else:\n",
        "            char_count[char] = 1\n",
        "\n",
        "    return char_count"
      ],
      "metadata": {
        "id": "8fdauRN_J4NP"
      },
      "execution_count": 5,
      "outputs": []
    },
    {
      "cell_type": "markdown",
      "source": [
        "The next chunk of code is meant to test the function you wrote above."
      ],
      "metadata": {
        "id": "Yn_3S7BKKHdn"
      }
    },
    {
      "cell_type": "code",
      "source": [
        "# no need to change this chunk, just run it to see if you pass\n",
        "# all tests listed here\n",
        "pass_or_fail( count_char(\"Hello world!\"),\n",
        "             {\"H\": 1, \"e\": 1, \"l\": 3, \"o\": 2, \" \": 1, \"w\": 1, \"r\": 1, \"d\": 1, \"!\": 1} )\n",
        "\n",
        "pass_or_fail( count_char(\"\"), {} )\n"
      ],
      "metadata": {
        "id": "WYrijA3LKEO9",
        "outputId": "775f9d93-231e-49a3-a3aa-546bc94aac25",
        "colab": {
          "base_uri": "https://localhost:8080/"
        }
      },
      "execution_count": 6,
      "outputs": [
        {
          "output_type": "stream",
          "name": "stdout",
          "text": [
            "Test passed.\n",
            "Test passed.\n"
          ]
        }
      ]
    },
    {
      "cell_type": "markdown",
      "source": [
        "# Dictionary insertions\n",
        "\n",
        "1. Function name is `insertions`\n",
        "1. It takes a `dictionary` and a list of `strings` as arguments\n",
        "1. It iterates over the list:\n",
        "  1. If the value in `strings` is already a key in the `dictionary`, then its associated value is not changed\n",
        "  1. If the value in `strings` is **not** in the `dictionary`, then the value is added as a key to it with its index in the list as its associated value in the `dictionary`\n",
        "1. Assume `strings` has no repeated elements\n",
        "1. It mutates `dictionary` -- return nothing"
      ],
      "metadata": {
        "id": "be5oFt0eLBBR"
      }
    },
    {
      "cell_type": "code",
      "source": [
        "# write your function here\n",
        "def insertions(dictionary, strings):\n",
        "    for index, string in enumerate(strings):\n",
        "        if string not in dictionary:\n",
        "            dictionary[string] = index"
      ],
      "metadata": {
        "id": "_bxSx3CVOdAf"
      },
      "execution_count": 7,
      "outputs": []
    },
    {
      "cell_type": "markdown",
      "source": [
        "The next chunk of code is meant to test the function you wrote above."
      ],
      "metadata": {
        "id": "izfSAVO_OjU1"
      }
    },
    {
      "cell_type": "code",
      "source": [
        "# no need to change this chunk, just run it to see if you pass\n",
        "# all tests listed here\n",
        "dictionary_1 = {\"a\": 12}\n",
        "insertions(dictionary_1, [\"a\", \"b\", \"c\"])\n",
        "pass_or_fail(dictionary_1, {\"a\": 12, \"b\": 1, \"c\": 2})\n",
        "\n",
        "dictionary_2 = {}\n",
        "insertions(dictionary_2, [\"a\", \"b\", \"c\"])\n",
        "pass_or_fail(dictionary_2, {\"a\": 0, \"b\": 1, \"c\": 2})\n",
        "\n",
        "dictionary_3 = {}\n",
        "insertions(dictionary_3, [])\n",
        "pass_or_fail(dictionary_3, {})"
      ],
      "metadata": {
        "id": "70j1cJd1Oohr",
        "outputId": "faeedcf3-bd85-4264-9ace-3f0d1c9bfae3",
        "colab": {
          "base_uri": "https://localhost:8080/"
        }
      },
      "execution_count": 8,
      "outputs": [
        {
          "output_type": "stream",
          "name": "stdout",
          "text": [
            "Test passed.\n",
            "Test passed.\n",
            "Test passed.\n"
          ]
        }
      ]
    },
    {
      "cell_type": "markdown",
      "source": [
        "# Binning\n",
        "\n",
        "1. Function name is `bin_first_letter`\n",
        "1. It takes a list of `strings` as argument\n",
        "1. It returns a dictionary that maps characters to lists of strings that beging with that character"
      ],
      "metadata": {
        "id": "IokGSfXBVg1N"
      }
    },
    {
      "cell_type": "code",
      "source": [
        "# write your function here\n",
        "def bin_first_letter(strings):\n",
        "    result = {}\n",
        "\n",
        "    for string in strings:\n",
        "        if not string:  # Handle empty strings\n",
        "            first_letter = \"\"\n",
        "        else:\n",
        "            first_letter = string[0]\n",
        "\n",
        "        if first_letter in result:\n",
        "            result[first_letter].append(string)\n",
        "        else:\n",
        "            result[first_letter] = [string]\n",
        "\n",
        "    return result"
      ],
      "metadata": {
        "id": "ha9stX04V1bF"
      },
      "execution_count": 9,
      "outputs": []
    },
    {
      "cell_type": "markdown",
      "source": [
        "The next chunk of code is meant to test the function you wrote above."
      ],
      "metadata": {
        "id": "VqCvRVetWNVv"
      }
    },
    {
      "cell_type": "code",
      "source": [
        "# no need to change this chunk, just run it to see if you pass\n",
        "# all tests listed here\n",
        "pass_or_fail( bin_first_letter([\"ab\", \"bx\", \"a\"]),\n",
        "             {\"a\": [\"ab\", \"a\"], \"b\": [\"bx\"]} )\n",
        "\n",
        "pass_or_fail( bin_first_letter([\"\", \"\", \"\"]), {})\n",
        "\n",
        "pass_or_fail( bin_first_letter([]), {})"
      ],
      "metadata": {
        "id": "9txdchL3WN-n",
        "outputId": "4146e2a4-b912-481f-cf7b-a2db6bc109b7",
        "colab": {
          "base_uri": "https://localhost:8080/"
        }
      },
      "execution_count": 10,
      "outputs": [
        {
          "output_type": "stream",
          "name": "stdout",
          "text": [
            "Test passed.\n",
            "Test failed. {'': ['', '', '']} != {}\n",
            "Test passed.\n"
          ]
        }
      ]
    },
    {
      "cell_type": "markdown",
      "source": [
        "# Binning 2\n",
        "\n",
        "1. Function name is `bin_no_reps`\n",
        "1. It takes a list of `strings` as argument\n",
        "1. It returns a dictionary that maps characters to lists of strings that beging with that character\n",
        "1. It ignores repeates values in `strings`"
      ],
      "metadata": {
        "id": "4fPicMwKW8eP"
      }
    },
    {
      "cell_type": "code",
      "source": [
        "# write your function here\n",
        "def bin_no_reps(strings):\n",
        "    result = {}\n",
        "\n",
        "    # Use a set to track strings we've already processed\n",
        "    seen = set()\n",
        "\n",
        "    for string in strings:\n",
        "        # Skip if we've already processed this string\n",
        "        if string in seen:\n",
        "            continue\n",
        "\n",
        "        seen.add(string)\n",
        "\n",
        "        if not string:  # Handle empty strings\n",
        "            first_letter = \"\"\n",
        "        else:\n",
        "            first_letter = string[0]\n",
        "\n",
        "        if first_letter in result:\n",
        "            result[first_letter].append(string)\n",
        "        else:\n",
        "            result[first_letter] = [string]\n",
        "\n",
        "    return result"
      ],
      "metadata": {
        "id": "MOfuyzk6XFa2"
      },
      "execution_count": 11,
      "outputs": []
    },
    {
      "cell_type": "markdown",
      "source": [
        "The next chunk of code is meant to test the function you wrote above."
      ],
      "metadata": {
        "id": "5xyCX5xbXI9I"
      }
    },
    {
      "cell_type": "code",
      "source": [
        "# no need to change this chunk, just run it to see if you pass\n",
        "# all tests listed here\n",
        "pass_or_fail( bin_no_reps([\"ab\", \"bx\", \"a\"]),\n",
        "             {\"a\": [\"ab\", \"a\"], \"b\": [\"bx\"]} )\n",
        "\n",
        "pass_or_fail( bin_no_reps([\"\", \"\", \"\"]), {})\n",
        "\n",
        "pass_or_fail( bin_no_reps([\"ax\", \"ax\"]), {\"a\": [\"ax\"]})"
      ],
      "metadata": {
        "id": "4FQbJgToXHoP",
        "outputId": "d676cc5c-605d-4227-f3dc-ccd3a9e86267",
        "colab": {
          "base_uri": "https://localhost:8080/"
        }
      },
      "execution_count": 12,
      "outputs": [
        {
          "output_type": "stream",
          "name": "stdout",
          "text": [
            "Test passed.\n",
            "Test failed. {'': ['']} != {}\n",
            "Test passed.\n"
          ]
        }
      ]
    },
    {
      "cell_type": "markdown",
      "source": [
        "# Calculate GPA\n",
        "\n",
        "1. Function name is `calculate_gpa`\n",
        "1. It takes a `dictionary` -- keys are course codes, and values letter grades\n",
        "1. It returns a float rounded at two decimals with the final calculated gpa\n",
        "\n",
        "| Grade  | GPA |\n",
        "| ------ | --- |\n",
        "| A      | 4.0 |\n",
        "| B      | 3.0 |\n",
        "| C      | 2.0 |\n",
        "| D      | 1.0 |\n",
        "| E      | 0.0 |\n",
        "\n",
        "For the following dictionary:\n",
        "\n",
        "`{\"CSC110\": \"B\", \"CSC120\": \"A\", \"CSC144\": \"C\"}`\n",
        "\n",
        "The function should return `3.0`\n"
      ],
      "metadata": {
        "id": "gnA9J5eqX_yl"
      }
    },
    {
      "cell_type": "code",
      "source": [
        "# write your function here\n",
        "def calculate_gpa(dictionary):\n",
        "    # Define grade to GPA mapping\n",
        "    grade_to_gpa = {\n",
        "        \"A\": 4.0,\n",
        "        \"B\": 3.0,\n",
        "        \"C\": 2.0,\n",
        "        \"D\": 1.0,\n",
        "        \"E\": 0.0\n",
        "    }\n",
        "\n",
        "    # If dictionary is empty, return 0.0\n",
        "    if not dictionary:\n",
        "        return 0.0\n",
        "\n",
        "    total_gpa = 0.0\n",
        "    course_count = 0\n",
        "\n",
        "    # Calculate total GPA points\n",
        "    for course, grade in dictionary.items():\n",
        "        if grade in grade_to_gpa:\n",
        "            total_gpa += grade_to_gpa[grade]\n",
        "            course_count += 1\n",
        "\n",
        "    # Calculate average GPA\n",
        "    if course_count > 0:\n",
        "        average_gpa = total_gpa / course_count\n",
        "    else:\n",
        "        average_gpa = 0.0\n",
        "\n",
        "    # Round to two decimal places\n",
        "    return round(average_gpa, 2)"
      ],
      "metadata": {
        "id": "USLKx7QuZ0TM"
      },
      "execution_count": 14,
      "outputs": []
    },
    {
      "cell_type": "markdown",
      "source": [
        "The next chunk of code is meant to test the function you wrote above"
      ],
      "metadata": {
        "id": "40_eYzD1aoj8"
      }
    },
    {
      "cell_type": "code",
      "source": [
        "# no need to change this chunk, just run it to see if you pass\n",
        "# all tests listed here\n",
        "pass_or_fail( calculate_gpa({\"CSC110\": \"B\", \"CSC120\": \"A\", \"CSC144\": \"C\"}), 3.0 )\n",
        "pass_or_fail( calculate_gpa({}), None )\n",
        "pass_or_fail( calculate_gpa({\"CSC110\": \"A\", \"CSC120\": \"A\"}), 4.0 )"
      ],
      "metadata": {
        "id": "aMyb9FjyacYr",
        "outputId": "99e7d9b1-7515-4f76-ac49-3e91b95037a6",
        "colab": {
          "base_uri": "https://localhost:8080/"
        }
      },
      "execution_count": 15,
      "outputs": [
        {
          "output_type": "stream",
          "name": "stdout",
          "text": [
            "Test passed.\n",
            "Test failed. 0.0 != None\n",
            "Test passed.\n"
          ]
        }
      ]
    }
  ]
}