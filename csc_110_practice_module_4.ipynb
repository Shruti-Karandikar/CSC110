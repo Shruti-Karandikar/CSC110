{
  "nbformat": 4,
  "nbformat_minor": 0,
  "metadata": {
    "colab": {
      "provenance": [],
      "include_colab_link": true
    },
    "kernelspec": {
      "name": "python3",
      "display_name": "Python 3"
    },
    "language_info": {
      "name": "python"
    }
  },
  "cells": [
    {
      "cell_type": "markdown",
      "metadata": {
        "id": "view-in-github",
        "colab_type": "text"
      },
      "source": [
        "<a href=\"https://colab.research.google.com/github/Shruti-Karandikar/CSC110/blob/main/csc_110_practice_module_4.ipynb\" target=\"_parent\"><img src=\"https://colab.research.google.com/assets/colab-badge.svg\" alt=\"Open In Colab\"/></a>"
      ]
    },
    {
      "cell_type": "markdown",
      "source": [
        "# CSC 110 Spring 2023 Practice Problems Module 4\n",
        "\n",
        "This notebook contains a series of practice problems for CSC 110 Computer Programming I.\n",
        "\n",
        "Click on \"File\" and then choose \"Save a copy in Drive\" to create a copy of this notebook that you can make changes to."
      ],
      "metadata": {
        "id": "-XYNI5SFsGTW"
      }
    },
    {
      "cell_type": "code",
      "execution_count": 1,
      "metadata": {
        "id": "Nvyjb0xwj2ER"
      },
      "outputs": [],
      "source": [
        "# don't change this chunk of code, this is used to test your solution after\n",
        "# you've written your solutions to each problem\n",
        "def pass_or_fail(result, assert_value):\n",
        "  '''\n",
        "  This function tests whether a value returned by a function matches\n",
        "  the expected value -- it's used to test functions\n",
        "  Args:\n",
        "    result: any type returned by a function\n",
        "    assert_value: any type that is expected\n",
        "  Returns:\n",
        "    nothing, it prints messages\n",
        "  '''\n",
        "  # try to assert value returned by function is equal to expected value\n",
        "  try:\n",
        "    assert result == assert_value\n",
        "    print(\"Test passed.\")\n",
        "  except AssertionError: # try failed, values are different\n",
        "    print(\"Test failed. \" + str(result) + \" != \" + str(assert_value))"
      ]
    },
    {
      "cell_type": "markdown",
      "source": [
        "## Last digit divisible by 3\n",
        "\n",
        "1. Function name is `last_digit_div_3`\n",
        "1. It takes one numeric argument `n`\n",
        "1. It returns `True` if the last digit of a number `n` is divisible by 3, `False otherwise`\n",
        "1. Hint: use `% 10` to retrieve the last digit of a number"
      ],
      "metadata": {
        "id": "keDVLI_Iqo9W"
      }
    },
    {
      "cell_type": "code",
      "source": [
        "# write your function here\n",
        "def last_digit_div_3(n):\n",
        "    last_digit = n % 10\n",
        "    if last_digit % 3 == 0:\n",
        "        return True\n",
        "    else:\n",
        "        return False"
      ],
      "metadata": {
        "id": "FOma4oZ7kzV5"
      },
      "execution_count": 2,
      "outputs": []
    },
    {
      "cell_type": "markdown",
      "source": [
        "The next chunk of code is meant to test the function you wrote above.\n",
        "\n"
      ],
      "metadata": {
        "id": "uTj_5ZN7rLOI"
      }
    },
    {
      "cell_type": "code",
      "source": [
        "# no need to change this chunk, just run it to see if you pass\n",
        "# all tests listed here\n",
        "pass_or_fail(last_digit_div_3(19), True)\n",
        "pass_or_fail(last_digit_div_3(23), True)\n",
        "pass_or_fail(last_digit_div_3(12319), True)\n",
        "pass_or_fail(last_digit_div_3(18), False)\n",
        "pass_or_fail(last_digit_div_3(504), False)\n",
        "pass_or_fail(last_digit_div_3(12314), False)"
      ],
      "metadata": {
        "id": "AdoBYpD_rQV-",
        "outputId": "fa049c0a-daf9-4cb8-9bda-f5e40a8b03bf",
        "colab": {
          "base_uri": "https://localhost:8080/"
        }
      },
      "execution_count": 3,
      "outputs": [
        {
          "output_type": "stream",
          "name": "stdout",
          "text": [
            "Test passed.\n",
            "Test passed.\n",
            "Test passed.\n",
            "Test passed.\n",
            "Test passed.\n",
            "Test passed.\n"
          ]
        }
      ]
    },
    {
      "cell_type": "markdown",
      "source": [
        "# Salary bonus\n",
        "\n",
        "1. Function name is `bonus`\n",
        "1. It takes a float argument `salary` representing an employee's salay and an integer `years` representing how many years the employee has worked for the company\n",
        "1. The bonus is 5% of salary if the employee works fewer than five years for the company, and 10% of salary if they have worked five or more years\n",
        "1. The function returns a float rounded at two decimals representing the bonus the employee will get"
      ],
      "metadata": {
        "id": "nBIfPvEKJI54"
      }
    },
    {
      "cell_type": "code",
      "source": [
        "# write your function here\n",
        "def bonus(salary, years):\n",
        "    if years < 5:\n",
        "        bonus_amount = salary * 0.05\n",
        "    else:\n",
        "        bonus_amount = salary * 0.10\n",
        "\n",
        "    return round(bonus_amount, 2)"
      ],
      "metadata": {
        "id": "8fdauRN_J4NP"
      },
      "execution_count": 12,
      "outputs": []
    },
    {
      "cell_type": "markdown",
      "source": [
        "The next chunk of code is meant to test the function you wrote above."
      ],
      "metadata": {
        "id": "Yn_3S7BKKHdn"
      }
    },
    {
      "cell_type": "code",
      "source": [
        "# no need to change this chunk, just run it to see if you pass\n",
        "# all tests listed here\n",
        "pass_or_fail(bonus(100000, 4), 5000.00)\n",
        "pass_or_fail(bonus(100000, 5), 10000.00)\n",
        "pass_or_fail(bonus(85500, 4), 4275.00)\n",
        "pass_or_fail(bonus(85500, 12), 8550.00)"
      ],
      "metadata": {
        "id": "WYrijA3LKEO9",
        "outputId": "27459b61-6f5c-4c05-a341-ced6fb9cb075",
        "colab": {
          "base_uri": "https://localhost:8080/"
        }
      },
      "execution_count": 13,
      "outputs": [
        {
          "output_type": "stream",
          "name": "stdout",
          "text": [
            "Test passed.\n",
            "Test passed.\n",
            "Test passed.\n",
            "Test passed.\n"
          ]
        }
      ]
    },
    {
      "cell_type": "markdown",
      "source": [
        "# Is it a square?\n",
        "\n",
        "1. Function name is `is_square`\n",
        "1. It has two parameters: `width` and `height`\n",
        "1. It returns `It is a square` if `width` and `height` are the same. It returns `It is a rectangle` otherwise."
      ],
      "metadata": {
        "id": "be5oFt0eLBBR"
      }
    },
    {
      "cell_type": "code",
      "source": [
        "# write your function here\n",
        "def is_square(width, height):\n",
        "    if width == height:\n",
        "        return \"It is a square\"\n",
        "    else:\n",
        "        return \"It is a rectangle\""
      ],
      "metadata": {
        "id": "_bxSx3CVOdAf"
      },
      "execution_count": 4,
      "outputs": []
    },
    {
      "cell_type": "markdown",
      "source": [
        "The next chunk of code is meant to test the function you wrote above."
      ],
      "metadata": {
        "id": "izfSAVO_OjU1"
      }
    },
    {
      "cell_type": "code",
      "source": [
        "# no need to change this chunk, just run it to see if you pass\n",
        "# all tests listed here\n",
        "pass_or_fail( is_square(10, 10), \"It is a square\" )\n",
        "pass_or_fail( is_square(10, 15), \"It is a rectangle\" )"
      ],
      "metadata": {
        "id": "70j1cJd1Oohr",
        "outputId": "8234d8f8-0264-4646-d4a3-1fee8625f8f7",
        "colab": {
          "base_uri": "https://localhost:8080/"
        }
      },
      "execution_count": 5,
      "outputs": [
        {
          "output_type": "stream",
          "name": "stdout",
          "text": [
            "Test passed.\n",
            "Test passed.\n"
          ]
        }
      ]
    },
    {
      "cell_type": "markdown",
      "source": [
        "# Range\n",
        "\n",
        "1. Function name is `range_of_three`\n",
        "1. It takes three numeric arguments: `x`, `y` and `z`\n",
        "1. It returns the difference between the highest and lowest values"
      ],
      "metadata": {
        "id": "uSheGbU9LgK2"
      }
    },
    {
      "cell_type": "code",
      "source": [
        "# write your function here\n",
        "def range_of_three(x, y, z):\n",
        "    highest = max(x, y, z)\n",
        "    lowest = min(x, y, z)\n",
        "    return highest - lowest"
      ],
      "metadata": {
        "id": "C9nMm-vyOdwp"
      },
      "execution_count": 6,
      "outputs": []
    },
    {
      "cell_type": "markdown",
      "source": [
        "The next chunk of code is meant to test the function you wrote above."
      ],
      "metadata": {
        "id": "QYn68oEKOkMn"
      }
    },
    {
      "cell_type": "code",
      "source": [
        "# no need to change this chunk, just run it to see if you pass\n",
        "# all tests listed here\n",
        "pass_or_fail( range_of_three(3, 2, 8), 6)\n",
        "pass_or_fail( range_of_three(10, 2, 8), 8)\n",
        "pass_or_fail( range_of_three(10, 2, -8), 18)"
      ],
      "metadata": {
        "id": "Kq_dBCWKOqk6",
        "outputId": "6ce67eaf-7bf6-4608-a23d-809d704a92a9",
        "colab": {
          "base_uri": "https://localhost:8080/"
        }
      },
      "execution_count": 7,
      "outputs": [
        {
          "output_type": "stream",
          "name": "stdout",
          "text": [
            "Test passed.\n",
            "Test passed.\n",
            "Test passed.\n"
          ]
        }
      ]
    },
    {
      "cell_type": "markdown",
      "source": [
        "# No soup for Jerry\n",
        "\n",
        "1. Function name is `soup_or_no_soup`\n",
        "1. It has two parameters: a string `customer_name` and an integer `portion_count`\n",
        "1. If the customer name is `Jerry` return `No soup`, otherwise return `portion_count` multiplied by 5.90 (rounded at two decimals)"
      ],
      "metadata": {
        "id": "xy07AD_xMQBo"
      }
    },
    {
      "cell_type": "code",
      "source": [
        "# write your function here\n",
        "def soup_or_no_soup(customer_name, portion_count):\n",
        "    if customer_name == \"Jerry\":\n",
        "        return \"No soup\"\n",
        "    else:\n",
        "        return round(portion_count * 5.90, 2)"
      ],
      "metadata": {
        "id": "FYzSp1DBOekO"
      },
      "execution_count": 10,
      "outputs": []
    },
    {
      "cell_type": "markdown",
      "source": [
        "The next chunk of code is meant to test the function you wrote above."
      ],
      "metadata": {
        "id": "tPeWjWKUOk-F"
      }
    },
    {
      "cell_type": "code",
      "source": [
        "# no need to change this chunk, just run it to see if you pass\n",
        "# all tests listed here\n",
        "pass_or_fail( soup_or_no_soup(\"Jerry\", 2), \"No soup\" )\n",
        "pass_or_fail( soup_or_no_soup(\"Elaine\", 1), 5.90 )\n",
        "pass_or_fail( soup_or_no_soup(\"Kramer\", 17), 100.30 )"
      ],
      "metadata": {
        "id": "Byi9ROcgOsUY",
        "outputId": "76eb0282-4cbc-4ea5-93bf-7e9463f6aa61",
        "colab": {
          "base_uri": "https://localhost:8080/"
        }
      },
      "execution_count": 11,
      "outputs": [
        {
          "output_type": "stream",
          "name": "stdout",
          "text": [
            "Test passed.\n",
            "Test passed.\n",
            "Test passed.\n"
          ]
        }
      ]
    },
    {
      "cell_type": "markdown",
      "source": [
        "# Order of magnitude\n",
        "\n",
        "1. Function name is `magnitude`\n",
        "1. It takes an integer `n` as argument\n",
        "1. It returns:\n",
        "  * `0` if `n` is between 0 and 9  \n",
        "  * `1` if `n` is between 10 and 99\n",
        "  * `2` if `n` is between 100 and 999\n",
        "  * `3` if `n` is between 1000 and 9999\n",
        "  * `4` if `n` is between 10000 and 99999\n"
      ],
      "metadata": {
        "id": "t-iNcW5VMwhs"
      }
    },
    {
      "cell_type": "code",
      "source": [
        "# write your function here\n",
        "def magnitude(n):\n",
        "    if 0 <= n <= 9:\n",
        "        return 0\n",
        "    elif 10 <= n <= 99:\n",
        "        return 1\n",
        "    elif 100 <= n <= 999:\n",
        "        return 2\n",
        "    elif 1000 <= n <= 9999:\n",
        "        return 3\n",
        "    elif 10000 <= n <= 99999:\n",
        "        return 4"
      ],
      "metadata": {
        "id": "mgg7n-LuOfRQ"
      },
      "execution_count": 8,
      "outputs": []
    },
    {
      "cell_type": "markdown",
      "source": [
        "The next chunk of code is meant to test the function you wrote above."
      ],
      "metadata": {
        "id": "L77-DbJKOlsc"
      }
    },
    {
      "cell_type": "code",
      "source": [
        "# no need to change this chunk, just run it to see if you pass\n",
        "# all tests listed here\n",
        "pass_or_fail( magnitude(5), 0 )\n",
        "pass_or_fail( magnitude(12), 1 )\n",
        "pass_or_fail( magnitude(100), 2 )\n",
        "pass_or_fail( magnitude(1000), 3 )\n",
        "pass_or_fail( magnitude(10001), 4 )"
      ],
      "metadata": {
        "id": "fRl8yxnyOtQh",
        "outputId": "9e6f3381-a76b-4231-9c09-ed2288da262c",
        "colab": {
          "base_uri": "https://localhost:8080/"
        }
      },
      "execution_count": 9,
      "outputs": [
        {
          "output_type": "stream",
          "name": "stdout",
          "text": [
            "Test passed.\n",
            "Test passed.\n",
            "Test passed.\n",
            "Test passed.\n",
            "Test passed.\n"
          ]
        }
      ]
    }
  ]
}