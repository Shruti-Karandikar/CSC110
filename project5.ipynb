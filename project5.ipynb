{
 "cells": [
  {
   "cell_type": "code",
   "execution_count": null,
   "id": "87634745",
   "metadata": {},
   "outputs": [],
   "source": [
    "def create_board():\n",
    "    return [\"WKi\", \"WKn\", \"WKn\", \"EMPTY\", \"EMPTY\", \"EMPTY\", \"BKn\", \"BKn\", \"BKi\"]"
   ]
  },
  {
   "cell_type": "code",
   "execution_count": 13,
   "id": "8d092ff0",
   "metadata": {},
   "outputs": [
    {
     "name": "stdout",
     "output_type": "stream",
     "text": [
      "['WKi', 'WKn', 'WKn', 'EMPTY', 'EMPTY', 'EMPTY', 'BKn', 'BKn', 'BKi']\n"
     ]
    }
   ],
   "source": [
    "print( create_board() ) # [\"WKi\", \"WKn\", \"WKn\", \n",
    "                        #  \"EMPTY\", \"EMPTY\", \"EMPTY\",\n",
    "                        #  \"BKn\", \"BKn\", \"BKi\"]"
   ]
  },
  {
   "cell_type": "code",
   "execution_count": 9,
   "id": "f7a2f8fb",
   "metadata": {},
   "outputs": [],
   "source": [
    "def printable_board(board):\n",
    "    result = \"+-----------------------------------------------------+\\n\"\n",
    "    result += \"| \"\n",
    "    for piece in board:\n",
    "        if piece == \"EMPTY\":\n",
    "            result += \"    | \"\n",
    "        else:\n",
    "            result += piece + \" | \"\n",
    "    result += \"\\n+-----------------------------------------------------+\"\n",
    "    return result"
   ]
  },
  {
   "cell_type": "code",
   "execution_count": 14,
   "id": "036e4ce8",
   "metadata": {},
   "outputs": [
    {
     "name": "stdout",
     "output_type": "stream",
     "text": [
      "+-----------------------------------------------------+\n",
      "| WKi | WKn | WKn |     |     |     | BKn | BKn | BKi | \n",
      "+-----------------------------------------------------+\n"
     ]
    }
   ],
   "source": [
    "board = create_board()\n",
    "print( printable_board(board) ) # \"+-----------------------------------------------------+\\n\n",
    "                                #  | WKi | WKn | WKn |     |     |     | BKn | BKn | BKi |\\n\n",
    "                                #  +-----------------------------------------------------+\""
   ]
  },
  {
   "cell_type": "code",
   "execution_count": null,
   "id": "43720efa",
   "metadata": {},
   "outputs": [],
   "source": [
    "def is_valid_move(board, position, player):\n",
    "    if position < 0 or position >= len(board):\n",
    "        return False\n",
    "    \n",
    "    piece = board[position]\n",
    "    if piece == \"EMPTY\":\n",
    "        return False\n",
    "    \n",
    "    if player == \"WHITE\" and piece[0] == \"W\":\n",
    "        return True\n",
    "    \n",
    "    elif player == \"BLACK\" and piece[0] == \"B\":\n",
    "        return True\n",
    "    \n",
    "    return False"
   ]
  },
  {
   "cell_type": "code",
   "execution_count": 16,
   "id": "16601671",
   "metadata": {},
   "outputs": [
    {
     "name": "stdout",
     "output_type": "stream",
     "text": [
      "+-----------------------------------------------------+\n",
      "| WKi | WKn | WKn |     |     |     | BKn | BKn | BKi | \n",
      "+-----------------------------------------------------+\n"
     ]
    }
   ],
   "source": [
    "board = create_board()\n",
    "print( printable_board(board) )\n",
    "assert is_valid_move(board, 1, \"BLACK\" ) == False\n",
    "assert is_valid_move(board, 9, \"BLACK\" ) == False\n",
    "assert is_valid_move(board, -1, \"BLACK\" ) == False\n",
    "assert is_valid_move(board, 6, \"BLACK\" ) == True\n",
    "assert is_valid_move(board, 2, \"WHITE\" ) == True"
   ]
  },
  {
   "cell_type": "code",
   "execution_count": null,
   "id": "b4e03b86",
   "metadata": {},
   "outputs": [],
   "source": [
    "def move_king(board, position, direction):\n",
    "    if position < 0 or position >= len(board) or \"Ki\" not in board[position]:\n",
    "        return\n",
    "    king = board[position]\n",
    "    \n",
    "    if (direction == \"LEFT\" and position == 0) or (direction == \"RIGHT\" and position == len(board) - 1):\n",
    "        return\n",
    "    \n",
    "    board[position] = \"EMPTY\" \n",
    "    \n",
    "    if direction == \"LEFT\":\n",
    "        for i in range(position - 1, -1, -1):\n",
    "            if board[i] != \"EMPTY\":\n",
    "                # Kill the piece and take its spot\n",
    "                board[i] = king\n",
    "                return\n",
    "            if i == 0:  # Reached the edge of the board\n",
    "                board[i] = king\n",
    "                return\n",
    "    \n",
    "    elif direction == \"RIGHT\":\n",
    "        for i in range(position + 1, len(board)):\n",
    "            if board[i] != \"EMPTY\":\n",
    "                # Kill the piece and take its spot\n",
    "                board[i] = king\n",
    "                return\n",
    "            if i == len(board) - 1:  # Reached the edge of the board\n",
    "                board[i] = king\n",
    "                return"
   ]
  },
  {
   "cell_type": "code",
   "execution_count": 17,
   "id": "055814ad",
   "metadata": {},
   "outputs": [
    {
     "name": "stdout",
     "output_type": "stream",
     "text": [
      "+-----------------------------------------------------+\n",
      "| WKi | WKn | WKn |     |     |     | BKn | BKn | BKi | \n",
      "+-----------------------------------------------------+\n",
      "+-----------------------------------------------------+\n",
      "| WKi | WKn | WKn |     |     |     | BKn | BKn | BKi | \n",
      "+-----------------------------------------------------+\n",
      "+-----------------------------------------------------+\n",
      "| WKi | WKn | WKn |     |     |     | BKn | BKi |     | \n",
      "+-----------------------------------------------------+\n"
     ]
    }
   ],
   "source": [
    "board = create_board()\n",
    "print( printable_board(board) )\n",
    "\n",
    "move_king(board, 0, \"LEFT\") \n",
    "print( printable_board(board) )\n",
    "\n",
    "move_king(board, 8, \"LEFT\")\n",
    "print( printable_board(board) )"
   ]
  },
  {
   "cell_type": "code",
   "execution_count": null,
   "id": "bb4fe5bf",
   "metadata": {},
   "outputs": [],
   "source": [
    "def move_knight(board, position, direction):\n",
    "    if position < 0 or position >= len(board) or \"Kn\" not in board[position]:\n",
    "        return\n",
    "    knight = board[position]\n",
    "    \n",
    "    if direction == \"LEFT\":\n",
    "        new_position = position - 2\n",
    "        \n",
    "    elif direction == \"RIGHT\":\n",
    "        new_position = position + 2\n",
    "    \n",
    "    if new_position < 0 or new_position >= len(board):\n",
    "        return\n",
    "    \n",
    "    board[position] = \"EMPTY\"\n",
    "    board[new_position] = knight"
   ]
  },
  {
   "cell_type": "code",
   "execution_count": 18,
   "id": "7c211615",
   "metadata": {},
   "outputs": [
    {
     "name": "stdout",
     "output_type": "stream",
     "text": [
      "+-----------------------------------------------------+\n",
      "| WKi | WKn | WKn |     |     |     | BKn | BKn | BKi | \n",
      "+-----------------------------------------------------+\n",
      "+-----------------------------------------------------+\n",
      "| WKi | WKn | WKn |     | BKn |     |     | BKn | BKi | \n",
      "+-----------------------------------------------------+\n",
      "+-----------------------------------------------------+\n",
      "| WKi | WKn |     |     | WKn |     |     | BKn | BKi | \n",
      "+-----------------------------------------------------+\n"
     ]
    }
   ],
   "source": [
    "board = create_board()\n",
    "print( printable_board(board) )\n",
    "\n",
    "move_knight(board, 6, \"LEFT\") \n",
    "print( printable_board(board) )\n",
    "\n",
    "move_knight(board, 2, \"RIGHT\") \n",
    "print( printable_board(board) )"
   ]
  },
  {
   "cell_type": "code",
   "execution_count": null,
   "id": "c23502c7",
   "metadata": {},
   "outputs": [],
   "source": [
    "def move(board, position, direction):\n",
    "    if position < 0 or position >= len(board) or board[position] == \"EMPTY\":\n",
    "        return\n",
    "    \n",
    "    if \"Ki\" in board[position]:\n",
    "        move_king(board, position, direction)\n",
    "        \n",
    "    elif \"Kn\" in board[position]:\n",
    "        move_knight(board, position, direction)"
   ]
  },
  {
   "cell_type": "code",
   "execution_count": 19,
   "id": "31cfdce4",
   "metadata": {},
   "outputs": [
    {
     "name": "stdout",
     "output_type": "stream",
     "text": [
      "+-----------------------------------------------------+\n",
      "| WKi | WKn | WKn |     |     |     | BKn | BKn | BKi | \n",
      "+-----------------------------------------------------+\n",
      "+-----------------------------------------------------+\n",
      "| WKi | WKn | WKn |     |     |     | BKn | BKn | BKi | \n",
      "+-----------------------------------------------------+\n",
      "+-----------------------------------------------------+\n",
      "| WKi | WKn | WKn |     |     |     | BKn | BKi |     | \n",
      "+-----------------------------------------------------+\n"
     ]
    }
   ],
   "source": [
    "board = create_board()\n",
    "print( printable_board(board) )\n",
    "\n",
    "move(board, 0, \"LEFT\")\n",
    "print( printable_board(board) )\n",
    "\n",
    "move(board, 8, \"LEFT\") \n",
    "print( printable_board(board) )"
   ]
  },
  {
   "cell_type": "code",
   "execution_count": null,
   "id": "da4a7729",
   "metadata": {},
   "outputs": [],
   "source": [
    "def is_game_over(board):\n",
    "    white_king_exists = \"WKi\" in board\n",
    "    black_king_exists = \"BKi\" in board\n",
    "    \n",
    "    if not white_king_exists:\n",
    "        print(\"Black wins!\", end=\"\")\n",
    "        return True\n",
    "    \n",
    "    if not black_king_exists:\n",
    "        print(\"White wins!\", end=\"\")\n",
    "        return True\n",
    "    return False"
   ]
  },
  {
   "cell_type": "code",
   "execution_count": 20,
   "id": "b20b5198",
   "metadata": {},
   "outputs": [
    {
     "name": "stdout",
     "output_type": "stream",
     "text": [
      "+-----------------------------------------------------+\n",
      "| WKi | WKn | WKn |     |     |     | BKn | BKn | BKi | \n",
      "+-----------------------------------------------------+\n",
      "+-----------------------------------------------------+\n",
      "| WKi | WKn |     |     | WKn |     | BKn | BKn | BKi | \n",
      "+-----------------------------------------------------+\n",
      "+-----------------------------------------------------+\n",
      "| WKi | WKn |     |     | BKn |     |     | BKn | BKi | \n",
      "+-----------------------------------------------------+\n",
      "+-----------------------------------------------------+\n",
      "| WKi |     |     | WKn | BKn |     |     | BKn | BKi | \n",
      "+-----------------------------------------------------+\n",
      "+-----------------------------------------------------+\n",
      "| WKi |     | BKn | WKn |     |     |     | BKn | BKi | \n",
      "+-----------------------------------------------------+\n",
      "+-----------------------------------------------------+\n",
      "|     |     | WKi | WKn |     |     |     | BKn | BKi | \n",
      "+-----------------------------------------------------+\n",
      "+-----------------------------------------------------+\n",
      "|     |     | WKi | WKn |     | BKn |     |     | BKi | \n",
      "+-----------------------------------------------------+\n",
      "+-----------------------------------------------------+\n",
      "|     |     | WKi |     |     | WKn |     |     | BKi | \n",
      "+-----------------------------------------------------+\n",
      "+-----------------------------------------------------+\n",
      "|     |     | WKi |     |     | BKi |     |     |     | \n",
      "+-----------------------------------------------------+\n",
      "+-----------------------------------------------------+\n",
      "|     |     |     |     |     | WKi |     |     |     | \n",
      "+-----------------------------------------------------+\n",
      "White wins!"
     ]
    }
   ],
   "source": [
    "board = create_board()\n",
    "print( printable_board(board) )\n",
    "\n",
    "assert is_game_over(board) == False\n",
    "move(board, 2, \"RIGHT\")\n",
    "print( printable_board(board) )\n",
    "\n",
    "assert is_game_over(board) == False\n",
    "move(board, 6, \"LEFT\")\n",
    "print( printable_board(board) )\n",
    "\n",
    "assert is_game_over(board) == False\n",
    "move(board, 1, \"RIGHT\")\n",
    "print( printable_board(board) )\n",
    "\n",
    "assert is_game_over(board) == False\n",
    "move(board, 4, \"LEFT\")\n",
    "print( printable_board(board) )\n",
    "\n",
    "assert is_game_over(board) == False\n",
    "move(board, 0, \"RIGHT\")\n",
    "print( printable_board(board) )\n",
    "\n",
    "assert is_game_over(board) == False\n",
    "move(board, 7, \"LEFT\")\n",
    "print( printable_board(board) )\n",
    "\n",
    "assert is_game_over(board) == False\n",
    "move(board, 3, \"RIGHT\")\n",
    "print( printable_board(board) )\n",
    "\n",
    "assert is_game_over(board) == False\n",
    "move(board, 8, \"LEFT\")\n",
    "print( printable_board(board) )\n",
    "\n",
    "assert is_game_over(board) == False\n",
    "move(board, 2, \"RIGHT\")\n",
    "print( printable_board(board) )\n",
    "\n",
    "assert is_game_over(board) == True"
   ]
  }
 ],
 "metadata": {
  "kernelspec": {
   "display_name": "base",
   "language": "python",
   "name": "python3"
  },
  "language_info": {
   "codemirror_mode": {
    "name": "ipython",
    "version": 3
   },
   "file_extension": ".py",
   "mimetype": "text/x-python",
   "name": "python",
   "nbconvert_exporter": "python",
   "pygments_lexer": "ipython3",
   "version": "3.12.8"
  }
 },
 "nbformat": 4,
 "nbformat_minor": 5
}
