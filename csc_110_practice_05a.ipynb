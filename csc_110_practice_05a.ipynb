{
  "nbformat": 4,
  "nbformat_minor": 0,
  "metadata": {
    "colab": {
      "provenance": [],
      "include_colab_link": true
    },
    "kernelspec": {
      "name": "python3",
      "display_name": "Python 3"
    },
    "language_info": {
      "name": "python"
    }
  },
  "cells": [
    {
      "cell_type": "markdown",
      "metadata": {
        "id": "view-in-github",
        "colab_type": "text"
      },
      "source": [
        "<a href=\"https://colab.research.google.com/github/Shruti-Karandikar/CSC110/blob/main/csc_110_practice_05a.ipynb\" target=\"_parent\"><img src=\"https://colab.research.google.com/assets/colab-badge.svg\" alt=\"Open In Colab\"/></a>"
      ]
    },
    {
      "cell_type": "markdown",
      "source": [
        "# CSC 110 Spring 2023 Practice Problems -- Module 7 I\n",
        "\n",
        "This notebook contains a series of practice problems for CSC 110 Computer Programming I.\n",
        "\n",
        "Click on \"File\" and then choose \"Save a copy in Drive\" to create a copy of this notebook that you can make changes to."
      ],
      "metadata": {
        "id": "-XYNI5SFsGTW"
      }
    },
    {
      "cell_type": "code",
      "execution_count": 1,
      "metadata": {
        "id": "Nvyjb0xwj2ER"
      },
      "outputs": [],
      "source": [
        "# don't change this chunk of code, just run it\n",
        "# this is used to test your solution after\n",
        "# you've written your solutions to each problem\n",
        "def pass_or_fail(result, assert_value):\n",
        "  '''\n",
        "  This function tests whether a value returned by a function matches\n",
        "  the expected value -- it's used to test functions\n",
        "  Args:\n",
        "    result: any type returned by a function\n",
        "    assert_value: any type that is expected\n",
        "  Returns:\n",
        "    nothing, it prints messages\n",
        "  '''\n",
        "  # try to assert value returned by function is equal to expected value\n",
        "  try:\n",
        "    assert result == assert_value\n",
        "    print(\"Test passed.\")\n",
        "  except AssertionError: # try failed, values are different\n",
        "    print(\"Test failed. \" + str(result) + \" != \" + str(assert_value))"
      ]
    },
    {
      "cell_type": "markdown",
      "source": [
        "## Mutate list 1\n",
        "\n",
        "1. Its name is `make_all_even`\n",
        "1. It takes one argument, a list of integers\n",
        "1. It iterates over the list, changing odd numbers to even number (even up by adding 1 to odd numbers)\n",
        "1. It mutates the argument list\n",
        "1. It returns the modified argument list"
      ],
      "metadata": {
        "id": "keDVLI_Iqo9W"
      }
    },
    {
      "cell_type": "code",
      "source": [
        "# write your function here\n",
        "def make_all_even(numbers):\n",
        "    i = 0\n",
        "    while i < len(numbers):\n",
        "        if numbers[i] % 2 != 0:\n",
        "            numbers[i] += 1\n",
        "        i += 1\n",
        "\n",
        "    return numbers"
      ],
      "metadata": {
        "id": "FOma4oZ7kzV5"
      },
      "execution_count": 2,
      "outputs": []
    },
    {
      "cell_type": "markdown",
      "source": [
        "The next chunk of code is meant to test the function you wrote above.\n",
        "\n"
      ],
      "metadata": {
        "id": "uTj_5ZN7rLOI"
      }
    },
    {
      "cell_type": "code",
      "source": [
        "# no need to change this chunk, just run it to see if you pass\n",
        "# all tests listed here\n",
        "pass_or_fail( make_all_even([0, 1, 2, 3]), [0, 2, 2, 4])\n",
        "pass_or_fail( make_all_even([]), [])\n",
        "pass_or_fail( make_all_even([1, 1, 1, 1, 1, 1]), [2, 2, 2, 2, 2, 2])\n",
        "original_list = [3, 2, 45, 1]\n",
        "make_all_even(original_list)\n",
        "pass_or_fail( original_list, [4, 2, 46, 2])\n"
      ],
      "metadata": {
        "id": "AdoBYpD_rQV-",
        "outputId": "4ed80cde-493b-4118-e195-50c50bd9860f",
        "colab": {
          "base_uri": "https://localhost:8080/"
        }
      },
      "execution_count": 3,
      "outputs": [
        {
          "output_type": "stream",
          "name": "stdout",
          "text": [
            "Test passed.\n",
            "Test passed.\n",
            "Test passed.\n",
            "Test passed.\n"
          ]
        }
      ]
    },
    {
      "cell_type": "markdown",
      "source": [
        "## Mutate list 2\n",
        "\n",
        "1. Its name is `make_all_odd`\n",
        "1. It takes one argument, a list of integers\n",
        "1. It iterates over the list, changing even numbers to odd number (odd up by adding 1 to even numbers)\n",
        "1. It mutates the argument list\n",
        "1. It returns the modified argument list"
      ],
      "metadata": {
        "id": "nBIfPvEKJI54"
      }
    },
    {
      "cell_type": "code",
      "source": [
        "# write your function here\n",
        "def make_all_odd(numbers):\n",
        "    i = 0\n",
        "    while i < len(numbers):\n",
        "        if numbers[i] % 2 == 0:\n",
        "            numbers[i] += 1\n",
        "        i += 1\n",
        "    return numbers"
      ],
      "metadata": {
        "id": "8fdauRN_J4NP"
      },
      "execution_count": 4,
      "outputs": []
    },
    {
      "cell_type": "markdown",
      "source": [
        "The next chunk of code is meant to test the function you wrote above."
      ],
      "metadata": {
        "id": "Yn_3S7BKKHdn"
      }
    },
    {
      "cell_type": "code",
      "source": [
        "# no need to change this chunk, just run it to see if you pass\n",
        "# all tests listed here\n",
        "pass_or_fail( make_all_odd([0, 1, 2, 3]), [1, 1, 3, 3])\n",
        "pass_or_fail( make_all_odd([]), [])\n",
        "pass_or_fail( make_all_odd([1, 1, 1, 1, 1, 1]), [1, 1, 1, 1, 1, 1])\n",
        "original_list = [3, 2, 45, 1]\n",
        "make_all_odd(original_list)\n",
        "pass_or_fail( original_list, [3, 3, 45, 1])\n"
      ],
      "metadata": {
        "id": "WYrijA3LKEO9",
        "outputId": "72cc78cf-9296-4f60-9c00-b1c26ec92f77",
        "colab": {
          "base_uri": "https://localhost:8080/"
        }
      },
      "execution_count": 5,
      "outputs": [
        {
          "output_type": "stream",
          "name": "stdout",
          "text": [
            "Test passed.\n",
            "Test passed.\n",
            "Test passed.\n",
            "Test passed.\n"
          ]
        }
      ]
    },
    {
      "cell_type": "markdown",
      "source": [
        "# Mutate list 3\n",
        "\n",
        "1. Function name is `number_to_string`\n",
        "1. It takes one argument, a list of integers\n",
        "1. It iterates over the list, changing the integer values to string using the built-in function `str()`\n",
        "1. It mutates the argument list\n",
        "1. It returns the modified argument list"
      ],
      "metadata": {
        "id": "be5oFt0eLBBR"
      }
    },
    {
      "cell_type": "code",
      "source": [
        "# write your function here\n",
        "def number_to_string(numbers):\n",
        "    i = 0\n",
        "    while i < len(numbers):\n",
        "        numbers[i] = str(numbers[i])\n",
        "        i += 1\n",
        "\n",
        "    return numbers"
      ],
      "metadata": {
        "id": "_bxSx3CVOdAf"
      },
      "execution_count": 6,
      "outputs": []
    },
    {
      "cell_type": "markdown",
      "source": [
        "The next chunk of code is meant to test the function you wrote above."
      ],
      "metadata": {
        "id": "izfSAVO_OjU1"
      }
    },
    {
      "cell_type": "code",
      "source": [
        "# no need to change this chunk, just run it to see if you pass\n",
        "# all tests listed here\n",
        "pass_or_fail( number_to_string([]), [] )\n",
        "pass_or_fail( number_to_string([0, 1, 2, 3, 4]), [\"0\", \"1\", \"2\", \"3\", \"4\"] )\n",
        "original_list = [30, 31, 32, 89]\n",
        "number_to_string(original_list)\n",
        "pass_or_fail( original_list, [\"30\", \"31\", \"32\", \"89\"])"
      ],
      "metadata": {
        "id": "70j1cJd1Oohr",
        "outputId": "5b7503e8-65a8-4976-dd39-fc74bf6c2c15",
        "colab": {
          "base_uri": "https://localhost:8080/"
        }
      },
      "execution_count": 7,
      "outputs": [
        {
          "output_type": "stream",
          "name": "stdout",
          "text": [
            "Test passed.\n",
            "Test passed.\n",
            "Test passed.\n"
          ]
        }
      ]
    },
    {
      "cell_type": "markdown",
      "source": [
        "# Mutate list 4\n",
        "\n",
        "1. Function name is `string_to_integer`\n",
        "1. It takes one argument, a list of strings\n",
        "1. It iterates over the list, changing the string values to string (check if `.is.numeric()`) using the built-in function `int()` -- it doesn't convert strings that are not numeric\n",
        "1. It mutates the argument list\n",
        "1. It returns the modified argument list"
      ],
      "metadata": {
        "id": "uSheGbU9LgK2"
      }
    },
    {
      "cell_type": "code",
      "source": [
        "# write your function here\n",
        "def string_to_integer(strings):\n",
        "    i = 0\n",
        "    while i < len(strings):\n",
        "        if strings[i].isnumeric():\n",
        "            strings[i] = int(strings[i])\n",
        "        i += 1\n",
        "\n",
        "    return strings"
      ],
      "metadata": {
        "id": "C9nMm-vyOdwp"
      },
      "execution_count": 8,
      "outputs": []
    },
    {
      "cell_type": "markdown",
      "source": [
        "The next chunk of code is meant to test the function you wrote above."
      ],
      "metadata": {
        "id": "QYn68oEKOkMn"
      }
    },
    {
      "cell_type": "code",
      "source": [
        "# no need to change this chunk, just run it to see if you pass\n",
        "# all tests listed here\n",
        "pass_or_fail( string_to_integer([]), [] )\n",
        "pass_or_fail( string_to_integer([\"0\", \"1\", \"2\", \"3\", \"4\"]),  [0, 1, 2, 3, 4])\n",
        "original_list = [\"30\", \"31\", \"32\", \"89\"]\n",
        "string_to_integer(original_list)\n",
        "pass_or_fail( original_list, [30, 31, 32, 89])\n",
        "\n",
        "original_list = [\"30\", \"q\", \"32\", \"b\"]\n",
        "string_to_integer(original_list)\n",
        "pass_or_fail( original_list, [30, \"q\", 32, \"b\"])"
      ],
      "metadata": {
        "id": "Kq_dBCWKOqk6",
        "outputId": "2fa00a8b-3ffe-4940-97d4-d5721958ccc2",
        "colab": {
          "base_uri": "https://localhost:8080/"
        }
      },
      "execution_count": 9,
      "outputs": [
        {
          "output_type": "stream",
          "name": "stdout",
          "text": [
            "Test passed.\n",
            "Test passed.\n",
            "Test passed.\n",
            "Test passed.\n"
          ]
        }
      ]
    },
    {
      "cell_type": "markdown",
      "source": [
        "# Mutate list again\n",
        "\n",
        "1. Function name is `double_all`\n",
        "1. It takes one argument, a list of integers\n",
        "1. It iterates over the list, multiplying each number in list by 2\n",
        "1. It mutates the argument list\n",
        "1. It returns the modified argument list"
      ],
      "metadata": {
        "id": "xy07AD_xMQBo"
      }
    },
    {
      "cell_type": "code",
      "source": [
        "# write your function here\n",
        "def double_all(numbers):\n",
        "    i = 0\n",
        "    while i < len(numbers):\n",
        "        numbers[i] = numbers[i] * 2\n",
        "        i += 1\n",
        "\n",
        "    return numbers"
      ],
      "metadata": {
        "id": "FYzSp1DBOekO"
      },
      "execution_count": 10,
      "outputs": []
    },
    {
      "cell_type": "markdown",
      "source": [
        "The next chunk of code is meant to test the function you wrote above."
      ],
      "metadata": {
        "id": "tPeWjWKUOk-F"
      }
    },
    {
      "cell_type": "code",
      "source": [
        "# no need to change this chunk, just run it to see if you pass\n",
        "# all tests listed here\n",
        "test_list = []\n",
        "double_all(test_list)\n",
        "pass_or_fail( test_list, [])\n",
        "\n",
        "test_list = [1, 1]\n",
        "double_all(test_list)\n",
        "pass_or_fail( test_list, [2, 2])\n",
        "\n",
        "pass_or_fail( double_all([0, 1, 2, 3, 4]), [0, 2, 4, 6, 8])"
      ],
      "metadata": {
        "id": "Byi9ROcgOsUY",
        "outputId": "e379c622-6d39-47f3-edba-850eaf71bb6a",
        "colab": {
          "base_uri": "https://localhost:8080/"
        }
      },
      "execution_count": 11,
      "outputs": [
        {
          "output_type": "stream",
          "name": "stdout",
          "text": [
            "Test passed.\n",
            "Test passed.\n",
            "Test passed.\n"
          ]
        }
      ]
    },
    {
      "cell_type": "markdown",
      "source": [
        "# Mutate list last time\n",
        "\n",
        "1. Function name is `square_all`\n",
        "1. It takes one argument, a list of integers\n",
        "1. It iterates over the list, calculating each number in list to the power of 2\n",
        "1. It mutates the argument list\n",
        "1. It returns the modified argument list"
      ],
      "metadata": {
        "id": "t-iNcW5VMwhs"
      }
    },
    {
      "cell_type": "code",
      "source": [
        "# write your function here\n",
        "def square_all(numbers):\n",
        "    i = 0\n",
        "    while i < len(numbers):\n",
        "        numbers[i] = numbers[i] ** 2  # Square the integer\n",
        "        i += 1\n",
        "\n",
        "    return numbers"
      ],
      "metadata": {
        "id": "mgg7n-LuOfRQ"
      },
      "execution_count": 12,
      "outputs": []
    },
    {
      "cell_type": "markdown",
      "source": [
        "The next chunk of code is meant to test the function you wrote above."
      ],
      "metadata": {
        "id": "L77-DbJKOlsc"
      }
    },
    {
      "cell_type": "code",
      "source": [
        "# no need to change this chunk, just run it to see if you pass\n",
        "# all tests listed here\n",
        "test_list = []\n",
        "square_all(test_list)\n",
        "pass_or_fail( test_list, [])\n",
        "\n",
        "test_list = [1, 1]\n",
        "square_all(test_list)\n",
        "pass_or_fail( test_list, [1, 1])\n",
        "\n",
        "pass_or_fail( square_all([0, 1, 2, 3, 4]), [0, 1, 4, 9, 16])"
      ],
      "metadata": {
        "id": "fRl8yxnyOtQh",
        "outputId": "1aa4a98c-a6c1-4f30-ee47-d03cba938795",
        "colab": {
          "base_uri": "https://localhost:8080/"
        }
      },
      "execution_count": 13,
      "outputs": [
        {
          "output_type": "stream",
          "name": "stdout",
          "text": [
            "Test passed.\n",
            "Test passed.\n",
            "Test passed.\n"
          ]
        }
      ]
    }
  ]
}