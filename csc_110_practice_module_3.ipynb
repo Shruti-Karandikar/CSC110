{
  "nbformat": 4,
  "nbformat_minor": 0,
  "metadata": {
    "colab": {
      "provenance": [],
      "include_colab_link": true
    },
    "kernelspec": {
      "name": "python3",
      "display_name": "Python 3"
    },
    "language_info": {
      "name": "python"
    }
  },
  "cells": [
    {
      "cell_type": "markdown",
      "metadata": {
        "id": "view-in-github",
        "colab_type": "text"
      },
      "source": [
        "<a href=\"https://colab.research.google.com/github/Shruti-Karandikar/CSC110/blob/main/csc_110_practice_module_3.ipynb\" target=\"_parent\"><img src=\"https://colab.research.google.com/assets/colab-badge.svg\" alt=\"Open In Colab\"/></a>"
      ]
    },
    {
      "cell_type": "markdown",
      "source": [
        "# CSC 110 Spring 2023 Practice Problems Module 3\n",
        "\n",
        "This notebook contains a series of practice problems for CSC 110 Computer Programming I.\n",
        "\n",
        "Click on \"File\" and then choose \"Save a copy in Drive\" to create a copy of this notebook that you can make changes to."
      ],
      "metadata": {
        "id": "-XYNI5SFsGTW"
      }
    },
    {
      "cell_type": "code",
      "execution_count": 1,
      "metadata": {
        "id": "Nvyjb0xwj2ER"
      },
      "outputs": [],
      "source": [
        "# don't change this chunk of code, this is used to test your solution after\n",
        "# you've written your solutions to each problem\n",
        "def pass_or_fail(result, assert_value):\n",
        "  '''\n",
        "  This function tests whether a value returned by a function matches\n",
        "  the expected value -- it's used to test functions\n",
        "  Args:\n",
        "    result: any type returned by a function\n",
        "    assert_value: any type that is expected\n",
        "  Returns:\n",
        "    nothing, it prints messages\n",
        "  '''\n",
        "  # try to assert value returned by function is equal to expected value\n",
        "  try:\n",
        "    assert result == assert_value\n",
        "    print(\"Test passed.\")\n",
        "  except AssertionError: # try failed, values are different\n",
        "    print(\"Test failed. \" + str(result) + \" != \" + str(assert_value))"
      ]
    },
    {
      "cell_type": "markdown",
      "source": [
        "## Take input, return message 1\n",
        "\n",
        "1. Function name is `calculate_year_born`\n",
        "1. Function has no parameters\n",
        "1. It requests for user input inside the function, asking for the user's age\n",
        "1. It type casts the user string into an integer, and it subtracts the age from the current year\n",
        "1. It **returns** a concatenated string with the following: `You were born in X` where X is the year the user was born"
      ],
      "metadata": {
        "id": "keDVLI_Iqo9W"
      }
    },
    {
      "cell_type": "code",
      "source": [
        "# write your calculate_year_born function here\n",
        "def calculate_year_born():\n",
        "    age = int(input(\"What is your age? \"))\n",
        "    current_year = 2025\n",
        "    year_born = current_year - age\n",
        "    return \"You were born in \" + str(year_born)"
      ],
      "metadata": {
        "id": "FOma4oZ7kzV5"
      },
      "execution_count": 4,
      "outputs": []
    },
    {
      "cell_type": "markdown",
      "source": [
        "The next chunk of code is meant to test the function you wrote above.\n",
        "\n",
        "---\n",
        "\n"
      ],
      "metadata": {
        "id": "uTj_5ZN7rLOI"
      }
    },
    {
      "cell_type": "code",
      "source": [
        "# no need to change this chunk, just run it to see if you pass\n",
        "# all tests listed here\n",
        "pass_or_fail(calculate_year_born(), \"You were born in 1982\") # enter 42"
      ],
      "metadata": {
        "id": "AdoBYpD_rQV-",
        "outputId": "edff61f3-6910-44c6-c1c6-ce404ef2f73c",
        "colab": {
          "base_uri": "https://localhost:8080/"
        }
      },
      "execution_count": 8,
      "outputs": [
        {
          "output_type": "stream",
          "name": "stdout",
          "text": [
            "What is your age? 43\n",
            "Test passed.\n"
          ]
        }
      ]
    },
    {
      "cell_type": "markdown",
      "source": [
        "## Take input, return message 2\n",
        "\n",
        "1. Function name is `calculate_age`\n",
        "1. Function has no parameters\n",
        "1. It requests for user input inside the function, asking for the year the user was born\n",
        "1. It type casts the user string into an integer, and it subtracts the year born from the current year\n",
        "1. It **returns** a concatenated string with the following: `You are X years old` where X is user's age"
      ],
      "metadata": {
        "id": "nFpDsXGvrUFN"
      }
    },
    {
      "cell_type": "code",
      "source": [
        "# write calculate_age function here\n",
        "def calculate_age():\n",
        "    year_born = int(input(\"What year were you born? \"))\n",
        "    current_year = 2025\n",
        "    age = current_year - year_born\n",
        "    return \"You are \" + str(age) + \" years old\""
      ],
      "metadata": {
        "id": "YzY3zvPTrYqM"
      },
      "execution_count": 9,
      "outputs": []
    },
    {
      "cell_type": "markdown",
      "source": [
        "The next chunk of code is meant to test the function you wrote above."
      ],
      "metadata": {
        "id": "03J8QUtBrgeB"
      }
    },
    {
      "cell_type": "code",
      "source": [
        "# no need to change this chunk, just run it to see if you pass\n",
        "# all tests listed here\n",
        "pass_or_fail(calculate_age(), \"You are 43 years old\") # enter 1981"
      ],
      "metadata": {
        "id": "OJIPZRvmrhPO",
        "outputId": "64db2e3b-a651-4e3e-d6bf-14dbd289305b",
        "colab": {
          "base_uri": "https://localhost:8080/"
        }
      },
      "execution_count": 10,
      "outputs": [
        {
          "output_type": "stream",
          "name": "stdout",
          "text": [
            "What year were you born? 1982\n",
            "Test passed.\n"
          ]
        }
      ]
    },
    {
      "cell_type": "markdown",
      "source": [
        "## Take user input, return message 3\n",
        "\n",
        "1. Function name is `calculate_sales_tax`\n",
        "1. Function has no parameters\n",
        "1. It takes the user input, asking for how much the item they are paying for costs\n",
        "1. It type casts user input string into a float\n",
        "1. It multiplies cost float by 0.087, and rounds the value to two decimals\n",
        "1. It **returns** a string saying `The sales tax is $X` with X being the calculated tax (from the previous step)"
      ],
      "metadata": {
        "id": "KvoeR4ZhMVcN"
      }
    },
    {
      "cell_type": "code",
      "source": [
        "# write calculate_sales_tax function here\n",
        "def calculate_sales_tax():\n",
        "    cost = float(input(\"How much does the item cost? \"))\n",
        "    tax = round(cost * 0.087, 2)\n",
        "    return \"The sales tax is $\" + str(tax)"
      ],
      "metadata": {
        "id": "bKgsC183ODtT"
      },
      "execution_count": 11,
      "outputs": []
    },
    {
      "cell_type": "markdown",
      "source": [
        "The next chunk of code is meant to test the function you wrote above."
      ],
      "metadata": {
        "id": "nAuMxU1LOEN3"
      }
    },
    {
      "cell_type": "code",
      "source": [
        "# no need to change this chunk, just run it to see if you pass\n",
        "# all tests listed here\n",
        "pass_or_fail(calculate_sales_tax(), \"The sales tax is $4.35\") # enter 50"
      ],
      "metadata": {
        "id": "_hHAuIkdNbb3",
        "outputId": "81dea88e-7b6e-4fb5-ccaa-c9d0506127d3",
        "colab": {
          "base_uri": "https://localhost:8080/"
        }
      },
      "execution_count": 12,
      "outputs": [
        {
          "output_type": "stream",
          "name": "stdout",
          "text": [
            "How much does the item cost? 50\n",
            "Test passed.\n"
          ]
        }
      ]
    },
    {
      "cell_type": "markdown",
      "source": [
        "## Take user input, return message  with circle area\n",
        "\n",
        "1. Function name is `calculate_area_circle`\n",
        "1. Function has no parameters\n",
        "1. It takes the user input, asking for radius\n",
        "1. It type casts user input string into a float\n",
        "1. It calculates area of circle using the formula $area = 3.1415 ⋅ radius^2$\n",
        "1. It rounds the area result at two decimals\n",
        "1. It **returns** a string saying `The circle area is` with X being the calculated circle area (from the previous step)\n",
        "\n"
      ],
      "metadata": {
        "id": "3kFAw-hLPcJv"
      }
    },
    {
      "cell_type": "code",
      "source": [
        "# write calculate_area_circle function here\n",
        "def calculate_area_circle():\n",
        "    radius = float(input(\"What is the radius? \"))\n",
        "    area = 3.1415 * radius * radius\n",
        "    area = round(area, 2)\n",
        "    return \"The circle area is \" + str(area)"
      ],
      "metadata": {
        "id": "ZUKbonGyQPWG"
      },
      "execution_count": 13,
      "outputs": []
    },
    {
      "cell_type": "markdown",
      "source": [
        "The next chunk of code is meant to test the function you wrote above."
      ],
      "metadata": {
        "id": "oDVCGdu2Qcu0"
      }
    },
    {
      "cell_type": "code",
      "source": [
        "# no need to change this chunk, just run it to see if you pass\n",
        "# all tests listed here\n",
        "pass_or_fail(calculate_area_circle(), \"The circle area is 314.15\") # enter 10"
      ],
      "metadata": {
        "id": "FONbWbF5QevU",
        "outputId": "a0f061e5-ac9d-4284-94b0-9cfc7e01a68a",
        "colab": {
          "base_uri": "https://localhost:8080/"
        }
      },
      "execution_count": 14,
      "outputs": [
        {
          "output_type": "stream",
          "name": "stdout",
          "text": [
            "What is the radius? 10\n",
            "Test passed.\n"
          ]
        }
      ]
    },
    {
      "cell_type": "markdown",
      "source": [
        "## Takes user input, returns message for ellipse area\n",
        "\n",
        "Write a Python function that does the following:\n",
        "\n",
        "1. Function name is `calculate_ellipse_area`\n",
        "1. Function has no parameters\n",
        "1. It takes two user input strings: `a` and `b` representing the semi-major and semi-minor axes\n",
        "1. It type casts strings into integers\n",
        "1. It calculates the ellipse area using the formula: $area = 3.1415 \\cdot a \\cdot b$ rounding result at two decimals\n",
        "1. It **returns** a string saying `The ellipse area is X` with X being the calculated ellipse area"
      ],
      "metadata": {
        "id": "ywxHvtUjLBnv"
      }
    },
    {
      "cell_type": "code",
      "source": [
        "# write calculate_ellipse_area function here\n",
        "def calculate_ellipse_area():\n",
        "    a = int(input(\"Enter the semi-major axis (a): \"))\n",
        "    b = int(input(\"Enter the semi-minor axis (b): \"))\n",
        "    area = 3.1415 * a * b\n",
        "    area = round(area, 2)\n",
        "    return \"The ellipse area is \" + str(area)"
      ],
      "metadata": {
        "id": "Ayu_CKlaLJFk"
      },
      "execution_count": 15,
      "outputs": []
    },
    {
      "cell_type": "markdown",
      "source": [
        "The next chunk of code is meant to test the function you wrote above.\n",
        "\n"
      ],
      "metadata": {
        "id": "SnXBWE8oLOe2"
      }
    },
    {
      "cell_type": "code",
      "source": [
        "# no need to change this chunk, just run it to see if you pass\n",
        "# all tests listed here\n",
        "pass_or_fail(calculate_ellipse_area(), \"The ellipse area is 157.08\") # enter 5 and 10"
      ],
      "metadata": {
        "id": "2tfvLIwCLPOP",
        "outputId": "7cdddb67-08f0-4fee-db9c-2fddd63925c5",
        "colab": {
          "base_uri": "https://localhost:8080/"
        }
      },
      "execution_count": 16,
      "outputs": [
        {
          "output_type": "stream",
          "name": "stdout",
          "text": [
            "Enter the semi-major axis (a): 5\n",
            "Enter the semi-minor axis (b): 10\n",
            "Test passed.\n"
          ]
        }
      ]
    },
    {
      "cell_type": "markdown",
      "source": [
        "## Takes user input, returns message for triangle area\n",
        "\n",
        "Write a Python function that does the following:\n",
        "\n",
        "1. Function name is `calculate_triangle_area`\n",
        "1. Function has no parameters\n",
        "1. It asks for user input twice: `b` representing the base, and `h` representing the height\n",
        "1. It type casts user strings into integers\n",
        "1. It calculates the triangle area using the formula: $area = \\frac { b \\cdot h }  2$\n",
        "1. It rounds calculated area at two decimals\n",
        "1. It **returns** a string saying `The triangle area is X` where X is the calculated triangle area"
      ],
      "metadata": {
        "id": "IBkFI8KtSH5A"
      }
    },
    {
      "cell_type": "code",
      "source": [
        "# write calculate_triangle_area function here\n",
        "def calculate_triangle_area():\n",
        "    b = int(input(\"Enter the base (b): \"))\n",
        "    h = int(input(\"Enter the height (h): \"))\n",
        "    area = (b * h) / 2\n",
        "    area = round(area, 2)\n",
        "    return \"The triangle area is \" + str(area)"
      ],
      "metadata": {
        "id": "skANH9T7SgkF"
      },
      "execution_count": 17,
      "outputs": []
    },
    {
      "cell_type": "markdown",
      "source": [
        "The next chunk of code is meant to test the function you wrote above.\n"
      ],
      "metadata": {
        "id": "AoakhepHSjO8"
      }
    },
    {
      "cell_type": "code",
      "source": [
        "# no need to change this chunk, just run it to see if you pass\n",
        "# all tests listed here\n",
        "pass_or_fail(calculate_triangle_area(), \"The triangle area is 25.0\") # enter 10 and 5"
      ],
      "metadata": {
        "id": "HGy2thjdSopO",
        "outputId": "6f861f02-e4a2-4a22-c88f-1204fcac5806",
        "colab": {
          "base_uri": "https://localhost:8080/"
        }
      },
      "execution_count": 18,
      "outputs": [
        {
          "output_type": "stream",
          "name": "stdout",
          "text": [
            "Enter the base (b): 10\n",
            "Enter the height (h): 5\n",
            "Test passed.\n"
          ]
        }
      ]
    }
  ]
}