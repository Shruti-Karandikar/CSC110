{
  "nbformat": 4,
  "nbformat_minor": 0,
  "metadata": {
    "colab": {
      "provenance": [],
      "include_colab_link": true
    },
    "kernelspec": {
      "name": "python3",
      "display_name": "Python 3"
    },
    "language_info": {
      "name": "python"
    }
  },
  "cells": [
    {
      "cell_type": "markdown",
      "metadata": {
        "id": "view-in-github",
        "colab_type": "text"
      },
      "source": [
        "<a href=\"https://colab.research.google.com/github/Shruti-Karandikar/CSC110/blob/main/csc_110_practice_06.ipynb\" target=\"_parent\"><img src=\"https://colab.research.google.com/assets/colab-badge.svg\" alt=\"Open In Colab\"/></a>"
      ]
    },
    {
      "cell_type": "markdown",
      "source": [
        "# CSC 110 Spring 2023 Practice Problems -- Set 06\n",
        "\n",
        "This notebook contains a series of practice problems for CSC 110 Computer Programming I.\n",
        "\n",
        "Click on \"File\" and then choose \"Save a copy in Drive\" to create a copy of this notebook that you can make changes to."
      ],
      "metadata": {
        "id": "-XYNI5SFsGTW"
      }
    },
    {
      "cell_type": "code",
      "execution_count": 2,
      "metadata": {
        "id": "Nvyjb0xwj2ER"
      },
      "outputs": [],
      "source": [
        "# don't change this chunk of code, just run it\n",
        "# this is used to test your solution after\n",
        "# you've written your solutions to each problem\n",
        "def pass_or_fail(result, assert_value):\n",
        "  '''\n",
        "  This function tests whether a value returned by a function matches\n",
        "  the expected value -- it's used to test functions\n",
        "  Args:\n",
        "    result: any type returned by a function\n",
        "    assert_value: any type that is expected\n",
        "  Returns:\n",
        "    nothing, it prints messages\n",
        "  '''\n",
        "  # try to assert value returned by function is equal to expected value\n",
        "  try:\n",
        "    assert result == assert_value\n",
        "    print(\"Test passed.\")\n",
        "  except AssertionError: # try failed, values are different\n",
        "    print(\"Test failed. \" + str(result) + \" != \" + str(assert_value))"
      ]
    },
    {
      "cell_type": "markdown",
      "source": [
        "## Return longest string in list\n",
        "\n",
        "1. Function name is `longest_string`\n",
        "1. It takes a list of lists that contain `strings`\n",
        "1. It iterates over every item in the sublists in  `strings` checking each sublist element for its length -- create a control variable to keep the longest string\n",
        "1. Use `len()` to check the length of each item\n",
        "1. It returns the string that is the longest item in the list passed as an argument\n",
        "1. For any function that takes a list as argument, it always needs to take into account an empty list as the parameter\n",
        "1. If there are multiple strings of the same max length, return the last string with that length in the list"
      ],
      "metadata": {
        "id": "keDVLI_Iqo9W"
      }
    },
    {
      "cell_type": "code",
      "source": [
        "# write your function here\n",
        "def longest_string(strings):\n",
        "    if not strings:\n",
        "        return None\n",
        "\n",
        "    longest = None\n",
        "    max_length = 0\n",
        "\n",
        "    for sublist in strings:\n",
        "        for item in sublist:\n",
        "            if len(item) >= max_length:\n",
        "                max_length = len(item)\n",
        "                longest = item\n",
        "\n",
        "    return longest"
      ],
      "metadata": {
        "id": "FOma4oZ7kzV5"
      },
      "execution_count": 4,
      "outputs": []
    },
    {
      "cell_type": "markdown",
      "source": [
        "The next chunk of code is meant to test the function you wrote above.\n",
        "\n"
      ],
      "metadata": {
        "id": "uTj_5ZN7rLOI"
      }
    },
    {
      "cell_type": "code",
      "source": [
        "# no need to change this chunk, just run it to see if you pass\n",
        "# all tests listed here\n",
        "pass_or_fail( longest_string([[\"a\", \"ab\"], [\"x\", \"abc\", \"c\"]]), \"abc\")\n",
        "pass_or_fail( longest_string([]), None)\n",
        "pass_or_fail( longest_string([[\"a\", \"z\"], [\"c\"]]), \"c\")"
      ],
      "metadata": {
        "id": "AdoBYpD_rQV-",
        "outputId": "14ce2440-eca9-44d7-9035-c48ae6851821",
        "colab": {
          "base_uri": "https://localhost:8080/"
        }
      },
      "execution_count": 5,
      "outputs": [
        {
          "output_type": "stream",
          "name": "stdout",
          "text": [
            "Test passed.\n",
            "Test passed.\n",
            "Test passed.\n"
          ]
        }
      ]
    },
    {
      "cell_type": "markdown",
      "source": [
        "# Max of lists of lists\n",
        "\n",
        "1. Function name is `max_lists`\n",
        "1. It takes one argument, a 2D list of `numbers`\n",
        "1. It returns the maximum value of all numbers\n",
        "1. As usual, you are expected to implement this from scratch (don't use the built-in function `max()` or `min()`\n",
        "1. Account for empty lists\n"
      ],
      "metadata": {
        "id": "nBIfPvEKJI54"
      }
    },
    {
      "cell_type": "code",
      "source": [
        "# write your function here\n",
        "def max_lists(numbers):\n",
        "    found = False  # To check if we found any number yet\n",
        "\n",
        "    for sublist in numbers:\n",
        "        for num in sublist:\n",
        "            if not found:\n",
        "                max_value = num\n",
        "                found = True\n",
        "            elif num > max_value:\n",
        "                max_value = num\n",
        "\n",
        "    if found:\n",
        "        return max_value\n",
        "    else:\n",
        "        return None\n"
      ],
      "metadata": {
        "id": "8fdauRN_J4NP"
      },
      "execution_count": 8,
      "outputs": []
    },
    {
      "cell_type": "markdown",
      "source": [
        "The next chunk of code is meant to test the function you wrote above."
      ],
      "metadata": {
        "id": "Yn_3S7BKKHdn"
      }
    },
    {
      "cell_type": "code",
      "source": [
        "# no need to change this chunk, just run it to see if you pass\n",
        "# all tests listed here\n",
        "pass_or_fail( max_lists([[2, 4], [6, 8, 0]]), 8 )\n",
        "pass_or_fail( max_lists([[], [6, 8, 0]]), 8 )\n",
        "pass_or_fail( max_lists([[3, 1, 2, 5], []]), 5)\n"
      ],
      "metadata": {
        "id": "WYrijA3LKEO9",
        "outputId": "8b452834-ca2d-4b89-fa11-7662764ad07a",
        "colab": {
          "base_uri": "https://localhost:8080/"
        }
      },
      "execution_count": 9,
      "outputs": [
        {
          "output_type": "stream",
          "name": "stdout",
          "text": [
            "Test passed.\n",
            "Test passed.\n",
            "Test passed.\n"
          ]
        }
      ]
    },
    {
      "cell_type": "markdown",
      "source": [
        "# Concatenate two lists index-wise\n",
        "\n",
        "1. Function name is `concatenate_lists`\n",
        "1. It takes two lists of strings as argument: `strings_a` and `strings_b`\n",
        "1. It creates a new list that contains the 0th index item from both lists concatenated, then the 1st index item, and so on\n",
        "\n",
        "Given:\n",
        "\n",
        "`list1 = [\"M\", \"na\", \"i\", \"Ke\"]`\n",
        "\n",
        "`list2 = [\"y\", \"me\", \"s\", \"lly\"]`\n",
        "\n",
        "Returns:\n",
        "\n",
        "`['My', 'name', 'is', 'Kelly']`"
      ],
      "metadata": {
        "id": "be5oFt0eLBBR"
      }
    },
    {
      "cell_type": "code",
      "source": [
        "# write your function here\n",
        "def concatenate_lists(strings_a, strings_b):\n",
        "    result = []\n",
        "    i = 0\n",
        "    while i < len(strings_a) and i < len(strings_b):\n",
        "        combined = strings_a[i] + strings_b[i]\n",
        "        result.append(combined)\n",
        "        i += 1\n",
        "    return result\n"
      ],
      "metadata": {
        "id": "_bxSx3CVOdAf"
      },
      "execution_count": 10,
      "outputs": []
    },
    {
      "cell_type": "markdown",
      "source": [
        "The next chunk of code is meant to test the function you wrote above."
      ],
      "metadata": {
        "id": "izfSAVO_OjU1"
      }
    },
    {
      "cell_type": "code",
      "source": [
        "# no need to change this chunk, just run it to see if you pass\n",
        "# all tests listed here\n",
        "pass_or_fail( concatenate_lists([], []), [] )\n",
        "pass_or_fail( concatenate_lists([\"M\", \"na\", \"i\", \"Ke\"],\n",
        "                                [\"y\", \"me\", \"s\", \"lly\"]),\n",
        "             ['My', 'name', 'is', 'Kelly'] )\n",
        "\n",
        "pass_or_fail( concatenate_lists([\"h\", \"there\", \"!\"], [\"i\"]),\n",
        "                                [\"hi\", \"there\", \"!\"] )"
      ],
      "metadata": {
        "id": "70j1cJd1Oohr",
        "outputId": "abf9f960-bfe1-4e42-866f-46e1c89b21e1",
        "colab": {
          "base_uri": "https://localhost:8080/"
        }
      },
      "execution_count": 11,
      "outputs": [
        {
          "output_type": "stream",
          "name": "stdout",
          "text": [
            "Test passed.\n",
            "Test passed.\n",
            "Test failed. ['hi'] != ['hi', 'there', '!']\n"
          ]
        }
      ]
    }
  ]
}