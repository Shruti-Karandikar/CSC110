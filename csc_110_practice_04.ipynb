{
  "nbformat": 4,
  "nbformat_minor": 0,
  "metadata": {
    "colab": {
      "provenance": [],
      "include_colab_link": true
    },
    "kernelspec": {
      "name": "python3",
      "display_name": "Python 3"
    },
    "language_info": {
      "name": "python"
    }
  },
  "cells": [
    {
      "cell_type": "markdown",
      "metadata": {
        "id": "view-in-github",
        "colab_type": "text"
      },
      "source": [
        "<a href=\"https://colab.research.google.com/github/Shruti-Karandikar/CSC110/blob/main/csc_110_practice_04.ipynb\" target=\"_parent\"><img src=\"https://colab.research.google.com/assets/colab-badge.svg\" alt=\"Open In Colab\"/></a>"
      ]
    },
    {
      "cell_type": "markdown",
      "source": [
        "# CSC 110 Spring 2023 Practice Problems -- Set 04\n",
        "\n",
        "This notebook contains a series of practice problems for CSC 110 Computer Programming I.\n",
        "\n",
        "Click on \"File\" and then choose \"Save a copy in Drive\" to create a copy of this notebook that you can make changes to."
      ],
      "metadata": {
        "id": "-XYNI5SFsGTW"
      }
    },
    {
      "cell_type": "code",
      "execution_count": 1,
      "metadata": {
        "id": "Nvyjb0xwj2ER"
      },
      "outputs": [],
      "source": [
        "# don't change this chunk of code, just run it\n",
        "# this is used to test your solution after\n",
        "# you've written your solutions to each problem\n",
        "def pass_or_fail(result, assert_value):\n",
        "  '''\n",
        "  This function tests whether a value returned by a function matches\n",
        "  the expected value -- it's used to test functions\n",
        "  Args:\n",
        "    result: any type returned by a function\n",
        "    assert_value: any type that is expected\n",
        "  Returns:\n",
        "    nothing, it prints messages\n",
        "  '''\n",
        "  # try to assert value returned by function is equal to expected value\n",
        "  try:\n",
        "    assert result == assert_value\n",
        "    print(\"Test passed.\")\n",
        "  except AssertionError: # try failed, values are different\n",
        "    print(\"Test failed. \" + str(result) + \" != \" + str(assert_value))"
      ]
    },
    {
      "cell_type": "markdown",
      "source": [
        "## Return longest string in list\n",
        "\n",
        "1. Function name is `longest_string`\n",
        "1. It takes one list of strings as argument\n",
        "1. It iterates over every item in the list passed as an argument, checking its length -- create a control variable to keep the longest string\n",
        "1. Use `len()` to check the length of each item\n",
        "1. It returns the string that is the longest item in the list passed as an argument\n",
        "1. For any function that takes a list as argument, it always needs to take into account an empty list as the parameter\n",
        "1. If there are multiple strings of the same max length, return the last string with that length in the list\n",
        "1. Use a `while` loop"
      ],
      "metadata": {
        "id": "keDVLI_Iqo9W"
      }
    },
    {
      "cell_type": "code",
      "source": [
        "# write your function here\n",
        "def longest_string(strings):\n",
        "\n",
        "    if not strings:  # Check for empty list\n",
        "        return None\n",
        "\n",
        "    longest = strings[0]  # Initialize with the first string\n",
        "\n",
        "    i = 1  # Start from the second item\n",
        "    while i < len(strings):\n",
        "        # Update longest if current string is at least as long\n",
        "        if len(strings[i]) >= len(longest):\n",
        "            longest = strings[i]\n",
        "        i += 1\n",
        "\n",
        "    return longest"
      ],
      "metadata": {
        "id": "FOma4oZ7kzV5"
      },
      "execution_count": 5,
      "outputs": []
    },
    {
      "cell_type": "markdown",
      "source": [
        "The next chunk of code is meant to test the function you wrote above.\n",
        "\n"
      ],
      "metadata": {
        "id": "uTj_5ZN7rLOI"
      }
    },
    {
      "cell_type": "code",
      "source": [
        "# no need to change this chunk, just run it to see if you pass\n",
        "# all tests listed here\n",
        "pass_or_fail( longest_string([\"a\", \"ab\", \"x\", \"abc\", \"c\"]), \"abc\")\n",
        "pass_or_fail( longest_string([]), None)\n",
        "pass_or_fail( longest_string([\"a\", \"z\", \"c\"]), \"c\")"
      ],
      "metadata": {
        "id": "AdoBYpD_rQV-",
        "outputId": "b3a7f375-2a18-43fd-f0eb-68c6c8152ae8",
        "colab": {
          "base_uri": "https://localhost:8080/"
        }
      },
      "execution_count": 6,
      "outputs": [
        {
          "output_type": "stream",
          "name": "stdout",
          "text": [
            "Test passed.\n",
            "Test passed.\n",
            "Test passed.\n"
          ]
        }
      ]
    },
    {
      "cell_type": "markdown",
      "source": [
        "# String to integer list\n",
        "\n",
        "1. Function name is `string_to_even_list`\n",
        "1. It takes a `string` as parameter\n",
        "1. It checks if each character in the string can be converted to an integer, if so, it converts the string to an integer and if the integer is even, appends it to a list.\n",
        "1. It returns a list of even integers\n",
        "1. You are allowed to use `.isnumeric()`\n",
        "1. Use a `while` loop\n"
      ],
      "metadata": {
        "id": "nBIfPvEKJI54"
      }
    },
    {
      "cell_type": "code",
      "source": [
        "# write your function here\n",
        "def string_to_even_list(string):\n",
        "    result = []\n",
        "    i = 0\n",
        "\n",
        "    while i < len(string):\n",
        "        char = string[i]\n",
        "        if char.isnumeric():\n",
        "            num = int(char)\n",
        "            if num % 2 == 0:\n",
        "                result.append(num)\n",
        "        i += 1\n",
        "\n",
        "    return result"
      ],
      "metadata": {
        "id": "8fdauRN_J4NP"
      },
      "execution_count": 7,
      "outputs": []
    },
    {
      "cell_type": "markdown",
      "source": [
        "The next chunk of code is meant to test the function you wrote above."
      ],
      "metadata": {
        "id": "Yn_3S7BKKHdn"
      }
    },
    {
      "cell_type": "code",
      "source": [
        "# no need to change this chunk, just run it to see if you pass\n",
        "# all tests listed here\n",
        "pass_or_fail( string_to_even_list(\"1234567890\"), [2, 4, 6, 8, 0] )\n",
        "pass_or_fail( string_to_even_list(\"\"), [] )\n",
        "pass_or_fail( string_to_even_list(\"31759\"), [] )\n",
        "pass_or_fail( string_to_even_list(\"a2c4\"), [2, 4] )"
      ],
      "metadata": {
        "id": "WYrijA3LKEO9",
        "outputId": "38f4c860-0d07-45d5-a8e3-2be3f3481cd8",
        "colab": {
          "base_uri": "https://localhost:8080/"
        }
      },
      "execution_count": 8,
      "outputs": [
        {
          "output_type": "stream",
          "name": "stdout",
          "text": [
            "Test passed.\n",
            "Test passed.\n",
            "Test passed.\n",
            "Test passed.\n"
          ]
        }
      ]
    },
    {
      "cell_type": "markdown",
      "source": [
        "# Every other item\n",
        "\n",
        "1. Function name is `every_other`\n",
        "1. It takes a list with any item types\n",
        "1. It creates a new list, and appends every other item in the parameter list to this new list (items at index 0, 2, 4, and so on\n",
        "1. It returns the new list\n",
        "1. It accounts (as always) for an empty list as the argument passed to the function\n",
        "1. Use a `while` loop"
      ],
      "metadata": {
        "id": "be5oFt0eLBBR"
      }
    },
    {
      "cell_type": "code",
      "source": [
        "# write your function here\n",
        "def every_other(items):\n",
        "    result = []\n",
        "\n",
        "    if not items:  # Check for empty list\n",
        "        return result\n",
        "    i = 0\n",
        "    while i < len(items):\n",
        "        result.append(items[i])\n",
        "        i += 2\n",
        "\n",
        "    return result"
      ],
      "metadata": {
        "id": "_bxSx3CVOdAf"
      },
      "execution_count": 9,
      "outputs": []
    },
    {
      "cell_type": "markdown",
      "source": [
        "The next chunk of code is meant to test the function you wrote above."
      ],
      "metadata": {
        "id": "izfSAVO_OjU1"
      }
    },
    {
      "cell_type": "code",
      "source": [
        "# no need to change this chunk, just run it to see if you pass\n",
        "# all tests listed here\n",
        "pass_or_fail( every_other([]), [] )\n",
        "pass_or_fail( every_other([0, 1, 2, 3, 4]), [0, 2, 4] )\n",
        "pass_or_fail( every_other([\"banana\", \"apple\", \"pineapple\"]),\n",
        "             [\"banana\", \"pineapple\"] )"
      ],
      "metadata": {
        "id": "70j1cJd1Oohr",
        "outputId": "fdadec8c-776c-4645-97f4-c5fda3ae64d9",
        "colab": {
          "base_uri": "https://localhost:8080/"
        }
      },
      "execution_count": 10,
      "outputs": [
        {
          "output_type": "stream",
          "name": "stdout",
          "text": [
            "Test passed.\n",
            "Test passed.\n",
            "Test passed.\n"
          ]
        }
      ]
    },
    {
      "cell_type": "markdown",
      "source": [
        "# Remove vowels\n",
        "\n",
        "1. Function name is `remove_vowels`\n",
        "1. It takes list of `strings` as argument\n",
        "1. It removes the vowels of each item in the list\n",
        "1. Use a `while` loop\n"
      ],
      "metadata": {
        "id": "t-iNcW5VMwhs"
      }
    },
    {
      "cell_type": "code",
      "source": [
        "# write your function here\n",
        "def remove_vowels(strings):\n",
        "    vowels = \"aeiouAEIOU\"\n",
        "    i = 0\n",
        "    while i < len(strings):\n",
        "        new_str = \"\"\n",
        "        j = 0\n",
        "        while j < len(strings[i]):\n",
        "            if strings[i][j] not in vowels:\n",
        "                new_str += strings[i][j]\n",
        "            j += 1\n",
        "        strings[i] = new_str\n",
        "        i += 1\n",
        "    return strings\n"
      ],
      "metadata": {
        "id": "mgg7n-LuOfRQ"
      },
      "execution_count": 15,
      "outputs": []
    },
    {
      "cell_type": "markdown",
      "source": [
        "The next chunk of code is meant to test the function you wrote above."
      ],
      "metadata": {
        "id": "L77-DbJKOlsc"
      }
    },
    {
      "cell_type": "code",
      "source": [
        "# no need to change this chunk, just run it to see if you pass\n",
        "# all tests listed here\n",
        "test_list = []\n",
        "remove_vowels(test_list)\n",
        "pass_or_fail( test_list, [])\n",
        "\n",
        "test_list = [\"banana\", \"apple\", \"pineapple\"]\n",
        "remove_vowels(test_list)\n",
        "pass_or_fail( test_list, [\"bnn\", \"ppl\", \"pnppl\"])\n",
        "\n",
        "test_list = [\"aaa\", \"eee\"]\n",
        "remove_vowels(test_list)\n",
        "pass_or_fail( test_list, [\"\", \"\"])"
      ],
      "metadata": {
        "id": "fRl8yxnyOtQh",
        "outputId": "bf44a0c2-34ea-4ff8-b65d-66914ce9bcff",
        "colab": {
          "base_uri": "https://localhost:8080/"
        }
      },
      "execution_count": 16,
      "outputs": [
        {
          "output_type": "stream",
          "name": "stdout",
          "text": [
            "Test passed.\n",
            "Test passed.\n",
            "Test passed.\n"
          ]
        }
      ]
    }
  ]
}