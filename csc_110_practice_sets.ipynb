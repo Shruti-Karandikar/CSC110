{
  "nbformat": 4,
  "nbformat_minor": 0,
  "metadata": {
    "colab": {
      "provenance": [],
      "include_colab_link": true
    },
    "kernelspec": {
      "name": "python3",
      "display_name": "Python 3"
    },
    "language_info": {
      "name": "python"
    }
  },
  "cells": [
    {
      "cell_type": "markdown",
      "metadata": {
        "id": "view-in-github",
        "colab_type": "text"
      },
      "source": [
        "<a href=\"https://colab.research.google.com/github/Shruti-Karandikar/CSC110/blob/main/csc_110_practice_sets.ipynb\" target=\"_parent\"><img src=\"https://colab.research.google.com/assets/colab-badge.svg\" alt=\"Open In Colab\"/></a>"
      ]
    },
    {
      "cell_type": "markdown",
      "source": [
        "# CSC 110 Spring 2023 Practice Problems -- Practice on sets\n",
        "\n",
        "This notebook contains a series of practice problems for CSC 110 Computer Programming I.\n",
        "\n",
        "Click on \"File\" and then choose \"Save a copy in Drive\" to create a copy of this notebook that you can make changes to."
      ],
      "metadata": {
        "id": "-XYNI5SFsGTW"
      }
    },
    {
      "cell_type": "code",
      "execution_count": 1,
      "metadata": {
        "id": "Nvyjb0xwj2ER"
      },
      "outputs": [],
      "source": [
        "# don't change this chunk of code, just run it\n",
        "# this is used to test your solution after\n",
        "# you've written your solutions to each problem\n",
        "def pass_or_fail(result, assert_value):\n",
        "  '''\n",
        "  This function tests whether a value returned by a function matches\n",
        "  the expected value -- it's used to test functions\n",
        "  Args:\n",
        "    result: any type returned by a function\n",
        "    assert_value: any type that is expected\n",
        "  Returns:\n",
        "    nothing, it prints messages\n",
        "  '''\n",
        "  # try to assert value returned by function is equal to expected value\n",
        "  try:\n",
        "    assert result == assert_value\n",
        "    print(\"Test passed.\")\n",
        "  except AssertionError: # try failed, values are different\n",
        "    print(\"Test failed. \" + str(result) + \" != \" + str(assert_value))"
      ]
    },
    {
      "cell_type": "markdown",
      "source": [
        "## Create sets\n",
        "\n",
        "Write a python function called `odds_and_evens` that takes in a variable number of arguments (use `*`) and returns two sets: the first with only the odd numbers and the second with even numbers. You can assume all arguments are numeric values."
      ],
      "metadata": {
        "id": "keDVLI_Iqo9W"
      }
    },
    {
      "cell_type": "code",
      "source": [
        "# write your function here\n",
        "def odds_and_evens(*values):\n",
        "    odds = set()\n",
        "    evens = set()\n",
        "    for num in values:\n",
        "        if num % 2 == 0:\n",
        "            evens.add(num)\n",
        "        else:\n",
        "            odds.add(num)\n",
        "    return odds, evens"
      ],
      "metadata": {
        "id": "FOma4oZ7kzV5"
      },
      "execution_count": 2,
      "outputs": []
    },
    {
      "cell_type": "markdown",
      "source": [
        "The next chunk of code is meant to test the function you wrote above.\n",
        "\n"
      ],
      "metadata": {
        "id": "uTj_5ZN7rLOI"
      }
    },
    {
      "cell_type": "code",
      "source": [
        "# no need to change this chunk, just run it to see if you pass\n",
        "# all tests listed here\n",
        "result = odds_and_evens(4, 3, 2, 1, 2, 3, 4)\n",
        "expected = ({3, 1}, {2, 4})\n",
        "pass_or_fail(result, expected)\n"
      ],
      "metadata": {
        "id": "AdoBYpD_rQV-",
        "outputId": "229c9c3e-b721-4b58-8544-6d549bf3efb6",
        "colab": {
          "base_uri": "https://localhost:8080/"
        }
      },
      "execution_count": 3,
      "outputs": [
        {
          "output_type": "stream",
          "name": "stdout",
          "text": [
            "Test passed.\n"
          ]
        }
      ]
    },
    {
      "cell_type": "markdown",
      "source": [
        "## Find max in set\n",
        "\n",
        "Write a function called `max_set` that takes as argument a set with numeric values and returns the highest value in the set.\n"
      ],
      "metadata": {
        "id": "nBIfPvEKJI54"
      }
    },
    {
      "cell_type": "code",
      "source": [
        "# write your function here\n",
        "def max_set(s):\n",
        "    return max(s)\n"
      ],
      "metadata": {
        "id": "8fdauRN_J4NP"
      },
      "execution_count": 4,
      "outputs": []
    },
    {
      "cell_type": "markdown",
      "source": [
        "The next chunk of code is meant to test the function you wrote above."
      ],
      "metadata": {
        "id": "Yn_3S7BKKHdn"
      }
    },
    {
      "cell_type": "code",
      "source": [
        "# no need to change this chunk, just run it to see if you pass\n",
        "# all tests listed here\n",
        "result = max_set({-4, -3, -2, -1})\n",
        "expected = -1\n",
        "pass_or_fail(result, expected)\n",
        "\n",
        "result = max_set({4, 3, 2, 1})\n",
        "expected = 4\n",
        "pass_or_fail(result, expected)\n"
      ],
      "metadata": {
        "id": "WYrijA3LKEO9",
        "outputId": "f9ded82f-d357-41a2-e027-eeed3f99fccd",
        "colab": {
          "base_uri": "https://localhost:8080/"
        }
      },
      "execution_count": 5,
      "outputs": [
        {
          "output_type": "stream",
          "name": "stdout",
          "text": [
            "Test passed.\n",
            "Test passed.\n"
          ]
        }
      ]
    },
    {
      "cell_type": "markdown",
      "source": [
        "## How many in common\n",
        "\n",
        "Write a python function called `count_common_elements` that takes in two sets as argument, and returns how many elements in common the two sets have."
      ],
      "metadata": {
        "id": "Wep9j_eZTZ6L"
      }
    },
    {
      "cell_type": "code",
      "source": [
        "# write your function here\n",
        "def count_common_elements(set1, set2):\n",
        "    return len(set1 & set2)\n"
      ],
      "metadata": {
        "id": "LNbK6JLsToRo"
      },
      "execution_count": 6,
      "outputs": []
    },
    {
      "cell_type": "markdown",
      "source": [
        "The next chunk of code is meant to test the function you wrote above."
      ],
      "metadata": {
        "id": "ZTADbrydTyff"
      }
    },
    {
      "cell_type": "code",
      "source": [
        "# no need to change this chunk, just run it to see if you pass\n",
        "# all tests listed here\n",
        "result = count_common_elements({\"a\", \"b\"}, {\"b\", \"a\"})\n",
        "expected = 2\n",
        "pass_or_fail(result, expected)\n",
        "\n",
        "result = count_common_elements({\"a\", \"b\", 1, 2, 3}, {\"b\", \"a\", 2, 5, 6})\n",
        "expected = 3\n",
        "pass_or_fail(result, expected)"
      ],
      "metadata": {
        "id": "2xUIax3DTyF-",
        "outputId": "735dde34-a104-4605-d4ab-8ffa85f77f23",
        "colab": {
          "base_uri": "https://localhost:8080/"
        }
      },
      "execution_count": 7,
      "outputs": [
        {
          "output_type": "stream",
          "name": "stdout",
          "text": [
            "Test passed.\n",
            "Test passed.\n"
          ]
        }
      ]
    },
    {
      "cell_type": "markdown",
      "source": [
        "# Identify whether sets have common values\n",
        "\n",
        "Write a python function named `common_values` that takes two sets are arguments and returns `False` if the sets have no elements in common, `True` otherwise"
      ],
      "metadata": {
        "id": "LrHskGyqUPT5"
      }
    },
    {
      "cell_type": "code",
      "source": [
        "# write your function here\n",
        "def common_values(set1, set2):\n",
        "    return len(set1 & set2) > 0\n"
      ],
      "metadata": {
        "id": "fx_XmgHJUVb8"
      },
      "execution_count": 8,
      "outputs": []
    },
    {
      "cell_type": "markdown",
      "source": [
        "The next chunk of code is meant to test the function you wrote above."
      ],
      "metadata": {
        "id": "wIlHo2x8UonV"
      }
    },
    {
      "cell_type": "code",
      "source": [
        "# no need to change this chunk, just run it to see if you pass\n",
        "# all tests listed here\n",
        "result = common_values({\"a\", \"b\"}, {\"c\", \"d\", 1})\n",
        "expected = False\n",
        "pass_or_fail(result, expected)\n",
        "\n",
        "result = common_values({\"a\", \"b\", 1, 2, 3}, {\"b\", \"a\", 2, 5, 6})\n",
        "expected = True\n",
        "pass_or_fail(result, expected)"
      ],
      "metadata": {
        "id": "HVE4nIC4UrLY",
        "outputId": "19259db8-860a-4c31-de64-3a2893e86557",
        "colab": {
          "base_uri": "https://localhost:8080/"
        }
      },
      "execution_count": 9,
      "outputs": [
        {
          "output_type": "stream",
          "name": "stdout",
          "text": [
            "Test passed.\n",
            "Test passed.\n"
          ]
        }
      ]
    },
    {
      "cell_type": "markdown",
      "source": [
        "# Mutate set\n",
        "\n",
        "Write a python function named `discard_elements` that takes two sets as argument and mutates the first set, removing all elements it has in common with the second set."
      ],
      "metadata": {
        "id": "Xqg8no4vU3wQ"
      }
    },
    {
      "cell_type": "code",
      "source": [
        "# write your function here\n",
        "def discard_elements(set1, set2):\n",
        "    set1.difference_update(set2)\n",
        "    return set1"
      ],
      "metadata": {
        "id": "dtfahKhaVCid"
      },
      "execution_count": 10,
      "outputs": []
    },
    {
      "cell_type": "markdown",
      "source": [
        "The next chunk of code is meant to test the function you wrote above."
      ],
      "metadata": {
        "id": "zs5pmN0WVOkl"
      }
    },
    {
      "cell_type": "code",
      "source": [
        "# no need to change this chunk, just run it to see if you pass\n",
        "# all tests listed here\n",
        "result = discard_elements({\"a\", \"b\"}, {\"c\", \"d\", \"a\"})\n",
        "expected = {\"b\"}\n",
        "pass_or_fail(result, expected)\n",
        "\n",
        "result = discard_elements({\"a\", \"b\", 1, 2, 3}, {\"b\", \"a\", 2, 5, 6})\n",
        "expected = {1, 3}\n",
        "pass_or_fail(result, expected)"
      ],
      "metadata": {
        "id": "I2bO5Ro5VR4z",
        "outputId": "5fb87a03-0a45-479c-ffec-8d90c7ce7379",
        "colab": {
          "base_uri": "https://localhost:8080/"
        }
      },
      "execution_count": 11,
      "outputs": [
        {
          "output_type": "stream",
          "name": "stdout",
          "text": [
            "Test passed.\n",
            "Test passed.\n"
          ]
        }
      ]
    }
  ]
}