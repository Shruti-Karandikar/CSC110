{
  "nbformat": 4,
  "nbformat_minor": 0,
  "metadata": {
    "colab": {
      "provenance": [],
      "include_colab_link": true
    },
    "kernelspec": {
      "name": "python3",
      "display_name": "Python 3"
    },
    "language_info": {
      "name": "python"
    }
  },
  "cells": [
    {
      "cell_type": "markdown",
      "metadata": {
        "id": "view-in-github",
        "colab_type": "text"
      },
      "source": [
        "<a href=\"https://colab.research.google.com/github/Shruti-Karandikar/CSC110/blob/main/Copy_of_csc_110_practice_2dlist_mutation.ipynb\" target=\"_parent\"><img src=\"https://colab.research.google.com/assets/colab-badge.svg\" alt=\"Open In Colab\"/></a>"
      ]
    },
    {
      "cell_type": "markdown",
      "source": [
        "# CSC 110 Spring 2023 Practice Problems -- Mutating lists of lists\n",
        "\n",
        "This notebook contains a series of practice problems for CSC 110 Computer Programming I.\n",
        "\n",
        "Click on \"File\" and then choose \"Save a copy in Drive\" to create a copy of this notebook that you can make changes to."
      ],
      "metadata": {
        "id": "-XYNI5SFsGTW"
      }
    },
    {
      "cell_type": "code",
      "execution_count": 1,
      "metadata": {
        "id": "Nvyjb0xwj2ER"
      },
      "outputs": [],
      "source": [
        "# don't change this chunk of code, just run it\n",
        "# this is used to test your solution after\n",
        "# you've written your solutions to each problem\n",
        "def pass_or_fail(result, assert_value):\n",
        "  '''\n",
        "  This function tests whether a value returned by a function matches\n",
        "  the expected value -- it's used to test functions\n",
        "  Args:\n",
        "    result: any type returned by a function\n",
        "    assert_value: any type that is expected\n",
        "  Returns:\n",
        "    nothing, it prints messages\n",
        "  '''\n",
        "  # try to assert value returned by function is equal to expected value\n",
        "  try:\n",
        "    assert result == assert_value\n",
        "    print(\"Test passed.\")\n",
        "  except AssertionError: # try failed, values are different\n",
        "    print(\"Test failed. \" + str(result) + \" != \" + str(assert_value))"
      ]
    },
    {
      "cell_type": "markdown",
      "source": [
        "# Mutate list of lists I\n",
        "\n",
        "Write a python function (called `make_all_even`) that takes as argument a list of lists of integers. Add one to every integer that is odd.\n",
        "\n",
        "Remember you are to mutate the argument list and return. Do not create a new list, do **not** use `.append()`"
      ],
      "metadata": {
        "id": "fpyIcHNq9tS3"
      }
    },
    {
      "cell_type": "code",
      "source": [
        "# write your function here\n",
        "def make_all_even(numbers):\n",
        "    for i in range(len(numbers)):\n",
        "        for j in range(len(numbers[i])):\n",
        "            if numbers[i][j] % 2 != 0:\n",
        "                numbers[i][j] += 1\n",
        "    return numbers\n"
      ],
      "metadata": {
        "id": "FOma4oZ7kzV5"
      },
      "execution_count": 2,
      "outputs": []
    },
    {
      "cell_type": "markdown",
      "source": [
        "The next chunk of code is meant to test the function you wrote above.\n",
        "\n"
      ],
      "metadata": {
        "id": "uTj_5ZN7rLOI"
      }
    },
    {
      "cell_type": "code",
      "source": [
        "# no need to change this chunk, just run it to see if you pass\n",
        "# all tests listed here\n",
        "pass_or_fail( make_all_even([[0, 1], [2, 3]]), [[0, 2], [2, 4]])\n",
        "pass_or_fail( make_all_even([[1, 1, 1], [1], [1, 1]]), [[2, 2, 2], [2], [2, 2]])\n",
        "original_list = [[3, 2, 45], [1]]\n",
        "make_all_even(original_list)\n",
        "pass_or_fail( original_list, [[4, 2, 46], [2]])\n"
      ],
      "metadata": {
        "id": "AdoBYpD_rQV-",
        "outputId": "b039aa1a-47cd-47fd-80c5-b4328d73c464",
        "colab": {
          "base_uri": "https://localhost:8080/"
        }
      },
      "execution_count": 3,
      "outputs": [
        {
          "output_type": "stream",
          "name": "stdout",
          "text": [
            "Test passed.\n",
            "Test passed.\n",
            "Test passed.\n"
          ]
        }
      ]
    },
    {
      "cell_type": "markdown",
      "source": [
        "## Mutate list of lists 2\n",
        "\n",
        "Write a python function (called `make_all_odd`) that takes as argument a list of lists of integers. Add one to every integer that is even.\n",
        "\n",
        "Remember you are to mutate the argument list and return. Do not create a new list, do **not** use `.append()`"
      ],
      "metadata": {
        "id": "nBIfPvEKJI54"
      }
    },
    {
      "cell_type": "code",
      "source": [
        "# write your function here\n",
        "def make_all_odd(numbers):\n",
        "    for i in range(len(numbers)):\n",
        "        for j in range(len(numbers[i])):\n",
        "            if numbers[i][j] % 2 == 0:\n",
        "                numbers[i][j] += 1\n",
        "    return numbers\n"
      ],
      "metadata": {
        "id": "8fdauRN_J4NP"
      },
      "execution_count": 4,
      "outputs": []
    },
    {
      "cell_type": "markdown",
      "source": [
        "The next chunk of code is meant to test the function you wrote above."
      ],
      "metadata": {
        "id": "Yn_3S7BKKHdn"
      }
    },
    {
      "cell_type": "code",
      "source": [
        "# no need to change this chunk, just run it to see if you pass\n",
        "# all tests listed here\n",
        "pass_or_fail( make_all_odd([[0, 1], [2, 3]]), [[1, 1], [3, 3]])\n",
        "pass_or_fail( make_all_odd([[1, 1, 1, 1, 1, 1]]), [[1, 1, 1, 1, 1, 1]])\n",
        "original_list = [[3], [2, 45, 1]]\n",
        "make_all_odd(original_list)\n",
        "pass_or_fail( original_list, [[3], [3, 45, 1]])\n"
      ],
      "metadata": {
        "id": "WYrijA3LKEO9",
        "outputId": "fa12af3c-6ebe-4af0-be54-20076c3dbc72",
        "colab": {
          "base_uri": "https://localhost:8080/"
        }
      },
      "execution_count": 5,
      "outputs": [
        {
          "output_type": "stream",
          "name": "stdout",
          "text": [
            "Test passed.\n",
            "Test passed.\n",
            "Test passed.\n"
          ]
        }
      ]
    },
    {
      "cell_type": "markdown",
      "source": [
        "# Mutate list of lists 3\n",
        "\n",
        "Write a python function (called `number_to_string`) that takes as argument a list of lists of integers, replacing the integer values with string using the built-in function `str()`.\n",
        "\n",
        "Remember you are to mutate the argument list and return. Do not create a new list, do **not** use `.append()`\n"
      ],
      "metadata": {
        "id": "be5oFt0eLBBR"
      }
    },
    {
      "cell_type": "code",
      "source": [
        "# write your function here\n",
        "def number_to_string(numbers):\n",
        "    for i in range(len(numbers)):\n",
        "        for j in range(len(numbers[i])):\n",
        "            numbers[i][j] = str(numbers[i][j])\n",
        "    return numbers\n"
      ],
      "metadata": {
        "id": "_bxSx3CVOdAf"
      },
      "execution_count": 6,
      "outputs": []
    },
    {
      "cell_type": "markdown",
      "source": [
        "The next chunk of code is meant to test the function you wrote above."
      ],
      "metadata": {
        "id": "izfSAVO_OjU1"
      }
    },
    {
      "cell_type": "code",
      "source": [
        "# no need to change this chunk, just run it to see if you pass\n",
        "# all tests listed here\n",
        "pass_or_fail( number_to_string([[0, 1, 2], [3, 4]]), [[\"0\", \"1\", \"2\"], [\"3\", \"4\"]] )\n",
        "original_list = [[30], [31, 32], [89]]\n",
        "number_to_string(original_list)\n",
        "pass_or_fail( original_list, [[\"30\"], [\"31\", \"32\"], [\"89\"]])"
      ],
      "metadata": {
        "id": "70j1cJd1Oohr",
        "outputId": "589dc6b4-ba16-4b55-ad8a-270f0366e550",
        "colab": {
          "base_uri": "https://localhost:8080/"
        }
      },
      "execution_count": 7,
      "outputs": [
        {
          "output_type": "stream",
          "name": "stdout",
          "text": [
            "Test passed.\n",
            "Test passed.\n"
          ]
        }
      ]
    },
    {
      "cell_type": "markdown",
      "source": [
        "# Mutate list of lists 4\n",
        "\n",
        "Write a python function (called `string_to_integer`) that takes as argument a list of lists of strings, and replaces the string values with string using the built-in function `int()`.\n",
        "\n",
        "Remember you are to mutate the argument list and return. Do not create a new list, do **not** use `.append()`"
      ],
      "metadata": {
        "id": "uSheGbU9LgK2"
      }
    },
    {
      "cell_type": "code",
      "source": [
        "# write your function here\n",
        "def string_to_integer(strings):\n",
        "    for i in range(len(strings)):\n",
        "        for j in range(len(strings[i])):\n",
        "            strings[i][j] = int(strings[i][j])\n",
        "    return strings\n"
      ],
      "metadata": {
        "id": "C9nMm-vyOdwp"
      },
      "execution_count": 8,
      "outputs": []
    },
    {
      "cell_type": "markdown",
      "source": [
        "The next chunk of code is meant to test the function you wrote above."
      ],
      "metadata": {
        "id": "QYn68oEKOkMn"
      }
    },
    {
      "cell_type": "code",
      "source": [
        "# no need to change this chunk, just run it to see if you pass\n",
        "# all tests listed here\n",
        "pass_or_fail( string_to_integer([[\"0\", \"1\", \"2\", \"3\"], [\"4\"]]),\n",
        "                                [[0, 1, 2, 3], [4]])\n",
        "original_list = [[\"30\"], [\"31\", \"32\", \"89\"]]\n",
        "string_to_integer(original_list)\n",
        "pass_or_fail( original_list, [[30], [31, 32, 89]])\n",
        "\n",
        "original_list = [[\"30\"], [\"7\", \"32\"], [\"2\"]]\n",
        "string_to_integer(original_list)\n",
        "pass_or_fail( original_list, [[30], [7, 32], [2]])"
      ],
      "metadata": {
        "id": "Kq_dBCWKOqk6",
        "outputId": "0b65b240-a188-48e7-e2d7-c9742f22b15c",
        "colab": {
          "base_uri": "https://localhost:8080/"
        }
      },
      "execution_count": 9,
      "outputs": [
        {
          "output_type": "stream",
          "name": "stdout",
          "text": [
            "Test passed.\n",
            "Test passed.\n",
            "Test passed.\n"
          ]
        }
      ]
    },
    {
      "cell_type": "markdown",
      "source": [
        "# Mutate list of lists again\n",
        "\n",
        "\n",
        "Write a python function (called `double_all`) that takes as argument a list of lists of integers and multiplies each integers by 2.\n",
        "\n",
        "Remember you are to mutate the argument list and return. Do not create a new list, do **not** use `.append()`"
      ],
      "metadata": {
        "id": "xy07AD_xMQBo"
      }
    },
    {
      "cell_type": "code",
      "source": [
        "# write your function here\n",
        "def double_all(numbers):\n",
        "    for i in range(len(numbers)):\n",
        "        for j in range(len(numbers[i])):\n",
        "            numbers[i][j] *= 2\n",
        "    return numbers\n"
      ],
      "metadata": {
        "id": "FYzSp1DBOekO"
      },
      "execution_count": 10,
      "outputs": []
    },
    {
      "cell_type": "markdown",
      "source": [
        "The next chunk of code is meant to test the function you wrote above."
      ],
      "metadata": {
        "id": "tPeWjWKUOk-F"
      }
    },
    {
      "cell_type": "code",
      "source": [
        "# no need to change this chunk, just run it to see if you pass\n",
        "# all tests listed here\n",
        "test_list = [[1], [1]]\n",
        "double_all(test_list)\n",
        "pass_or_fail( test_list, [[2], [2]])\n",
        "\n",
        "pass_or_fail( double_all([[0, 1, 2, 3, 4]]), [[0, 2, 4, 6, 8]])"
      ],
      "metadata": {
        "id": "Byi9ROcgOsUY",
        "outputId": "fabe030b-c8ed-4c3d-9047-51d309428a2a",
        "colab": {
          "base_uri": "https://localhost:8080/"
        }
      },
      "execution_count": 11,
      "outputs": [
        {
          "output_type": "stream",
          "name": "stdout",
          "text": [
            "Test passed.\n",
            "Test passed.\n"
          ]
        }
      ]
    },
    {
      "cell_type": "markdown",
      "source": [
        "# Mutate list of lists last time\n",
        "\n",
        "Write a python function (called `add_prefix`) that takes as argument a list of lists of strings adds \"un\" at the beginning of each string.\n",
        "\n",
        "Remember you are to mutate the argument list and return. Do not create a new list, do **not** use `.append()`"
      ],
      "metadata": {
        "id": "t-iNcW5VMwhs"
      }
    },
    {
      "cell_type": "code",
      "source": [
        "# write your function here\n",
        "def add_prefix(words):\n",
        "    for i in range(len(words)):\n",
        "        for j in range(len(words[i])):\n",
        "            words[i][j] = \"un\" + words[i][j]\n",
        "    return words\n"
      ],
      "metadata": {
        "id": "mgg7n-LuOfRQ"
      },
      "execution_count": 12,
      "outputs": []
    },
    {
      "cell_type": "markdown",
      "source": [
        "The next chunk of code is meant to test the function you wrote above."
      ],
      "metadata": {
        "id": "L77-DbJKOlsc"
      }
    },
    {
      "cell_type": "code",
      "source": [
        "# no need to change this chunk, just run it to see if you pass\n",
        "# all tests listed here\n",
        "test_list = [[\"do\", \"burden\"], [\"aware\"], [\"clear\"], [\"rated\"]]\n",
        "add_prefix(test_list)\n",
        "pass_or_fail( test_list, [[\"undo\", \"unburden\"], [\"unaware\"],\n",
        "                          [\"unclear\"], [\"unrated\"]])\n",
        "\n",
        "test_list = [[\"learn\"], [\"glue\"]]\n",
        "add_prefix(test_list)\n",
        "pass_or_fail( test_list, [[\"unlearn\"], [\"unglue\"]])\n",
        "\n",
        "pass_or_fail( add_prefix([[\"tie\"], [\"see\", \"cut\"], [\"fix\", \"to\"]]),\n",
        "                          [[\"untie\"], [\"unsee\", \"uncut\"], [\"unfix\", \"unto\"]])"
      ],
      "metadata": {
        "id": "fRl8yxnyOtQh",
        "outputId": "baf8514e-3bdb-4fed-f469-57b681051be8",
        "colab": {
          "base_uri": "https://localhost:8080/"
        }
      },
      "execution_count": 13,
      "outputs": [
        {
          "output_type": "stream",
          "name": "stdout",
          "text": [
            "Test passed.\n",
            "Test passed.\n",
            "Test passed.\n"
          ]
        }
      ]
    }
  ]
}