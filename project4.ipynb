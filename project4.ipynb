{
 "cells": [
  {
   "cell_type": "markdown",
   "id": "c3888f2a",
   "metadata": {},
   "source": [
    "### House Hunting"
   ]
  },
  {
   "cell_type": "markdown",
   "id": "45656b82",
   "metadata": {},
   "source": [
    "if i save money for k months how much money will i have after k months"
   ]
  },
  {
   "cell_type": "code",
   "execution_count": 25,
   "id": "7abe8fd6",
   "metadata": {},
   "outputs": [
    {
     "name": "stdout",
     "output_type": "stream",
     "text": [
      "5495619.02382136\n"
     ]
    }
   ],
   "source": [
    "annual_salary = float(input(\"Enter your annual salary: \"))\n",
    "portion_saved = float(input(\"Enter the percent of your salary to save, as a decimal: \"))\n",
    "k = int(input(\"Enter the number of months to save: \"))\n",
    "current_savings = 0\n",
    "r = 0.04 \n",
    "\n",
    "for month in range(k):\n",
    "    current_savings = current_savings + (current_savings * r / 12)\n",
    "    current_savings = current_savings + ((annual_salary / 12) * portion_saved)\n",
    "\n",
    "print(current_savings)"
   ]
  },
  {
   "cell_type": "markdown",
   "id": "7c61906a",
   "metadata": {},
   "source": [
    "### Part A"
   ]
  },
  {
   "cell_type": "code",
   "execution_count": 26,
   "id": "c59013af",
   "metadata": {},
   "outputs": [],
   "source": [
    "annual_salary = float(input(\"Enter your annual salary: \"))\n",
    "portion_saved = float(input(\"Enter the percent of your salary to save, as a decimal: \"))\n",
    "total_cost = float(input(\"Enter the cost of your dream home: \"))\n",
    "semi_annual_raise = float(input(\"Enter the semi-annual raise, as a decimal: \"))\n",
    "portion_down_payment = 0.25 \n",
    "current_savings = 0          \n",
    "r = 0.04                     \n",
    "months = 0"
   ]
  },
  {
   "cell_type": "code",
   "execution_count": 27,
   "id": "f49b1446",
   "metadata": {},
   "outputs": [
    {
     "name": "stdout",
     "output_type": "stream",
     "text": [
      "250000.0\n",
      "251569.61633503888\n",
      "183\n"
     ]
    }
   ],
   "source": [
    "down_payment = total_cost * portion_down_payment\n",
    "while current_savings < down_payment:\n",
    "    current_savings = current_savings + (current_savings * r / 12)\n",
    "    current_savings = current_savings + ((annual_salary / 12) * portion_saved)\n",
    "    months = months + 1\n",
    "\n",
    "print(down_payment)\n",
    "print(current_savings)\n",
    "print( months)"
   ]
  },
  {
   "cell_type": "markdown",
   "id": "66d47341",
   "metadata": {},
   "source": [
    "### Part B"
   ]
  },
  {
   "cell_type": "code",
   "execution_count": 28,
   "id": "d0e346e3",
   "metadata": {},
   "outputs": [
    {
     "name": "stdout",
     "output_type": "stream",
     "text": [
      "Number of months: 142\n"
     ]
    }
   ],
   "source": [
    "def calculate_months(annual_salary, portion_saved, total_cost, semi_annual_raise):\n",
    "    portion_down_payment = 0.25\n",
    "    r = 0.04 \n",
    "    current_savings = 0\n",
    "    months = 0\n",
    "    \n",
    "    down_payment = total_cost * portion_down_payment\n",
    "    \n",
    "    while current_savings < down_payment:\n",
    "        if months > 0 and months % 6 == 0:\n",
    "            annual_salary = annual_salary * (1 + semi_annual_raise)\n",
    "            \n",
    "        current_savings = current_savings + (current_savings * r / 12)\n",
    "        current_savings = current_savings + ((annual_salary / 12) * portion_saved)\n",
    "        months = months + 1\n",
    "    \n",
    "    return months\n",
    "\n",
    "total_months = calculate_months(annual_salary, portion_saved, total_cost, semi_annual_raise)\n",
    "print(\"Number of months:\", total_months)"
   ]
  }
 ],
 "metadata": {
  "kernelspec": {
   "display_name": "base",
   "language": "python",
   "name": "python3"
  },
  "language_info": {
   "codemirror_mode": {
    "name": "ipython",
    "version": 3
   },
   "file_extension": ".py",
   "mimetype": "text/x-python",
   "name": "python",
   "nbconvert_exporter": "python",
   "pygments_lexer": "ipython3",
   "version": "3.12.8"
  }
 },
 "nbformat": 4,
 "nbformat_minor": 5
}
