{
  "nbformat": 4,
  "nbformat_minor": 0,
  "metadata": {
    "colab": {
      "provenance": [],
      "include_colab_link": true
    },
    "kernelspec": {
      "name": "python3",
      "display_name": "Python 3"
    },
    "language_info": {
      "name": "python"
    }
  },
  "cells": [
    {
      "cell_type": "markdown",
      "metadata": {
        "id": "view-in-github",
        "colab_type": "text"
      },
      "source": [
        "<a href=\"https://colab.research.google.com/github/Shruti-Karandikar/CSC110/blob/main/csc_110_practice_11.ipynb\" target=\"_parent\"><img src=\"https://colab.research.google.com/assets/colab-badge.svg\" alt=\"Open In Colab\"/></a>"
      ]
    },
    {
      "cell_type": "markdown",
      "source": [
        "# CSC 110 Spring 2023 Practice Problems -- Set 11\n",
        "\n",
        "This notebook contains a series of practice problems for CSC 110 Computer Programming I.\n",
        "\n",
        "Click on \"File\" and then choose \"Save a copy in Drive\" to create a copy of this notebook that you can make changes to."
      ],
      "metadata": {
        "id": "-XYNI5SFsGTW"
      }
    },
    {
      "cell_type": "code",
      "execution_count": 1,
      "metadata": {
        "id": "Nvyjb0xwj2ER"
      },
      "outputs": [],
      "source": [
        "# don't change this chunk of code, just run it\n",
        "# this is used to test your solution after\n",
        "# you've written your solutions to each problem\n",
        "def pass_or_fail(result, assert_value):\n",
        "  '''\n",
        "  This function tests whether a value returned by a function matches\n",
        "  the expected value -- it's used to test functions\n",
        "  Args:\n",
        "    result: any type returned by a function\n",
        "    assert_value: any type that is expected\n",
        "  Returns:\n",
        "    nothing, it prints messages\n",
        "  '''\n",
        "  # try to assert value returned by function is equal to expected value\n",
        "  try:\n",
        "    assert result == assert_value\n",
        "    print(\"Test passed.\")\n",
        "  except AssertionError: # try failed, values are different\n",
        "    print(\"Test failed. \" + str(result) + \" != \" + str(assert_value))"
      ]
    },
    {
      "cell_type": "markdown",
      "source": [
        "## 2D lists - mutate inner lists I\n",
        "\n",
        "1. Function name is `remove_first_last`\n",
        "1. It takes a 2D list as argument (a list of lists)\n",
        "1. It **mutates** the list removing the first and last element of each inner list"
      ],
      "metadata": {
        "id": "keDVLI_Iqo9W"
      }
    },
    {
      "cell_type": "code",
      "source": [
        "# write your function here\n",
        "def remove_first_last(lists):\n",
        "    for i in range(len(lists)):\n",
        "        lists[i] = lists[i][1:-1]\n",
        "    return lists\n"
      ],
      "metadata": {
        "id": "FOma4oZ7kzV5"
      },
      "execution_count": 2,
      "outputs": []
    },
    {
      "cell_type": "markdown",
      "source": [
        "The next chunk of code is meant to test the function you wrote above.\n",
        "\n"
      ],
      "metadata": {
        "id": "uTj_5ZN7rLOI"
      }
    },
    {
      "cell_type": "code",
      "source": [
        "# no need to change this chunk, just run it to see if you pass\n",
        "# all tests listed here\n",
        "test_list = [ [2, 1, 1],\n",
        "              [0, 2, 1],\n",
        "              [9, 3, 4] ]\n",
        "remove_first_last(test_list)\n",
        "pass_or_fail(test_list, [[1], [2], [3]])\n",
        "\n",
        "test_list = [ [2],\n",
        "              [0],\n",
        "              [9] ]\n",
        "remove_first_last(test_list)\n",
        "pass_or_fail(test_list, [[], [], []])\n"
      ],
      "metadata": {
        "id": "AdoBYpD_rQV-",
        "outputId": "cba4156b-ecb2-43df-fb86-57a9789f5901",
        "colab": {
          "base_uri": "https://localhost:8080/"
        }
      },
      "execution_count": 3,
      "outputs": [
        {
          "output_type": "stream",
          "name": "stdout",
          "text": [
            "Test passed.\n",
            "Test passed.\n"
          ]
        }
      ]
    },
    {
      "cell_type": "markdown",
      "source": [
        "## 2D lists - mutate inner lists II\n",
        "\n",
        "1. Function name is `remove_equal`\n",
        "1. It takes a 2D list as argument (a list of lists)\n",
        "1. It **mutates** the list removing the first and last element of each inner list if they are the same (if they are different, don't change anything)\n"
      ],
      "metadata": {
        "id": "nBIfPvEKJI54"
      }
    },
    {
      "cell_type": "code",
      "source": [
        "# write your function here\n",
        "def remove_equal(lists):\n",
        "    for i in range(len(lists)):\n",
        "        if len(lists[i]) >= 2 and lists[i][0] == lists[i][-1]:\n",
        "            lists[i] = lists[i][1:-1]\n",
        "    return lists\n"
      ],
      "metadata": {
        "id": "8fdauRN_J4NP"
      },
      "execution_count": 4,
      "outputs": []
    },
    {
      "cell_type": "markdown",
      "source": [
        "The next chunk of code is meant to test the function you wrote above."
      ],
      "metadata": {
        "id": "Yn_3S7BKKHdn"
      }
    },
    {
      "cell_type": "code",
      "source": [
        "# no need to change this chunk, just run it to see if you pass\n",
        "# all tests listed here\n",
        "test_list = [ [2, 1, 2],\n",
        "              [0, 2, 1],\n",
        "              [4, 3, 4] ]\n",
        "remove_equal(test_list)\n",
        "pass_or_fail(test_list, [[1], [0, 2, 1], [3]])\n",
        "\n",
        "test_list = [ [2, 2],\n",
        "              [0, 1],\n",
        "              [4, 4] ]\n",
        "remove_equal(test_list)\n",
        "pass_or_fail(test_list, [[], [0, 1], []])\n",
        "\n",
        "test_list = [ [2],\n",
        "              [0],\n",
        "              [9] ]\n",
        "remove_equal(test_list)\n",
        "pass_or_fail(test_list, [[2], [0], [9]])\n"
      ],
      "metadata": {
        "id": "WYrijA3LKEO9",
        "outputId": "21d8ff6d-a785-41f4-858d-cdcb3a4c0c57",
        "colab": {
          "base_uri": "https://localhost:8080/"
        }
      },
      "execution_count": 5,
      "outputs": [
        {
          "output_type": "stream",
          "name": "stdout",
          "text": [
            "Test passed.\n",
            "Test passed.\n",
            "Test passed.\n"
          ]
        }
      ]
    },
    {
      "cell_type": "markdown",
      "source": [
        "## 2D lists - mutate inner lists III\n",
        "\n",
        "1. Function name is `remove_longest`\n",
        "1. It takes a 2D list as argument (a list of lists of strings)\n",
        "1. It **mutates** the list removing either the first and or the last element of each inner list -- whatever string is longer (if they are the same size, don't change anything)"
      ],
      "metadata": {
        "id": "Wep9j_eZTZ6L"
      }
    },
    {
      "cell_type": "code",
      "source": [
        "# write your function here\n",
        "def remove_longest(lists):\n",
        "    for i in range(len(lists)):\n",
        "        if len(lists[i]) >= 2:\n",
        "            first = lists[i][0]\n",
        "            last = lists[i][-1]\n",
        "            if len(first) > len(last):\n",
        "                lists[i] = lists[i][1:]\n",
        "            elif len(last) > len(first):\n",
        "                lists[i] = lists[i][:-1]\n",
        "    return lists\n"
      ],
      "metadata": {
        "id": "LNbK6JLsToRo"
      },
      "execution_count": 6,
      "outputs": []
    },
    {
      "cell_type": "markdown",
      "source": [
        "The next chunk of code is meant to test the function you wrote above."
      ],
      "metadata": {
        "id": "ZTADbrydTyff"
      }
    },
    {
      "cell_type": "code",
      "source": [
        "# no need to change this chunk, just run it to see if you pass\n",
        "# all tests listed here\n",
        "test_list = [ [\"a\", \"banana\", \"pinapple\"],\n",
        "              [\"a\", \"apple\", \"a\"],\n",
        "              [\"pineapple\", \"pear\", \"a\"] ]\n",
        "remove_longest(test_list)\n",
        "pass_or_fail(test_list, [[\"a\", \"banana\"], [\"a\", \"apple\", \"a\"], [\"pear\", \"a\"]])\n",
        "\n",
        "test_list = [ [\"banana\", \"pinapple\"],\n",
        "              [\"a\", \"a\"],\n",
        "              [\"pineapple\", \"pear\"] ]\n",
        "remove_longest(test_list)\n",
        "pass_or_fail(test_list, [[\"banana\"], [\"a\", \"a\"], [\"pear\"]])\n",
        "\n",
        "test_list = [ [\"banana\"],\n",
        "              [\"a\"],\n",
        "              [\"pineapple\"] ]\n",
        "remove_longest(test_list)\n",
        "pass_or_fail(test_list, [[\"banana\"], [\"a\"], [\"pineapple\"]])"
      ],
      "metadata": {
        "id": "2xUIax3DTyF-",
        "outputId": "1f8e234b-6af2-4252-a0cd-81d474e220e0",
        "colab": {
          "base_uri": "https://localhost:8080/"
        }
      },
      "execution_count": 7,
      "outputs": [
        {
          "output_type": "stream",
          "name": "stdout",
          "text": [
            "Test passed.\n",
            "Test passed.\n",
            "Test passed.\n"
          ]
        }
      ]
    },
    {
      "cell_type": "markdown",
      "source": [
        "# Select specific keys -- vowels\n",
        "\n",
        "1. Function name is `keep_double_vowels`\n",
        "1. It takes a dictionary that has strings as keys, and integers as values\n",
        "1. It **mutates** the dictionary, keeping only the `key: value` pairs whose key contains a double vowel (two vowels in a row)"
      ],
      "metadata": {
        "id": "LrHskGyqUPT5"
      }
    },
    {
      "cell_type": "code",
      "source": [
        "# write your function here\n",
        "def keep_double_vowels(d):\n",
        "    vowels = \"aeiou\"\n",
        "    for key in list(d):\n",
        "        has_double_vowel = False\n",
        "        for i in range(len(key) - 1):\n",
        "            if key[i] in vowels and key[i+1] in vowels:\n",
        "                has_double_vowel = True\n",
        "        if not has_double_vowel:\n",
        "            del d[key]\n",
        "    return d\n"
      ],
      "metadata": {
        "id": "fx_XmgHJUVb8"
      },
      "execution_count": 12,
      "outputs": []
    },
    {
      "cell_type": "markdown",
      "source": [
        "The next chunk of code is meant to test the function you wrote above."
      ],
      "metadata": {
        "id": "wIlHo2x8UonV"
      }
    },
    {
      "cell_type": "code",
      "source": [
        "# no need to change this chunk, just run it to see if you pass\n",
        "# all tests listed here\n",
        "test_dictionary = {\"Beatrice\": 21, \"Paul\": 25, \"Peter\": 23}\n",
        "keep_double_vowels(test_dictionary)\n",
        "pass_or_fail(test_dictionary, {\"Beatrice\": 21, \"Paul\": 25})\n",
        "\n",
        "test_dictionary = {\"Anna\": 21, \"Lenny\": 25, \"Aaron\": 34, \"Robb\": 10, \"Jack\": 20}\n",
        "keep_double_vowels(test_dictionary)\n",
        "pass_or_fail(test_dictionary, {\"Aaron\": 34})"
      ],
      "metadata": {
        "id": "HVE4nIC4UrLY",
        "outputId": "ecf78301-4b8f-4dd3-d240-3c1ae53d26ff",
        "colab": {
          "base_uri": "https://localhost:8080/"
        }
      },
      "execution_count": 13,
      "outputs": [
        {
          "output_type": "stream",
          "name": "stdout",
          "text": [
            "Test passed.\n",
            "Test failed. {} != {'Aaron': 34}\n"
          ]
        }
      ]
    },
    {
      "cell_type": "markdown",
      "source": [
        "# Select specific keys -- duplicate letters\n",
        "\n",
        "1. Function name is `keep_double_letters`\n",
        "1. It takes a dictionary that has strings as keys, and integers as values\n",
        "1. It **mutates** the dictionary, keeping only the `key: value` pairs whose key contains a duplicate letter (two of the same character in a row)"
      ],
      "metadata": {
        "id": "Xqg8no4vU3wQ"
      }
    },
    {
      "cell_type": "code",
      "source": [
        "# write your function here\n",
        "def keep_double_letters(d):\n",
        "    for key in list(d):\n",
        "        has_double = False\n",
        "        for i in range(len(key) - 1):\n",
        "            if key[i] == key[i + 1]:\n",
        "                has_double = True\n",
        "        if not has_double:\n",
        "            del d[key]\n",
        "    return d\n"
      ],
      "metadata": {
        "id": "dtfahKhaVCid"
      },
      "execution_count": 14,
      "outputs": []
    },
    {
      "cell_type": "markdown",
      "source": [
        "The next chunk of code is meant to test the function you wrote above."
      ],
      "metadata": {
        "id": "zs5pmN0WVOkl"
      }
    },
    {
      "cell_type": "code",
      "source": [
        "# no need to change this chunk, just run it to see if you pass\n",
        "# all tests listed here\n",
        "test_dictionary = {\"Beatrice\": 21, \"Paul\": 25, \"Peter\": 23}\n",
        "keep_double_letters(test_dictionary)\n",
        "pass_or_fail(test_dictionary, {})\n",
        "\n",
        "test_dictionary = {\"Anna\": 21, \"Lenny\": 25, \"Aaron\": 34, \"Robb\": 10, \"Jack\": 20}\n",
        "keep_double_letters(test_dictionary)\n",
        "pass_or_fail(test_dictionary, {\"Anna\": 21, \"Lenny\": 25, \"Aaron\": 34, \"Robb\": 10})"
      ],
      "metadata": {
        "id": "I2bO5Ro5VR4z",
        "outputId": "ad260832-4c29-4df1-f6c0-660913cf67c8",
        "colab": {
          "base_uri": "https://localhost:8080/"
        }
      },
      "execution_count": 15,
      "outputs": [
        {
          "output_type": "stream",
          "name": "stdout",
          "text": [
            "Test passed.\n",
            "Test failed. {'Anna': 21, 'Lenny': 25, 'Robb': 10} != {'Anna': 21, 'Lenny': 25, 'Aaron': 34, 'Robb': 10}\n"
          ]
        }
      ]
    }
  ]
}