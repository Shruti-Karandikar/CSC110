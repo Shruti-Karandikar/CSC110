{
 "cells": [
  {
   "cell_type": "code",
   "execution_count": 12,
   "id": "b85e78d0",
   "metadata": {},
   "outputs": [],
   "source": [
    "import cross_stitch\n",
    "import random"
   ]
  },
  {
   "cell_type": "code",
   "execution_count": 6,
   "id": "863de38a",
   "metadata": {},
   "outputs": [
    {
     "data": {
      "text/plain": [
       "'cross_stitch'"
      ]
     },
     "execution_count": 6,
     "metadata": {},
     "output_type": "execute_result"
    }
   ],
   "source": [
    "cross_stitch.__name__"
   ]
  },
  {
   "cell_type": "markdown",
   "id": "ba8879bc",
   "metadata": {},
   "source": [
    "### Create the random background"
   ]
  },
  {
   "cell_type": "code",
   "execution_count": 15,
   "id": "0df5702f",
   "metadata": {},
   "outputs": [],
   "source": [
    "def create_background(width, length, num_symbols):\n",
    "    random.seed(123)\n",
    "    pattern = []\n",
    "    symbols_choose = cross_stitch.SYMBOLS[:num_symbols]\n",
    "    \n",
    "    for i in range(length):\n",
    "        row = []\n",
    "        for j in range(width):\n",
    "            symbol = random.choice(symbols_choose)\n",
    "            row.append(symbol)\n",
    "        pattern.append(row)\n",
    "    return pattern"
   ]
  },
  {
   "cell_type": "code",
   "execution_count": 84,
   "id": "13a379f1",
   "metadata": {},
   "outputs": [],
   "source": [
    "# try with list comprehension for row\n",
    "def create_background(width, length, num_symbols):\n",
    "    random.seed(123)\n",
    "    pattern = []\n",
    "    symbols_choose = cross_stitch.SYMBOLS[:num_symbols]\n",
    "    \n",
    "    for i in range(length):\n",
    "        row = [random.choice(symbols_choose) for _ in range(width)]\n",
    "        pattern.append(row)\n",
    "    return pattern"
   ]
  },
  {
   "cell_type": "code",
   "execution_count": 83,
   "id": "cb9145ca",
   "metadata": {},
   "outputs": [],
   "source": [
    "# try doing a list comprehension for both!\n",
    "def create_background(width, length, num_symbols):\n",
    "    random.seed(123)\n",
    "    symbols_choose = cross_stitch.SYMBOLS[:num_symbols]\n",
    "    pattern = [[random.choice(symbols_choose) for _ in range(width)] for _ in range(length)]\n",
    "    \n",
    "    return pattern"
   ]
  },
  {
   "cell_type": "code",
   "execution_count": 17,
   "id": "e56ccc43",
   "metadata": {},
   "outputs": [
    {
     "name": "stdout",
     "output_type": "stream",
     "text": [
      "┌───┬───┬───┬───┬───┬───┬───┬───┬───┬───┬───┬───┬───┬───┬───┬───┬───┬───┬───┬───┐\n",
      "│ ◎ │ △ │ ◎ │ △ │ △ │ ◎ │ ◎ │ △ │ △ │ △ │ ◎ │ ◎ │ ◎ │ △ │ △ │ ◎ │ ◎ │ ◎ │ △ │ ◎ │\n",
      "├───┼───┼───┼───┼───┼───┼───┼───┼───┼───┼───┼───┼───┼───┼───┼───┼───┼───┼───┼───┤\n",
      "│ △ │ ◎ │ ◎ │ △ │ △ │ ◎ │ ◎ │ ◎ │ ◎ │ ◎ │ ◎ │ △ │ △ │ △ │ △ │ △ │ ◎ │ △ │ △ │ △ │\n",
      "├───┼───┼───┼───┼───┼───┼───┼───┼───┼───┼───┼───┼───┼───┼───┼───┼───┼───┼───┼───┤\n",
      "│ ◎ │ △ │ ◎ │ △ │ △ │ △ │ △ │ △ │ ◎ │ ◎ │ ◎ │ △ │ △ │ ◎ │ △ │ △ │ △ │ ◎ │ △ │ △ │\n",
      "├───┼───┼───┼───┼───┼───┼───┼───┼───┼───┼───┼───┼───┼───┼───┼───┼───┼───┼───┼───┤\n",
      "│ △ │ ◎ │ ◎ │ ◎ │ △ │ ◎ │ △ │ ◎ │ △ │ ◎ │ △ │ △ │ ◎ │ △ │ ◎ │ ◎ │ △ │ △ │ △ │ ◎ │\n",
      "├───┼───┼───┼───┼───┼───┼───┼───┼───┼───┼───┼───┼───┼───┼───┼───┼───┼───┼───┼───┤\n",
      "│ ◎ │ ◎ │ △ │ ◎ │ ◎ │ △ │ △ │ △ │ △ │ △ │ ◎ │ ◎ │ ◎ │ △ │ ◎ │ ◎ │ △ │ ◎ │ △ │ ◎ │\n",
      "├───┼───┼───┼───┼───┼───┼───┼───┼───┼───┼───┼───┼───┼───┼───┼───┼───┼───┼───┼───┤\n",
      "│ △ │ ◎ │ △ │ △ │ △ │ ◎ │ △ │ △ │ △ │ ◎ │ ◎ │ △ │ ◎ │ ◎ │ △ │ ◎ │ ◎ │ ◎ │ △ │ △ │\n",
      "├───┼───┼───┼───┼───┼───┼───┼───┼───┼───┼───┼───┼───┼───┼───┼───┼───┼───┼───┼───┤\n",
      "│ ◎ │ △ │ △ │ △ │ ◎ │ △ │ ◎ │ ◎ │ △ │ △ │ ◎ │ ◎ │ △ │ ◎ │ △ │ △ │ △ │ △ │ △ │ ◎ │\n",
      "├───┼───┼───┼───┼───┼───┼───┼───┼───┼───┼───┼───┼───┼───┼───┼───┼───┼───┼───┼───┤\n",
      "│ ◎ │ △ │ ◎ │ △ │ ◎ │ △ │ ◎ │ △ │ ◎ │ △ │ ◎ │ ◎ │ △ │ △ │ △ │ ◎ │ ◎ │ ◎ │ ◎ │ ◎ │\n",
      "├───┼───┼───┼───┼───┼───┼───┼───┼───┼───┼───┼───┼───┼───┼───┼───┼───┼───┼───┼───┤\n",
      "│ ◎ │ △ │ ◎ │ ◎ │ △ │ ◎ │ △ │ ◎ │ ◎ │ △ │ △ │ △ │ ◎ │ △ │ △ │ △ │ △ │ ◎ │ ◎ │ ◎ │\n",
      "├───┼───┼───┼───┼───┼───┼───┼───┼───┼───┼───┼───┼───┼───┼───┼───┼───┼───┼───┼───┤\n",
      "│ △ │ △ │ ◎ │ ◎ │ △ │ △ │ △ │ △ │ △ │ △ │ ◎ │ △ │ △ │ ◎ │ ◎ │ △ │ ◎ │ △ │ △ │ △ │\n",
      "└───┴───┴───┴───┴───┴───┴───┴───┴───┴───┴───┴───┴───┴───┴───┴───┴───┴───┴───┴───┘\n"
     ]
    }
   ],
   "source": [
    "pattern = create_background(20, 10, 2)\n",
    "cross_stitch.print_pattern(pattern)"
   ]
  },
  {
   "cell_type": "markdown",
   "id": "6df6481d",
   "metadata": {},
   "source": [
    "### Add a vertical stripe to the pattern"
   ]
  },
  {
   "cell_type": "code",
   "execution_count": null,
   "id": "02aa20fa",
   "metadata": {},
   "outputs": [],
   "source": [
    "def add_v_stripe(pattern, y, width, symbol_idx):\n",
    "    symbol = cross_stitch.SYMBOLS[symbol_idx]\n",
    "\n",
    "    for x in range(len(pattern)):\n",
    "        for i in range(width):\n",
    "            # Calculate the actual x position\n",
    "            current_y = y + i\n",
    "            \n",
    "            # Check if the position is within the pattern bounds\n",
    "            if 0 <= current_y < len(pattern[y]):\n",
    "                # Set the symbol at this position\n",
    "                pattern[x][current_y] = symbol\n",
    "    \n",
    "    return pattern"
   ]
  },
  {
   "cell_type": "code",
   "execution_count": 31,
   "id": "9eede7c6",
   "metadata": {},
   "outputs": [
    {
     "name": "stdout",
     "output_type": "stream",
     "text": [
      "┌───┬───┬───┬───┬───┬───┬───┬───┬───┬───┬───┬───┬───┬───┬───┬───┬───┬───┬───┬───┐\n",
      "│ ◎ │ △ │ ● │ ● │ ● │ ● │ ◎ │ △ │ △ │ △ │ ◎ │ ◎ │ ◎ │ △ │ △ │ ◎ │ ◎ │ ◎ │ △ │ ◎ │\n",
      "├───┼───┼───┼───┼───┼───┼───┼───┼───┼───┼───┼───┼───┼───┼───┼───┼───┼───┼───┼───┤\n",
      "│ △ │ ◎ │ ● │ ● │ ● │ ● │ ◎ │ ◎ │ ◎ │ ◎ │ ◎ │ △ │ △ │ △ │ △ │ △ │ ◎ │ △ │ △ │ △ │\n",
      "├───┼───┼───┼───┼───┼───┼───┼───┼───┼───┼───┼───┼───┼───┼───┼───┼───┼───┼───┼───┤\n",
      "│ ◎ │ △ │ ● │ ● │ ● │ ● │ △ │ △ │ ◎ │ ◎ │ ◎ │ △ │ △ │ ◎ │ △ │ △ │ △ │ ◎ │ △ │ △ │\n",
      "├───┼───┼───┼───┼───┼───┼───┼───┼───┼───┼───┼───┼───┼───┼───┼───┼───┼───┼───┼───┤\n",
      "│ △ │ ◎ │ ● │ ● │ ● │ ● │ △ │ ◎ │ △ │ ◎ │ △ │ △ │ ◎ │ △ │ ◎ │ ◎ │ △ │ △ │ △ │ ◎ │\n",
      "├───┼───┼───┼───┼───┼───┼───┼───┼───┼───┼───┼───┼───┼───┼───┼───┼───┼───┼───┼───┤\n",
      "│ ◎ │ ◎ │ ● │ ● │ ● │ ● │ △ │ △ │ △ │ △ │ ◎ │ ◎ │ ◎ │ △ │ ◎ │ ◎ │ △ │ ◎ │ △ │ ◎ │\n",
      "├───┼───┼───┼───┼───┼───┼───┼───┼───┼───┼───┼───┼───┼───┼───┼───┼───┼───┼───┼───┤\n",
      "│ △ │ ◎ │ ● │ ● │ ● │ ● │ △ │ △ │ △ │ ◎ │ ◎ │ △ │ ◎ │ ◎ │ △ │ ◎ │ ◎ │ ◎ │ △ │ △ │\n",
      "├───┼───┼───┼───┼───┼───┼───┼───┼───┼───┼───┼───┼───┼───┼───┼───┼───┼───┼───┼───┤\n",
      "│ ◎ │ △ │ ● │ ● │ ● │ ● │ ◎ │ ◎ │ △ │ △ │ ◎ │ ◎ │ △ │ ◎ │ △ │ △ │ △ │ △ │ △ │ ◎ │\n",
      "├───┼───┼───┼───┼───┼───┼───┼───┼───┼───┼───┼───┼───┼───┼───┼───┼───┼───┼───┼───┤\n",
      "│ ◎ │ △ │ ● │ ● │ ● │ ● │ ◎ │ △ │ ◎ │ △ │ ◎ │ ◎ │ △ │ △ │ △ │ ◎ │ ◎ │ ◎ │ ◎ │ ◎ │\n",
      "├───┼───┼───┼───┼───┼───┼───┼───┼───┼───┼───┼───┼───┼───┼───┼───┼───┼───┼───┼───┤\n",
      "│ ◎ │ △ │ ● │ ● │ ● │ ● │ △ │ ◎ │ ◎ │ △ │ △ │ △ │ ◎ │ △ │ △ │ △ │ △ │ ◎ │ ◎ │ ◎ │\n",
      "├───┼───┼───┼───┼───┼───┼───┼───┼───┼───┼───┼───┼───┼───┼───┼───┼───┼───┼───┼───┤\n",
      "│ △ │ △ │ ● │ ● │ ● │ ● │ △ │ △ │ △ │ △ │ ◎ │ △ │ △ │ ◎ │ ◎ │ △ │ ◎ │ △ │ △ │ △ │\n",
      "└───┴───┴───┴───┴───┴───┴───┴───┴───┴───┴───┴───┴───┴───┴───┴───┴───┴───┴───┴───┘\n"
     ]
    }
   ],
   "source": [
    "pattern = create_background(20, 10, 2)\n",
    "# add vertical stripe at y = 2, of width = 4,\n",
    "# using the symbol at index 3 in the list of symbols\n",
    "pattern = add_v_stripe(pattern, 2, 4, 3)\n",
    "cross_stitch.print_pattern(pattern)"
   ]
  },
  {
   "cell_type": "markdown",
   "id": "01a3589a",
   "metadata": {},
   "source": [
    "### Add a horizontal stripe to the pattern"
   ]
  },
  {
   "cell_type": "code",
   "execution_count": 60,
   "id": "69cc5598",
   "metadata": {},
   "outputs": [],
   "source": [
    "def add_h_stripe(pattern, x, height, symbol_idx):\n",
    "    symbol = cross_stitch.SYMBOLS[symbol_idx]\n",
    "    \n",
    "    for i in range(height):\n",
    "        current_x = x + i\n",
    "        if 0 <= current_x < len(pattern):\n",
    "            for y in range(len(pattern[current_x])):\n",
    "                pattern[current_x][y] = symbol\n",
    "    \n",
    "    return pattern"
   ]
  },
  {
   "cell_type": "code",
   "execution_count": 33,
   "id": "0817d59f",
   "metadata": {},
   "outputs": [
    {
     "name": "stdout",
     "output_type": "stream",
     "text": [
      "┌───┬───┬───┬───┬───┬───┬───┬───┬───┬───┬───┬───┬───┬───┬───┬───┬───┬───┬───┬───┐\n",
      "│ ◎ │ △ │ ◎ │ △ │ △ │ ◎ │ ◎ │ △ │ △ │ △ │ ◎ │ ◎ │ ◎ │ △ │ △ │ ◎ │ ◎ │ ◎ │ △ │ ◎ │\n",
      "├───┼───┼───┼───┼───┼───┼───┼───┼───┼───┼───┼───┼───┼───┼───┼───┼───┼───┼───┼───┤\n",
      "│ △ │ ◎ │ ◎ │ △ │ △ │ ◎ │ ◎ │ ◎ │ ◎ │ ◎ │ ◎ │ △ │ △ │ △ │ △ │ △ │ ◎ │ △ │ △ │ △ │\n",
      "├───┼───┼───┼───┼───┼───┼───┼───┼───┼───┼───┼───┼───┼───┼───┼───┼───┼───┼───┼───┤\n",
      "│ ▲ │ ▲ │ ▲ │ ▲ │ ▲ │ ▲ │ ▲ │ ▲ │ ▲ │ ▲ │ ▲ │ ▲ │ ▲ │ ▲ │ ▲ │ ▲ │ ▲ │ ▲ │ ▲ │ ▲ │\n",
      "├───┼───┼───┼───┼───┼───┼───┼───┼───┼───┼───┼───┼───┼───┼───┼───┼───┼───┼───┼───┤\n",
      "│ ▲ │ ▲ │ ▲ │ ▲ │ ▲ │ ▲ │ ▲ │ ▲ │ ▲ │ ▲ │ ▲ │ ▲ │ ▲ │ ▲ │ ▲ │ ▲ │ ▲ │ ▲ │ ▲ │ ▲ │\n",
      "├───┼───┼───┼───┼───┼───┼───┼───┼───┼───┼───┼───┼───┼───┼───┼───┼───┼───┼───┼───┤\n",
      "│ ▲ │ ▲ │ ▲ │ ▲ │ ▲ │ ▲ │ ▲ │ ▲ │ ▲ │ ▲ │ ▲ │ ▲ │ ▲ │ ▲ │ ▲ │ ▲ │ ▲ │ ▲ │ ▲ │ ▲ │\n",
      "├───┼───┼───┼───┼───┼───┼───┼───┼───┼───┼───┼───┼───┼───┼───┼───┼───┼───┼───┼───┤\n",
      "│ ▲ │ ▲ │ ▲ │ ▲ │ ▲ │ ▲ │ ▲ │ ▲ │ ▲ │ ▲ │ ▲ │ ▲ │ ▲ │ ▲ │ ▲ │ ▲ │ ▲ │ ▲ │ ▲ │ ▲ │\n",
      "├───┼───┼───┼───┼───┼───┼───┼───┼───┼───┼───┼───┼───┼───┼───┼───┼───┼───┼───┼───┤\n",
      "│ ▲ │ ▲ │ ▲ │ ▲ │ ▲ │ ▲ │ ▲ │ ▲ │ ▲ │ ▲ │ ▲ │ ▲ │ ▲ │ ▲ │ ▲ │ ▲ │ ▲ │ ▲ │ ▲ │ ▲ │\n",
      "├───┼───┼───┼───┼───┼───┼───┼───┼───┼───┼───┼───┼───┼───┼───┼───┼───┼───┼───┼───┤\n",
      "│ ◎ │ △ │ ◎ │ △ │ ◎ │ △ │ ◎ │ △ │ ◎ │ △ │ ◎ │ ◎ │ △ │ △ │ △ │ ◎ │ ◎ │ ◎ │ ◎ │ ◎ │\n",
      "├───┼───┼───┼───┼───┼───┼───┼───┼───┼───┼───┼───┼───┼───┼───┼───┼───┼───┼───┼───┤\n",
      "│ ◎ │ △ │ ◎ │ ◎ │ △ │ ◎ │ △ │ ◎ │ ◎ │ △ │ △ │ △ │ ◎ │ △ │ △ │ △ │ △ │ ◎ │ ◎ │ ◎ │\n",
      "├───┼───┼───┼───┼───┼───┼───┼───┼───┼───┼───┼───┼───┼───┼───┼───┼───┼───┼───┼───┤\n",
      "│ △ │ △ │ ◎ │ ◎ │ △ │ △ │ △ │ △ │ △ │ △ │ ◎ │ △ │ △ │ ◎ │ ◎ │ △ │ ◎ │ △ │ △ │ △ │\n",
      "└───┴───┴───┴───┴───┴───┴───┴───┴───┴───┴───┴───┴───┴───┴───┴───┴───┴───┴───┴───┘\n"
     ]
    }
   ],
   "source": [
    "pattern = create_background(20, 10, 2)\n",
    "# add vertical stripe at x = 2, of height = 5,\n",
    "# using the symbol at index 6 in the list of symbols\n",
    "pattern = add_h_stripe(pattern, 2, 5, 6)\n",
    "cross_stitch.print_pattern(pattern)"
   ]
  },
  {
   "cell_type": "markdown",
   "id": "ceb260ca",
   "metadata": {},
   "source": [
    "### Add a square to the pattern"
   ]
  },
  {
   "cell_type": "code",
   "execution_count": 65,
   "id": "2cef8924",
   "metadata": {},
   "outputs": [],
   "source": [
    "def add_square(pattern, x, y, size, symbol_idx):\n",
    "    symbol = cross_stitch.SYMBOLS[symbol_idx]\n",
    "\n",
    "    for i in range(size):\n",
    "        current_x = x + i\n",
    "        if 0 <= current_x < len(pattern):\n",
    "            for j in range(size):\n",
    "                current_y = y + j\n",
    "                if 0 <= current_y < len(pattern[current_x]):\n",
    "                    pattern[current_x][current_y] = symbol\n",
    "    \n",
    "    return pattern"
   ]
  },
  {
   "cell_type": "code",
   "execution_count": 66,
   "id": "84425c28",
   "metadata": {},
   "outputs": [
    {
     "name": "stdout",
     "output_type": "stream",
     "text": [
      "┌───┬───┬───┬───┬───┬───┬───┬───┬───┬───┬───┬───┬───┬───┬───┬───┬───┬───┬───┬───┐\n",
      "│ ◎ │ △ │ ◎ │ △ │ △ │ ◎ │ ◎ │ △ │ △ │ △ │ ◎ │ ◎ │ ◎ │ △ │ △ │ ◎ │ ◎ │ ◎ │ △ │ ◎ │\n",
      "├───┼───┼───┼───┼───┼───┼───┼───┼───┼───┼───┼───┼───┼───┼───┼───┼───┼───┼───┼───┤\n",
      "│ △ │ ◎ │ ◎ │ △ │ △ │ ♦ │ ♦ │ ♦ │ ♦ │ ♦ │ ♦ │ ♦ │ ♦ │ △ │ △ │ △ │ ◎ │ △ │ △ │ △ │\n",
      "├───┼───┼───┼───┼───┼───┼───┼───┼───┼───┼───┼───┼───┼───┼───┼───┼───┼───┼───┼───┤\n",
      "│ ◎ │ △ │ ◎ │ △ │ △ │ ♦ │ ♦ │ ♦ │ ♦ │ ♦ │ ♦ │ ♦ │ ♦ │ ◎ │ △ │ △ │ △ │ ◎ │ △ │ △ │\n",
      "├───┼───┼───┼───┼───┼───┼───┼───┼───┼───┼───┼───┼───┼───┼───┼───┼───┼───┼───┼───┤\n",
      "│ △ │ ◎ │ ◎ │ ◎ │ △ │ ♦ │ ♦ │ ♦ │ ♦ │ ♦ │ ♦ │ ♦ │ ♦ │ △ │ ◎ │ ◎ │ △ │ △ │ △ │ ◎ │\n",
      "├───┼───┼───┼───┼───┼───┼───┼───┼───┼───┼───┼───┼───┼───┼───┼───┼───┼───┼───┼───┤\n",
      "│ ◎ │ ◎ │ △ │ ◎ │ ◎ │ ♦ │ ♦ │ ♦ │ ♦ │ ♦ │ ♦ │ ♦ │ ♦ │ △ │ ◎ │ ◎ │ △ │ ◎ │ △ │ ◎ │\n",
      "├───┼───┼───┼───┼───┼───┼───┼───┼───┼───┼───┼───┼───┼───┼───┼───┼───┼───┼───┼───┤\n",
      "│ △ │ ◎ │ △ │ △ │ △ │ ♦ │ ♦ │ ♦ │ ♦ │ ♦ │ ♦ │ ♦ │ ♦ │ ◎ │ △ │ ◎ │ ◎ │ ◎ │ △ │ △ │\n",
      "├───┼───┼───┼───┼───┼───┼───┼───┼───┼───┼───┼───┼───┼───┼───┼───┼───┼───┼───┼───┤\n",
      "│ ◎ │ △ │ △ │ △ │ ◎ │ ♦ │ ♦ │ ♦ │ ♦ │ ♦ │ ♦ │ ♦ │ ♦ │ ◎ │ △ │ △ │ △ │ △ │ △ │ ◎ │\n",
      "├───┼───┼───┼───┼───┼───┼───┼───┼───┼───┼───┼───┼───┼───┼───┼───┼───┼───┼───┼───┤\n",
      "│ ◎ │ △ │ ◎ │ △ │ ◎ │ ♦ │ ♦ │ ♦ │ ♦ │ ♦ │ ♦ │ ♦ │ ♦ │ △ │ △ │ ◎ │ ◎ │ ◎ │ ◎ │ ◎ │\n",
      "├───┼───┼───┼───┼───┼───┼───┼───┼───┼───┼───┼───┼───┼───┼───┼───┼───┼───┼───┼───┤\n",
      "│ ◎ │ △ │ ◎ │ ◎ │ △ │ ♦ │ ♦ │ ♦ │ ♦ │ ♦ │ ♦ │ ♦ │ ♦ │ △ │ △ │ △ │ △ │ ◎ │ ◎ │ ◎ │\n",
      "├───┼───┼───┼───┼───┼───┼───┼───┼───┼───┼───┼───┼───┼───┼───┼───┼───┼───┼───┼───┤\n",
      "│ △ │ △ │ ◎ │ ◎ │ △ │ △ │ △ │ △ │ △ │ △ │ ◎ │ △ │ △ │ ◎ │ ◎ │ △ │ ◎ │ △ │ △ │ △ │\n",
      "└───┴───┴───┴───┴───┴───┴───┴───┴───┴───┴───┴───┴───┴───┴───┴───┴───┴───┴───┴───┘\n"
     ]
    }
   ],
   "source": [
    "pattern = create_background(20, 10, 2)\n",
    "# add a square to the pattern at coordinates x and y,\n",
    "# of size 8 using symbol at index 14\n",
    "pattern = add_square(pattern, 1, 5, 8, 14)\n",
    "cross_stitch.print_pattern(pattern)"
   ]
  },
  {
   "cell_type": "markdown",
   "id": "d91cc24b",
   "metadata": {},
   "source": [
    "### Add a rectangle to the pattern"
   ]
  },
  {
   "cell_type": "code",
   "execution_count": 70,
   "id": "66f2e07d",
   "metadata": {},
   "outputs": [],
   "source": [
    "def add_rectangle(pattern, x, y, width, height, symbol_idx):\n",
    "    symbol = cross_stitch.SYMBOLS[symbol_idx]\n",
    "    \n",
    "    for i in range(height):\n",
    "        current_x = x + i\n",
    "        if 0 <= current_x < len(pattern):\n",
    "            for j in range(width):\n",
    "                current_y = y + j\n",
    "                if 0 <= current_y < len(pattern[current_x]):\n",
    "                    pattern[current_x][current_y] = symbol\n",
    "    return pattern"
   ]
  },
  {
   "cell_type": "code",
   "execution_count": 71,
   "id": "584840c5",
   "metadata": {},
   "outputs": [
    {
     "name": "stdout",
     "output_type": "stream",
     "text": [
      "┌───┬───┬───┬───┬───┬───┬───┬───┬───┬───┬───┬───┬───┬───┬───┬───┬───┬───┬───┬───┐\n",
      "│ ◎ │ △ │ ◎ │ △ │ △ │ ◎ │ ◎ │ △ │ △ │ △ │ ◎ │ ◎ │ ◎ │ △ │ △ │ ◎ │ ◎ │ ◎ │ △ │ ◎ │\n",
      "├───┼───┼───┼───┼───┼───┼───┼───┼───┼───┼───┼───┼───┼───┼───┼───┼───┼───┼───┼───┤\n",
      "│ △ │ ◎ │ ◎ │ △ │ △ │ ◎ │ ◎ │ ◎ │ ◎ │ ◎ │ ◎ │ △ │ △ │ △ │ △ │ △ │ ◎ │ △ │ △ │ △ │\n",
      "├───┼───┼───┼───┼───┼───┼───┼───┼───┼───┼───┼───┼───┼───┼───┼───┼───┼───┼───┼───┤\n",
      "│ ◎ │ △ │ ◎ │ ▣ │ ▣ │ ▣ │ ▣ │ ▣ │ ◎ │ ◎ │ ◎ │ △ │ △ │ ◎ │ △ │ △ │ △ │ ◎ │ △ │ △ │\n",
      "├───┼───┼───┼───┼───┼───┼───┼───┼───┼───┼───┼───┼───┼───┼───┼───┼───┼───┼───┼───┤\n",
      "│ △ │ ◎ │ ◎ │ ▣ │ ▣ │ ▣ │ ▣ │ ▣ │ △ │ ◎ │ △ │ △ │ ◎ │ △ │ ◎ │ ◎ │ △ │ △ │ △ │ ◎ │\n",
      "├───┼───┼───┼───┼───┼───┼───┼───┼───┼───┼───┼───┼───┼───┼───┼───┼───┼───┼───┼───┤\n",
      "│ ◎ │ ◎ │ △ │ ▣ │ ▣ │ ▣ │ ▣ │ ▣ │ △ │ △ │ ◎ │ ◎ │ ◎ │ △ │ ◎ │ ◎ │ △ │ ◎ │ △ │ ◎ │\n",
      "├───┼───┼───┼───┼───┼───┼───┼───┼───┼───┼───┼───┼───┼───┼───┼───┼───┼───┼───┼───┤\n",
      "│ △ │ ◎ │ △ │ △ │ △ │ ◎ │ △ │ △ │ △ │ ◎ │ ◎ │ △ │ ◎ │ ◎ │ △ │ ◎ │ ◎ │ ◎ │ △ │ △ │\n",
      "├───┼───┼───┼───┼───┼───┼───┼───┼───┼───┼───┼───┼───┼───┼───┼───┼───┼───┼───┼───┤\n",
      "│ ◎ │ △ │ △ │ △ │ ◎ │ △ │ ◎ │ ◎ │ △ │ △ │ ◎ │ ◎ │ △ │ ◎ │ △ │ △ │ △ │ △ │ △ │ ◎ │\n",
      "├───┼───┼───┼───┼───┼───┼───┼───┼───┼───┼───┼───┼───┼───┼───┼───┼───┼───┼───┼───┤\n",
      "│ ◎ │ △ │ ◎ │ △ │ ◎ │ △ │ ◎ │ △ │ ◎ │ △ │ ◎ │ ◎ │ △ │ △ │ △ │ ◎ │ ◎ │ ◎ │ ◎ │ ◎ │\n",
      "├───┼───┼───┼───┼───┼───┼───┼───┼───┼───┼───┼───┼───┼───┼───┼───┼───┼───┼───┼───┤\n",
      "│ ◎ │ △ │ ◎ │ ◎ │ △ │ ◎ │ △ │ ◎ │ ◎ │ △ │ △ │ △ │ ◎ │ △ │ △ │ △ │ △ │ ◎ │ ◎ │ ◎ │\n",
      "├───┼───┼───┼───┼───┼───┼───┼───┼───┼───┼───┼───┼───┼───┼───┼───┼───┼───┼───┼───┤\n",
      "│ △ │ △ │ ◎ │ ◎ │ △ │ △ │ △ │ △ │ △ │ △ │ ◎ │ △ │ △ │ ◎ │ ◎ │ △ │ ◎ │ △ │ △ │ △ │\n",
      "└───┴───┴───┴───┴───┴───┴───┴───┴───┴───┴───┴───┴───┴───┴───┴───┴───┴───┴───┴───┘\n"
     ]
    }
   ],
   "source": [
    "pattern = create_background(20, 10, 2)\n",
    "# add a rectangle to the pattern at coordinates x and y,\n",
    "# of width 5 and height 3, using the symbol at index 4\n",
    "add_rectangle(pattern, 2, 3, 5, 3, 4)\n",
    "cross_stitch.print_pattern(pattern)"
   ]
  },
  {
   "cell_type": "markdown",
   "id": "30543e18",
   "metadata": {},
   "source": [
    "### Add four different triangles to the pattern"
   ]
  },
  {
   "cell_type": "code",
   "execution_count": 69,
   "id": "1a3802ce",
   "metadata": {},
   "outputs": [],
   "source": [
    "def add_triangle_a(pattern, x, y, size, symbol_idx):\n",
    "    symbol = cross_stitch.SYMBOLS[symbol_idx]\n",
    "    \n",
    "    for i in range(size):\n",
    "        current_x = x + i\n",
    "        if 0 <= current_x < len(pattern):\n",
    "            for j in range(i + 1):\n",
    "                current_y = y + j\n",
    "                if 0 <= current_y < len(pattern[current_x]):\n",
    "                    pattern[current_x][current_y] = symbol\n",
    "    return pattern"
   ]
  },
  {
   "cell_type": "code",
   "execution_count": 72,
   "id": "9f8a0d57",
   "metadata": {},
   "outputs": [
    {
     "name": "stdout",
     "output_type": "stream",
     "text": [
      "┌───┬───┬───┬───┬───┬───┬───┬───┬───┬───┐\n",
      "│ ◎ │ ◎ │ ◎ │ ◎ │ ◎ │ ◎ │ ◎ │ ◎ │ ◎ │ ◎ │\n",
      "├───┼───┼───┼───┼───┼───┼───┼───┼───┼───┤\n",
      "│ ◎ │ ◎ │ ◎ │ ◎ │ ◎ │ ◎ │ ◎ │ ◎ │ ◎ │ ◎ │\n",
      "├───┼───┼───┼───┼───┼───┼───┼───┼───┼───┤\n",
      "│ ◎ │ ◎ │ ◘ │ ◎ │ ◎ │ ◎ │ ◎ │ ◎ │ ◎ │ ◎ │\n",
      "├───┼───┼───┼───┼───┼───┼───┼───┼───┼───┤\n",
      "│ ◎ │ ◎ │ ◘ │ ◘ │ ◎ │ ◎ │ ◎ │ ◎ │ ◎ │ ◎ │\n",
      "├───┼───┼───┼───┼───┼───┼───┼───┼───┼───┤\n",
      "│ ◎ │ ◎ │ ◘ │ ◘ │ ◘ │ ◎ │ ◎ │ ◎ │ ◎ │ ◎ │\n",
      "├───┼───┼───┼───┼───┼───┼───┼───┼───┼───┤\n",
      "│ ◎ │ ◎ │ ◘ │ ◘ │ ◘ │ ◘ │ ◎ │ ◎ │ ◎ │ ◎ │\n",
      "├───┼───┼───┼───┼───┼───┼───┼───┼───┼───┤\n",
      "│ ◎ │ ◎ │ ◘ │ ◘ │ ◘ │ ◘ │ ◘ │ ◎ │ ◎ │ ◎ │\n",
      "├───┼───┼───┼───┼───┼───┼───┼───┼───┼───┤\n",
      "│ ◎ │ ◎ │ ◘ │ ◘ │ ◘ │ ◘ │ ◘ │ ◘ │ ◎ │ ◎ │\n",
      "├───┼───┼───┼───┼───┼───┼───┼───┼───┼───┤\n",
      "│ ◎ │ ◎ │ ◎ │ ◎ │ ◎ │ ◎ │ ◎ │ ◎ │ ◎ │ ◎ │\n",
      "├───┼───┼───┼───┼───┼───┼───┼───┼───┼───┤\n",
      "│ ◎ │ ◎ │ ◎ │ ◎ │ ◎ │ ◎ │ ◎ │ ◎ │ ◎ │ ◎ │\n",
      "└───┴───┴───┴───┴───┴───┴───┴───┴───┴───┘\n"
     ]
    }
   ],
   "source": [
    "pattern = create_background(10, 10, 1)\n",
    "# add a triangle to the pattern at coordinates x and y,\n",
    "# of size 6, using the symbol at index 17\n",
    "# the first 2 is x, the second 2 is y\n",
    "add_triangle_a(pattern, 2, 2, 6, 17)\n",
    "cross_stitch.print_pattern(pattern)"
   ]
  },
  {
   "cell_type": "code",
   "execution_count": 73,
   "id": "ac922392",
   "metadata": {},
   "outputs": [],
   "source": [
    "def add_triangle_b(pattern, x, y, size, symbol_idx):\n",
    "    symbol = cross_stitch.SYMBOLS[symbol_idx]\n",
    "    \n",
    "    for i in range(size):\n",
    "        current_x = x + i\n",
    "        if 0 <= current_x < len(pattern):\n",
    "            for j in range(size - i):\n",
    "                current_y = y + j\n",
    "                if 0 <= current_y < len(pattern[current_x]):\n",
    "                    pattern[current_x][current_y] = symbol\n",
    "    return pattern"
   ]
  },
  {
   "cell_type": "code",
   "execution_count": 74,
   "id": "af3f30a3",
   "metadata": {},
   "outputs": [
    {
     "name": "stdout",
     "output_type": "stream",
     "text": [
      "┌───┬───┬───┬───┬───┬───┬───┬───┬───┬───┐\n",
      "│ ◎ │ ◎ │ ◎ │ ◎ │ ◎ │ ◎ │ ◎ │ ◎ │ ◎ │ ◎ │\n",
      "├───┼───┼───┼───┼───┼───┼───┼───┼───┼───┤\n",
      "│ ◎ │ ◎ │ ◎ │ ◎ │ ◎ │ ◎ │ ◎ │ ◎ │ ◎ │ ◎ │\n",
      "├───┼───┼───┼───┼───┼───┼───┼───┼───┼───┤\n",
      "│ ◎ │ ◎ │ ◘ │ ◘ │ ◘ │ ◘ │ ◘ │ ◘ │ ◎ │ ◎ │\n",
      "├───┼───┼───┼───┼───┼───┼───┼───┼───┼───┤\n",
      "│ ◎ │ ◎ │ ◘ │ ◘ │ ◘ │ ◘ │ ◘ │ ◎ │ ◎ │ ◎ │\n",
      "├───┼───┼───┼───┼───┼───┼───┼───┼───┼───┤\n",
      "│ ◎ │ ◎ │ ◘ │ ◘ │ ◘ │ ◘ │ ◎ │ ◎ │ ◎ │ ◎ │\n",
      "├───┼───┼───┼───┼───┼───┼───┼───┼───┼───┤\n",
      "│ ◎ │ ◎ │ ◘ │ ◘ │ ◘ │ ◎ │ ◎ │ ◎ │ ◎ │ ◎ │\n",
      "├───┼───┼───┼───┼───┼───┼───┼───┼───┼───┤\n",
      "│ ◎ │ ◎ │ ◘ │ ◘ │ ◎ │ ◎ │ ◎ │ ◎ │ ◎ │ ◎ │\n",
      "├───┼───┼───┼───┼───┼───┼───┼───┼───┼───┤\n",
      "│ ◎ │ ◎ │ ◘ │ ◎ │ ◎ │ ◎ │ ◎ │ ◎ │ ◎ │ ◎ │\n",
      "├───┼───┼───┼───┼───┼───┼───┼───┼───┼───┤\n",
      "│ ◎ │ ◎ │ ◎ │ ◎ │ ◎ │ ◎ │ ◎ │ ◎ │ ◎ │ ◎ │\n",
      "├───┼───┼───┼───┼───┼───┼───┼───┼───┼───┤\n",
      "│ ◎ │ ◎ │ ◎ │ ◎ │ ◎ │ ◎ │ ◎ │ ◎ │ ◎ │ ◎ │\n",
      "└───┴───┴───┴───┴───┴───┴───┴───┴───┴───┘\n"
     ]
    }
   ],
   "source": [
    "pattern = create_background(10, 10, 1)\n",
    "# add a triangle to the pattern at coordinates x and y,\n",
    "# of size 6, using the symbol at index 17\n",
    "add_triangle_b(pattern, 2, 2, 6, 17)\n",
    "cross_stitch.print_pattern(pattern)"
   ]
  },
  {
   "cell_type": "code",
   "execution_count": null,
   "id": "026a8aef",
   "metadata": {},
   "outputs": [],
   "source": [
    "def add_triangle_c(pattern, x, y, size, symbol_idx):\n",
    "    symbol = cross_stitch.SYMBOLS[symbol_idx]\n",
    "    for i in range(size):\n",
    "        current_x = x + i\n",
    "        if 0 <= current_x < len(pattern):\n",
    "            for j in range(size - i, size):\n",
    "                current_y = y + j\n",
    "                if 0 <= current_y < len(pattern[current_x]):\n",
    "                    pattern[current_x][current_y] = symbol\n",
    "    return pattern\n"
   ]
  },
  {
   "cell_type": "code",
   "execution_count": 80,
   "id": "ceafe02f",
   "metadata": {},
   "outputs": [
    {
     "name": "stdout",
     "output_type": "stream",
     "text": [
      "┌───┬───┬───┬───┬───┬───┬───┬───┬───┬───┐\n",
      "│ ◎ │ ◎ │ ◎ │ ◎ │ ◎ │ ◎ │ ◎ │ ◎ │ ◎ │ ◎ │\n",
      "├───┼───┼───┼───┼───┼───┼───┼───┼───┼───┤\n",
      "│ ◎ │ ◎ │ ◎ │ ◎ │ ◎ │ ◎ │ ◎ │ ◎ │ ◎ │ ◎ │\n",
      "├───┼───┼───┼───┼───┼───┼───┼───┼───┼───┤\n",
      "│ ◎ │ ◎ │ ◎ │ ◎ │ ◎ │ ◎ │ ◎ │ ◎ │ ◎ │ ◎ │\n",
      "├───┼───┼───┼───┼───┼───┼───┼───┼───┼───┤\n",
      "│ ◎ │ ◎ │ ◎ │ ◎ │ ◎ │ ◎ │ ◎ │ ◘ │ ◎ │ ◎ │\n",
      "├───┼───┼───┼───┼───┼───┼───┼───┼───┼───┤\n",
      "│ ◎ │ ◎ │ ◎ │ ◎ │ ◎ │ ◎ │ ◘ │ ◘ │ ◎ │ ◎ │\n",
      "├───┼───┼───┼───┼───┼───┼───┼───┼───┼───┤\n",
      "│ ◎ │ ◎ │ ◎ │ ◎ │ ◎ │ ◘ │ ◘ │ ◘ │ ◎ │ ◎ │\n",
      "├───┼───┼───┼───┼───┼───┼───┼───┼───┼───┤\n",
      "│ ◎ │ ◎ │ ◎ │ ◎ │ ◘ │ ◘ │ ◘ │ ◘ │ ◎ │ ◎ │\n",
      "├───┼───┼───┼───┼───┼───┼───┼───┼───┼───┤\n",
      "│ ◎ │ ◎ │ ◎ │ ◘ │ ◘ │ ◘ │ ◘ │ ◘ │ ◎ │ ◎ │\n",
      "├───┼───┼───┼───┼───┼───┼───┼───┼───┼───┤\n",
      "│ ◎ │ ◎ │ ◎ │ ◎ │ ◎ │ ◎ │ ◎ │ ◎ │ ◎ │ ◎ │\n",
      "├───┼───┼───┼───┼───┼───┼───┼───┼───┼───┤\n",
      "│ ◎ │ ◎ │ ◎ │ ◎ │ ◎ │ ◎ │ ◎ │ ◎ │ ◎ │ ◎ │\n",
      "└───┴───┴───┴───┴───┴───┴───┴───┴───┴───┘\n"
     ]
    }
   ],
   "source": [
    "pattern = create_background(10, 10, 1)\n",
    "# add a triangle to the pattern at coordinates x and y,\n",
    "# of size 6, using the symbol at index 17\n",
    "add_triangle_c(pattern, 2, 2, 6, 17)\n",
    "cross_stitch.print_pattern(pattern)"
   ]
  },
  {
   "cell_type": "code",
   "execution_count": 81,
   "id": "93126ab3",
   "metadata": {},
   "outputs": [],
   "source": [
    "def add_triangle_d(pattern, x, y, size, symbol_idx):\n",
    "    symbol = cross_stitch.SYMBOLS[symbol_idx]\n",
    "    \n",
    "    for i in range(size):\n",
    "        current_x = x + i\n",
    "        if 0 <= current_x < len(pattern):\n",
    "            for j in range(i, size):\n",
    "                current_y = y + j\n",
    "                if 0 <= current_y < len(pattern[current_x]):\n",
    "                    pattern[current_x][current_y] = symbol\n",
    "    return pattern"
   ]
  },
  {
   "cell_type": "code",
   "execution_count": 82,
   "id": "e35ae118",
   "metadata": {},
   "outputs": [
    {
     "name": "stdout",
     "output_type": "stream",
     "text": [
      "┌───┬───┬───┬───┬───┬───┬───┬───┬───┬───┐\n",
      "│ ◎ │ ◎ │ ◎ │ ◎ │ ◎ │ ◎ │ ◎ │ ◎ │ ◎ │ ◎ │\n",
      "├───┼───┼───┼───┼───┼───┼───┼───┼───┼───┤\n",
      "│ ◎ │ ◎ │ ◎ │ ◎ │ ◎ │ ◎ │ ◎ │ ◎ │ ◎ │ ◎ │\n",
      "├───┼───┼───┼───┼───┼───┼───┼───┼───┼───┤\n",
      "│ ◎ │ ◎ │ ◘ │ ◘ │ ◘ │ ◘ │ ◘ │ ◘ │ ◎ │ ◎ │\n",
      "├───┼───┼───┼───┼───┼───┼───┼───┼───┼───┤\n",
      "│ ◎ │ ◎ │ ◎ │ ◘ │ ◘ │ ◘ │ ◘ │ ◘ │ ◎ │ ◎ │\n",
      "├───┼───┼───┼───┼───┼───┼───┼───┼───┼───┤\n",
      "│ ◎ │ ◎ │ ◎ │ ◎ │ ◘ │ ◘ │ ◘ │ ◘ │ ◎ │ ◎ │\n",
      "├───┼───┼───┼───┼───┼───┼───┼───┼───┼───┤\n",
      "│ ◎ │ ◎ │ ◎ │ ◎ │ ◎ │ ◘ │ ◘ │ ◘ │ ◎ │ ◎ │\n",
      "├───┼───┼───┼───┼───┼───┼───┼───┼───┼───┤\n",
      "│ ◎ │ ◎ │ ◎ │ ◎ │ ◎ │ ◎ │ ◘ │ ◘ │ ◎ │ ◎ │\n",
      "├───┼───┼───┼───┼───┼───┼───┼───┼───┼───┤\n",
      "│ ◎ │ ◎ │ ◎ │ ◎ │ ◎ │ ◎ │ ◎ │ ◘ │ ◎ │ ◎ │\n",
      "├───┼───┼───┼───┼───┼───┼───┼───┼───┼───┤\n",
      "│ ◎ │ ◎ │ ◎ │ ◎ │ ◎ │ ◎ │ ◎ │ ◎ │ ◎ │ ◎ │\n",
      "├───┼───┼───┼───┼───┼───┼───┼───┼───┼───┤\n",
      "│ ◎ │ ◎ │ ◎ │ ◎ │ ◎ │ ◎ │ ◎ │ ◎ │ ◎ │ ◎ │\n",
      "└───┴───┴───┴───┴───┴───┴───┴───┴───┴───┘\n"
     ]
    }
   ],
   "source": [
    "pattern = create_background(10, 10, 1)\n",
    "# add a triangle to the pattern at coordinates x and y,\n",
    "# of size 6, using the symbol at index 17\n",
    "add_triangle_d(pattern, 2, 2, 6, 17)\n",
    "cross_stitch.print_pattern(pattern)"
   ]
  }
 ],
 "metadata": {
  "kernelspec": {
   "display_name": "base",
   "language": "python",
   "name": "python3"
  },
  "language_info": {
   "codemirror_mode": {
    "name": "ipython",
    "version": 3
   },
   "file_extension": ".py",
   "mimetype": "text/x-python",
   "name": "python",
   "nbconvert_exporter": "python",
   "pygments_lexer": "ipython3",
   "version": "3.12.8"
  }
 },
 "nbformat": 4,
 "nbformat_minor": 5
}
